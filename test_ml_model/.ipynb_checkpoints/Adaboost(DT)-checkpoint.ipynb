{
 "cells": [
  {
   "cell_type": "markdown",
   "id": "5ec73d0f",
   "metadata": {},
   "source": [
    "# Modèle Adaboost(Decision Tree)"
   ]
  },
  {
   "cell_type": "markdown",
   "id": "6e6b37d2",
   "metadata": {},
   "source": [
    "Cours n°4 ML 2I, page 42, supervised learning"
   ]
  }
 ],
 "metadata": {
  "kernelspec": {
   "display_name": "Python 3 (ipykernel)",
   "language": "python",
   "name": "python3"
  },
  "language_info": {
   "codemirror_mode": {
    "name": "ipython",
    "version": 3
   },
   "file_extension": ".py",
   "mimetype": "text/x-python",
   "name": "python",
   "nbconvert_exporter": "python",
   "pygments_lexer": "ipython3",
   "version": "3.10.7"
  }
 },
 "nbformat": 4,
 "nbformat_minor": 5
}
