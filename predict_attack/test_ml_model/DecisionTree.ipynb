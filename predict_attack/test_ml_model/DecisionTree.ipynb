{
 "cells": [
  {
   "cell_type": "code",
   "execution_count": 1,
   "id": "e9990419",
   "metadata": {},
   "outputs": [],
   "source": [
    "import pandas as pd\n",
    "import numpy as np\n",
    "\n",
    "# Graph\n",
    "import plotly.express as px\n",
    "import matplotlib.pyplot as plt\n",
    "\n",
    "# Keras\n",
    "from keras.models import Sequential\n",
    "from keras.layers import Dense\n",
    "from keras import callbacks\n",
    "\n",
    "# sklearn\n",
    "from sklearn.preprocessing import StandardScaler\n",
    "from sklearn.model_selection import train_test_split\n",
    "from sklearn.metrics import accuracy_score\n",
    "\n",
    "from sklearn.ensemble import RandomForestClassifier\n",
    "from sklearn.kernel_ridge import KernelRidge\n",
    "from sklearn.linear_model import SGDClassifier, ElasticNet, BayesianRidge\n",
    "from sklearn.multiclass import OutputCodeClassifier\n",
    "from sklearn.naive_bayes import GaussianNB\n",
    "from sklearn.neural_network import MLPClassifier\n",
    "from sklearn.pipeline import make_pipeline\n",
    "from sklearn.svm import SVC, LinearSVC\n",
    "from sklearn.tree import DecisionTreeClassifier"
   ]
  },
  {
   "cell_type": "code",
   "execution_count": 10,
   "id": "22e8750a",
   "metadata": {},
   "outputs": [],
   "source": [
    "path = r\"D:/TRAVAIL/Inge_3/Projet - Prédiction du type d’application Internet dans le contexte de traffic chiffré/data/dataset_clean.csv\""
   ]
  },
  {
   "cell_type": "code",
   "execution_count": 11,
   "id": "17133fea",
   "metadata": {},
   "outputs": [],
   "source": [
    "TARGET = 'Label'"
   ]
  },
  {
   "cell_type": "code",
   "execution_count": 12,
   "id": "584b9569",
   "metadata": {},
   "outputs": [],
   "source": [
    "df = pd.read_csv(path)"
   ]
  },
  {
   "cell_type": "code",
   "execution_count": 24,
   "id": "38f1a8f6",
   "metadata": {},
   "outputs": [],
   "source": [
    "df = df[['Init_Win_bytes_forward',\n",
    "'Total Length of Fwd Packets',\n",
    "'Bwd Header Length',\n",
    "'Destination Port',\n",
    "'Subflow Fwd Bytes',\n",
    "'Packet Length Std',\n",
    "'Packet Length Variance',\n",
    "'Bwd Packets/s',\n",
    "'Average Packet Size',\n",
    "'Bwd Packet Length Std',\n",
    "         \"Label\"]]"
   ]
  },
  {
   "cell_type": "code",
   "execution_count": 25,
   "id": "31627bd8",
   "metadata": {},
   "outputs": [],
   "source": [
    "y = df[TARGET]\n",
    "X = df.drop([TARGET],axis=1)"
   ]
  },
  {
   "cell_type": "code",
   "execution_count": 26,
   "id": "470c0908",
   "metadata": {},
   "outputs": [],
   "source": [
    "X_train, X_test, y_train, y_test = train_test_split(X, y, test_size = 0.2)"
   ]
  },
  {
   "cell_type": "code",
   "execution_count": 36,
   "id": "a8540721",
   "metadata": {},
   "outputs": [],
   "source": [
    "model = DecisionTreeClassifier(max_depth=20)"
   ]
  },
  {
   "cell_type": "code",
   "execution_count": 37,
   "id": "948215ec",
   "metadata": {},
   "outputs": [],
   "source": [
    "history = model.fit(X_train, y_train)"
   ]
  },
  {
   "cell_type": "code",
   "execution_count": 38,
   "id": "e4163b6c",
   "metadata": {},
   "outputs": [
    {
     "name": "stdout",
     "output_type": "stream",
     "text": [
      "df test accuracy : 0.9960\n"
     ]
    }
   ],
   "source": [
    "y_pred = model.predict(X_test)\n",
    "acc_dt = accuracy_score(y_test, y_pred)\n",
    "print(\"df test accuracy : {:.4f}\".format(acc_dt))\n"
   ]
  },
  {
   "cell_type": "code",
   "execution_count": null,
   "id": "393d5e61",
   "metadata": {},
   "outputs": [],
   "source": [
    "# 0.9804 1er essai\n",
    "\n",
    "#  0.9887 avec toute les colonnes\n",
    "# 0.9960"
   ]
  }
 ],
 "metadata": {
  "kernelspec": {
   "display_name": "Python 3 (ipykernel)",
   "language": "python",
   "name": "python3"
  },
  "language_info": {
   "codemirror_mode": {
    "name": "ipython",
    "version": 3
   },
   "file_extension": ".py",
   "mimetype": "text/x-python",
   "name": "python",
   "nbconvert_exporter": "python",
   "pygments_lexer": "ipython3",
   "version": "3.9.7"
  }
 },
 "nbformat": 4,
 "nbformat_minor": 5
}
