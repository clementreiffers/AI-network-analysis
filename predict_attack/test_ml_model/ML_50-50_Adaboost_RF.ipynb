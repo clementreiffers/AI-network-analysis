{
 "cells": [
  {
   "cell_type": "code",
   "execution_count": 17,
   "id": "e9990419",
   "metadata": {},
   "outputs": [],
   "source": [
    "import pandas as pd\n",
    "from sklearn.ensemble import AdaBoostClassifier\n",
    "from sklearn.ensemble import RandomForestClassifier\n",
    "from sklearn.model_selection import train_test_split\n",
    "from sklearn.metrics import accuracy_score"
   ]
  },
  {
   "cell_type": "code",
   "execution_count": 18,
   "id": "22e8750a",
   "metadata": {},
   "outputs": [],
   "source": [
    "path = r\"C:\\Users\\sonia\\Documents\\Document\\2022-2023\\Projet 3I - Deep Learning\\dataset_clean.csv\"\n",
    "TARGET = 'Label'"
   ]
  },
  {
   "cell_type": "code",
   "execution_count": 19,
   "id": "584b9569",
   "metadata": {},
   "outputs": [],
   "source": [
    "df = pd.read_csv(path)"
   ]
  },
  {
   "cell_type": "code",
   "execution_count": 20,
   "id": "38f1a8f6",
   "metadata": {},
   "outputs": [],
   "source": [
    "df = df[['Init_Win_bytes_forward',\n",
    "'Total Length of Fwd Packets',\n",
    "'Bwd Header Length',\n",
    "'Destination Port',\n",
    "'Subflow Fwd Bytes',\n",
    "'Packet Length Std',\n",
    "'Packet Length Variance',\n",
    "'Bwd Packets/s',\n",
    "'Average Packet Size',\n",
    "'Bwd Packet Length Std',\n",
    "         \"Label\"]]"
   ]
  },
  {
   "cell_type": "code",
   "execution_count": 21,
   "id": "ed1bae5a",
   "metadata": {},
   "outputs": [
    {
     "data": {
      "text/html": [
       "<div>\n",
       "<style scoped>\n",
       "    .dataframe tbody tr th:only-of-type {\n",
       "        vertical-align: middle;\n",
       "    }\n",
       "\n",
       "    .dataframe tbody tr th {\n",
       "        vertical-align: top;\n",
       "    }\n",
       "\n",
       "    .dataframe thead th {\n",
       "        text-align: right;\n",
       "    }\n",
       "</style>\n",
       "<table border=\"1\" class=\"dataframe\">\n",
       "  <thead>\n",
       "    <tr style=\"text-align: right;\">\n",
       "      <th></th>\n",
       "      <th>Init_Win_bytes_forward</th>\n",
       "      <th>Total Length of Fwd Packets</th>\n",
       "      <th>Bwd Header Length</th>\n",
       "      <th>Destination Port</th>\n",
       "      <th>Subflow Fwd Bytes</th>\n",
       "      <th>Packet Length Std</th>\n",
       "      <th>Packet Length Variance</th>\n",
       "      <th>Bwd Packets/s</th>\n",
       "      <th>Average Packet Size</th>\n",
       "      <th>Bwd Packet Length Std</th>\n",
       "      <th>Label</th>\n",
       "    </tr>\n",
       "  </thead>\n",
       "  <tbody>\n",
       "    <tr>\n",
       "      <th>0</th>\n",
       "      <td>-1</td>\n",
       "      <td>68</td>\n",
       "      <td>40</td>\n",
       "      <td>53</td>\n",
       "      <td>68</td>\n",
       "      <td>54.224533</td>\n",
       "      <td>2940.3</td>\n",
       "      <td>12578.616350</td>\n",
       "      <td>92.00</td>\n",
       "      <td>0.0</td>\n",
       "      <td>1</td>\n",
       "    </tr>\n",
       "    <tr>\n",
       "      <th>1</th>\n",
       "      <td>-1</td>\n",
       "      <td>90</td>\n",
       "      <td>64</td>\n",
       "      <td>53</td>\n",
       "      <td>90</td>\n",
       "      <td>20.813457</td>\n",
       "      <td>433.2</td>\n",
       "      <td>38.704933</td>\n",
       "      <td>75.25</td>\n",
       "      <td>0.0</td>\n",
       "      <td>1</td>\n",
       "    </tr>\n",
       "    <tr>\n",
       "      <th>2</th>\n",
       "      <td>29200</td>\n",
       "      <td>0</td>\n",
       "      <td>20</td>\n",
       "      <td>7496</td>\n",
       "      <td>0</td>\n",
       "      <td>3.464102</td>\n",
       "      <td>12.0</td>\n",
       "      <td>23255.813950</td>\n",
       "      <td>3.00</td>\n",
       "      <td>0.0</td>\n",
       "      <td>0</td>\n",
       "    </tr>\n",
       "    <tr>\n",
       "      <th>3</th>\n",
       "      <td>440</td>\n",
       "      <td>6</td>\n",
       "      <td>20</td>\n",
       "      <td>46564</td>\n",
       "      <td>6</td>\n",
       "      <td>0.000000</td>\n",
       "      <td>0.0</td>\n",
       "      <td>16393.442620</td>\n",
       "      <td>9.00</td>\n",
       "      <td>0.0</td>\n",
       "      <td>1</td>\n",
       "    </tr>\n",
       "    <tr>\n",
       "      <th>4</th>\n",
       "      <td>251</td>\n",
       "      <td>0</td>\n",
       "      <td>0</td>\n",
       "      <td>80</td>\n",
       "      <td>0</td>\n",
       "      <td>0.000000</td>\n",
       "      <td>0.0</td>\n",
       "      <td>0.000000</td>\n",
       "      <td>0.00</td>\n",
       "      <td>0.0</td>\n",
       "      <td>1</td>\n",
       "    </tr>\n",
       "  </tbody>\n",
       "</table>\n",
       "</div>"
      ],
      "text/plain": [
       "   Init_Win_bytes_forward  Total Length of Fwd Packets  Bwd Header Length  \\\n",
       "0                      -1                           68                 40   \n",
       "1                      -1                           90                 64   \n",
       "2                   29200                            0                 20   \n",
       "3                     440                            6                 20   \n",
       "4                     251                            0                  0   \n",
       "\n",
       "   Destination Port  Subflow Fwd Bytes  Packet Length Std  \\\n",
       "0                53                 68          54.224533   \n",
       "1                53                 90          20.813457   \n",
       "2              7496                  0           3.464102   \n",
       "3             46564                  6           0.000000   \n",
       "4                80                  0           0.000000   \n",
       "\n",
       "   Packet Length Variance  Bwd Packets/s  Average Packet Size  \\\n",
       "0                  2940.3   12578.616350                92.00   \n",
       "1                   433.2      38.704933                75.25   \n",
       "2                    12.0   23255.813950                 3.00   \n",
       "3                     0.0   16393.442620                 9.00   \n",
       "4                     0.0       0.000000                 0.00   \n",
       "\n",
       "   Bwd Packet Length Std  Label  \n",
       "0                    0.0      1  \n",
       "1                    0.0      1  \n",
       "2                    0.0      0  \n",
       "3                    0.0      1  \n",
       "4                    0.0      1  "
      ]
     },
     "execution_count": 21,
     "metadata": {},
     "output_type": "execute_result"
    }
   ],
   "source": [
    "df.head()"
   ]
  },
  {
   "cell_type": "code",
   "execution_count": 22,
   "id": "c8b19b27",
   "metadata": {},
   "outputs": [
    {
     "data": {
      "text/html": [
       "<div>\n",
       "<style scoped>\n",
       "    .dataframe tbody tr th:only-of-type {\n",
       "        vertical-align: middle;\n",
       "    }\n",
       "\n",
       "    .dataframe tbody tr th {\n",
       "        vertical-align: top;\n",
       "    }\n",
       "\n",
       "    .dataframe thead th {\n",
       "        text-align: right;\n",
       "    }\n",
       "</style>\n",
       "<table border=\"1\" class=\"dataframe\">\n",
       "  <thead>\n",
       "    <tr style=\"text-align: right;\">\n",
       "      <th></th>\n",
       "      <th>Init_Win_bytes_forward</th>\n",
       "      <th>Total Length of Fwd Packets</th>\n",
       "      <th>Bwd Header Length</th>\n",
       "      <th>Destination Port</th>\n",
       "      <th>Subflow Fwd Bytes</th>\n",
       "      <th>Packet Length Std</th>\n",
       "      <th>Packet Length Variance</th>\n",
       "      <th>Bwd Packets/s</th>\n",
       "      <th>Average Packet Size</th>\n",
       "      <th>Bwd Packet Length Std</th>\n",
       "      <th>Label</th>\n",
       "    </tr>\n",
       "  </thead>\n",
       "  <tbody>\n",
       "    <tr>\n",
       "      <th>count</th>\n",
       "      <td>24747.000000</td>\n",
       "      <td>2.474700e+04</td>\n",
       "      <td>2.474700e+04</td>\n",
       "      <td>24747.000000</td>\n",
       "      <td>2.474700e+04</td>\n",
       "      <td>24747.000000</td>\n",
       "      <td>2.474700e+04</td>\n",
       "      <td>24747.000000</td>\n",
       "      <td>24747.000000</td>\n",
       "      <td>24747.000000</td>\n",
       "      <td>24747.000000</td>\n",
       "    </tr>\n",
       "    <tr>\n",
       "      <th>mean</th>\n",
       "      <td>7147.320483</td>\n",
       "      <td>5.938086e+02</td>\n",
       "      <td>3.788556e+02</td>\n",
       "      <td>8902.282176</td>\n",
       "      <td>5.938086e+02</td>\n",
       "      <td>224.007815</td>\n",
       "      <td>3.010688e+05</td>\n",
       "      <td>6987.977061</td>\n",
       "      <td>159.900119</td>\n",
       "      <td>231.238145</td>\n",
       "      <td>0.909444</td>\n",
       "    </tr>\n",
       "    <tr>\n",
       "      <th>std</th>\n",
       "      <td>14857.013084</td>\n",
       "      <td>7.826002e+03</td>\n",
       "      <td>3.269787e+04</td>\n",
       "      <td>19203.186702</td>\n",
       "      <td>7.826002e+03</td>\n",
       "      <td>500.900499</td>\n",
       "      <td>1.251259e+06</td>\n",
       "      <td>39477.504710</td>\n",
       "      <td>275.068647</td>\n",
       "      <td>628.988988</td>\n",
       "      <td>0.286983</td>\n",
       "    </tr>\n",
       "    <tr>\n",
       "      <th>min</th>\n",
       "      <td>-1.000000</td>\n",
       "      <td>0.000000e+00</td>\n",
       "      <td>0.000000e+00</td>\n",
       "      <td>0.000000</td>\n",
       "      <td>0.000000e+00</td>\n",
       "      <td>0.000000</td>\n",
       "      <td>0.000000e+00</td>\n",
       "      <td>0.000000</td>\n",
       "      <td>0.000000</td>\n",
       "      <td>0.000000</td>\n",
       "      <td>0.000000</td>\n",
       "    </tr>\n",
       "    <tr>\n",
       "      <th>25%</th>\n",
       "      <td>-1.000000</td>\n",
       "      <td>1.200000e+01</td>\n",
       "      <td>2.000000e+01</td>\n",
       "      <td>53.000000</td>\n",
       "      <td>1.200000e+01</td>\n",
       "      <td>2.190890</td>\n",
       "      <td>4.800000e+00</td>\n",
       "      <td>0.194312</td>\n",
       "      <td>9.000000</td>\n",
       "      <td>0.000000</td>\n",
       "      <td>1.000000</td>\n",
       "    </tr>\n",
       "    <tr>\n",
       "      <th>50%</th>\n",
       "      <td>235.000000</td>\n",
       "      <td>6.500000e+01</td>\n",
       "      <td>4.000000e+01</td>\n",
       "      <td>80.000000</td>\n",
       "      <td>6.500000e+01</td>\n",
       "      <td>27.933850</td>\n",
       "      <td>7.803000e+02</td>\n",
       "      <td>21.847179</td>\n",
       "      <td>74.750000</td>\n",
       "      <td>0.000000</td>\n",
       "      <td>1.000000</td>\n",
       "    </tr>\n",
       "    <tr>\n",
       "      <th>75%</th>\n",
       "      <td>8192.000000</td>\n",
       "      <td>1.870000e+02</td>\n",
       "      <td>9.200000e+01</td>\n",
       "      <td>443.000000</td>\n",
       "      <td>1.870000e+02</td>\n",
       "      <td>141.312420</td>\n",
       "      <td>1.996920e+04</td>\n",
       "      <td>6578.947368</td>\n",
       "      <td>138.240385</td>\n",
       "      <td>24.145171</td>\n",
       "      <td>1.000000</td>\n",
       "    </tr>\n",
       "    <tr>\n",
       "      <th>max</th>\n",
       "      <td>65535.000000</td>\n",
       "      <td>1.162781e+06</td>\n",
       "      <td>5.134800e+06</td>\n",
       "      <td>65464.000000</td>\n",
       "      <td>1.162781e+06</td>\n",
       "      <td>4380.487987</td>\n",
       "      <td>1.920000e+07</td>\n",
       "      <td>1000000.000000</td>\n",
       "      <td>2251.333333</td>\n",
       "      <td>6692.644993</td>\n",
       "      <td>1.000000</td>\n",
       "    </tr>\n",
       "  </tbody>\n",
       "</table>\n",
       "</div>"
      ],
      "text/plain": [
       "       Init_Win_bytes_forward  Total Length of Fwd Packets  Bwd Header Length  \\\n",
       "count            24747.000000                 2.474700e+04       2.474700e+04   \n",
       "mean              7147.320483                 5.938086e+02       3.788556e+02   \n",
       "std              14857.013084                 7.826002e+03       3.269787e+04   \n",
       "min                 -1.000000                 0.000000e+00       0.000000e+00   \n",
       "25%                 -1.000000                 1.200000e+01       2.000000e+01   \n",
       "50%                235.000000                 6.500000e+01       4.000000e+01   \n",
       "75%               8192.000000                 1.870000e+02       9.200000e+01   \n",
       "max              65535.000000                 1.162781e+06       5.134800e+06   \n",
       "\n",
       "       Destination Port  Subflow Fwd Bytes  Packet Length Std  \\\n",
       "count      24747.000000       2.474700e+04       24747.000000   \n",
       "mean        8902.282176       5.938086e+02         224.007815   \n",
       "std        19203.186702       7.826002e+03         500.900499   \n",
       "min            0.000000       0.000000e+00           0.000000   \n",
       "25%           53.000000       1.200000e+01           2.190890   \n",
       "50%           80.000000       6.500000e+01          27.933850   \n",
       "75%          443.000000       1.870000e+02         141.312420   \n",
       "max        65464.000000       1.162781e+06        4380.487987   \n",
       "\n",
       "       Packet Length Variance   Bwd Packets/s  Average Packet Size  \\\n",
       "count            2.474700e+04    24747.000000         24747.000000   \n",
       "mean             3.010688e+05     6987.977061           159.900119   \n",
       "std              1.251259e+06    39477.504710           275.068647   \n",
       "min              0.000000e+00        0.000000             0.000000   \n",
       "25%              4.800000e+00        0.194312             9.000000   \n",
       "50%              7.803000e+02       21.847179            74.750000   \n",
       "75%              1.996920e+04     6578.947368           138.240385   \n",
       "max              1.920000e+07  1000000.000000          2251.333333   \n",
       "\n",
       "       Bwd Packet Length Std         Label  \n",
       "count           24747.000000  24747.000000  \n",
       "mean              231.238145      0.909444  \n",
       "std               628.988988      0.286983  \n",
       "min                 0.000000      0.000000  \n",
       "25%                 0.000000      1.000000  \n",
       "50%                 0.000000      1.000000  \n",
       "75%                24.145171      1.000000  \n",
       "max              6692.644993      1.000000  "
      ]
     },
     "execution_count": 22,
     "metadata": {},
     "output_type": "execute_result"
    }
   ],
   "source": [
    "df.describe()"
   ]
  },
  {
   "cell_type": "code",
   "execution_count": 23,
   "id": "a2860fd3",
   "metadata": {},
   "outputs": [],
   "source": [
    "df_b = df[df['Label']==1]\n",
    "df_a = df[df['Label']==0]"
   ]
  },
  {
   "cell_type": "code",
   "execution_count": 24,
   "id": "6dab68a9",
   "metadata": {},
   "outputs": [
    {
     "data": {
      "text/plain": [
       "(2241, 11)"
      ]
     },
     "execution_count": 24,
     "metadata": {},
     "output_type": "execute_result"
    }
   ],
   "source": [
    "df_a.shape"
   ]
  },
  {
   "cell_type": "code",
   "execution_count": 25,
   "id": "0e8fa219",
   "metadata": {},
   "outputs": [
    {
     "data": {
      "text/plain": [
       "(22506, 11)"
      ]
     },
     "execution_count": 25,
     "metadata": {},
     "output_type": "execute_result"
    }
   ],
   "source": [
    "df_b.shape"
   ]
  },
  {
   "cell_type": "code",
   "execution_count": 26,
   "id": "59558cad",
   "metadata": {},
   "outputs": [],
   "source": [
    "df_b= df_b[0:2241]"
   ]
  },
  {
   "cell_type": "code",
   "execution_count": 27,
   "id": "68612869",
   "metadata": {},
   "outputs": [
    {
     "data": {
      "text/plain": [
       "(2241, 11)"
      ]
     },
     "execution_count": 27,
     "metadata": {},
     "output_type": "execute_result"
    }
   ],
   "source": [
    "df_b.shape"
   ]
  },
  {
   "cell_type": "code",
   "execution_count": 28,
   "id": "f187707b",
   "metadata": {},
   "outputs": [],
   "source": [
    "df = pd.concat([df_a, df_b], axis=0)"
   ]
  },
  {
   "cell_type": "code",
   "execution_count": 29,
   "id": "66ea8b12",
   "metadata": {},
   "outputs": [],
   "source": [
    "df = df.sample(frac=1)"
   ]
  },
  {
   "cell_type": "code",
   "execution_count": 30,
   "id": "31627bd8",
   "metadata": {},
   "outputs": [],
   "source": [
    "y = df[TARGET]\n",
    "X = df.drop([TARGET],axis=1)"
   ]
  },
  {
   "cell_type": "code",
   "execution_count": 31,
   "id": "470c0908",
   "metadata": {},
   "outputs": [],
   "source": [
    "X_train, X_test, y_train, y_test = train_test_split(X, y, test_size = 0.2)"
   ]
  },
  {
   "cell_type": "code",
   "execution_count": 32,
   "id": "a8540721",
   "metadata": {},
   "outputs": [],
   "source": [
    "rf = RandomForestClassifier(random_state=1, n_estimators=10)\n",
    "\n",
    "adb_clf = AdaBoostClassifier(base_estimator=rf, n_estimators=100)"
   ]
  },
  {
   "cell_type": "code",
   "execution_count": 33,
   "id": "948215ec",
   "metadata": {},
   "outputs": [],
   "source": [
    "dt = adb_clf.fit(X_train, y_train)"
   ]
  },
  {
   "cell_type": "code",
   "execution_count": 34,
   "id": "e4163b6c",
   "metadata": {},
   "outputs": [
    {
     "name": "stdout",
     "output_type": "stream",
     "text": [
      "df test accuracy : 0.9955\n"
     ]
    }
   ],
   "source": [
    "y_pred = adb_clf.predict(X_test)\n",
    "acc_dt = accuracy_score(y_test, y_pred)\n",
    "print(\"df test accuracy : {:.4f}\".format(acc_dt))\n"
   ]
  },
  {
   "cell_type": "code",
   "execution_count": null,
   "id": "3f2ddc7c",
   "metadata": {},
   "outputs": [],
   "source": []
  }
 ],
 "metadata": {
  "kernelspec": {
   "display_name": "Python 3 (ipykernel)",
   "language": "python",
   "name": "python3"
  },
  "language_info": {
   "codemirror_mode": {
    "name": "ipython",
    "version": 3
   },
   "file_extension": ".py",
   "mimetype": "text/x-python",
   "name": "python",
   "nbconvert_exporter": "python",
   "pygments_lexer": "ipython3",
   "version": "3.9.8"
  }
 },
 "nbformat": 4,
 "nbformat_minor": 5
}
