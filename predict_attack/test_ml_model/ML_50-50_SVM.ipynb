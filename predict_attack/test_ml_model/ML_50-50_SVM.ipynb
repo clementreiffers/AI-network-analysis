{
 "cells": [
  {
   "cell_type": "code",
   "execution_count": 1,
   "id": "e9990419",
   "metadata": {},
   "outputs": [],
   "source": [
    "from sklearn.svm import SVC\n",
    "from sklearn.model_selection import train_test_split\n",
    "from sklearn.metrics import accuracy_score\n",
    "import pandas as pd"
   ]
  },
  {
   "cell_type": "code",
   "execution_count": 2,
   "id": "22e8750a",
   "metadata": {},
   "outputs": [],
   "source": [
    "path = r\"C:\\Users\\sonia\\Documents\\Document\\2022-2023\\Projet 3I - Deep Learning\\dataset_clean.csv\"\n",
    "TARGET = 'Label'"
   ]
  },
  {
   "cell_type": "code",
   "execution_count": 3,
   "id": "584b9569",
   "metadata": {},
   "outputs": [],
   "source": [
    "df = pd.read_csv(path)"
   ]
  },
  {
   "cell_type": "code",
   "execution_count": 4,
   "id": "38f1a8f6",
   "metadata": {},
   "outputs": [],
   "source": [
    "df = df[['Init_Win_bytes_forward',\n",
    "'Total Length of Fwd Packets',\n",
    "'Bwd Header Length',\n",
    "'Destination Port',\n",
    "'Subflow Fwd Bytes',\n",
    "'Packet Length Std',\n",
    "'Packet Length Variance',\n",
    "'Bwd Packets/s',\n",
    "'Average Packet Size',\n",
    "'Bwd Packet Length Std',\n",
    "         \"Label\"]]"
   ]
  },
  {
   "cell_type": "code",
   "execution_count": 5,
   "id": "ed1bae5a",
   "metadata": {},
   "outputs": [
    {
     "data": {
      "text/html": [
       "<div>\n",
       "<style scoped>\n",
       "    .dataframe tbody tr th:only-of-type {\n",
       "        vertical-align: middle;\n",
       "    }\n",
       "\n",
       "    .dataframe tbody tr th {\n",
       "        vertical-align: top;\n",
       "    }\n",
       "\n",
       "    .dataframe thead th {\n",
       "        text-align: right;\n",
       "    }\n",
       "</style>\n",
       "<table border=\"1\" class=\"dataframe\">\n",
       "  <thead>\n",
       "    <tr style=\"text-align: right;\">\n",
       "      <th></th>\n",
       "      <th>Init_Win_bytes_forward</th>\n",
       "      <th>Total Length of Fwd Packets</th>\n",
       "      <th>Bwd Header Length</th>\n",
       "      <th>Destination Port</th>\n",
       "      <th>Subflow Fwd Bytes</th>\n",
       "      <th>Packet Length Std</th>\n",
       "      <th>Packet Length Variance</th>\n",
       "      <th>Bwd Packets/s</th>\n",
       "      <th>Average Packet Size</th>\n",
       "      <th>Bwd Packet Length Std</th>\n",
       "      <th>Label</th>\n",
       "    </tr>\n",
       "  </thead>\n",
       "  <tbody>\n",
       "    <tr>\n",
       "      <th>0</th>\n",
       "      <td>-1</td>\n",
       "      <td>68</td>\n",
       "      <td>40</td>\n",
       "      <td>53</td>\n",
       "      <td>68</td>\n",
       "      <td>54.224533</td>\n",
       "      <td>2940.3</td>\n",
       "      <td>12578.616350</td>\n",
       "      <td>92.00</td>\n",
       "      <td>0.0</td>\n",
       "      <td>1</td>\n",
       "    </tr>\n",
       "    <tr>\n",
       "      <th>1</th>\n",
       "      <td>-1</td>\n",
       "      <td>90</td>\n",
       "      <td>64</td>\n",
       "      <td>53</td>\n",
       "      <td>90</td>\n",
       "      <td>20.813457</td>\n",
       "      <td>433.2</td>\n",
       "      <td>38.704933</td>\n",
       "      <td>75.25</td>\n",
       "      <td>0.0</td>\n",
       "      <td>1</td>\n",
       "    </tr>\n",
       "    <tr>\n",
       "      <th>2</th>\n",
       "      <td>29200</td>\n",
       "      <td>0</td>\n",
       "      <td>20</td>\n",
       "      <td>7496</td>\n",
       "      <td>0</td>\n",
       "      <td>3.464102</td>\n",
       "      <td>12.0</td>\n",
       "      <td>23255.813950</td>\n",
       "      <td>3.00</td>\n",
       "      <td>0.0</td>\n",
       "      <td>0</td>\n",
       "    </tr>\n",
       "    <tr>\n",
       "      <th>3</th>\n",
       "      <td>440</td>\n",
       "      <td>6</td>\n",
       "      <td>20</td>\n",
       "      <td>46564</td>\n",
       "      <td>6</td>\n",
       "      <td>0.000000</td>\n",
       "      <td>0.0</td>\n",
       "      <td>16393.442620</td>\n",
       "      <td>9.00</td>\n",
       "      <td>0.0</td>\n",
       "      <td>1</td>\n",
       "    </tr>\n",
       "    <tr>\n",
       "      <th>4</th>\n",
       "      <td>251</td>\n",
       "      <td>0</td>\n",
       "      <td>0</td>\n",
       "      <td>80</td>\n",
       "      <td>0</td>\n",
       "      <td>0.000000</td>\n",
       "      <td>0.0</td>\n",
       "      <td>0.000000</td>\n",
       "      <td>0.00</td>\n",
       "      <td>0.0</td>\n",
       "      <td>1</td>\n",
       "    </tr>\n",
       "  </tbody>\n",
       "</table>\n",
       "</div>"
      ],
      "text/plain": [
       "   Init_Win_bytes_forward  Total Length of Fwd Packets  Bwd Header Length  \\\n",
       "0                      -1                           68                 40   \n",
       "1                      -1                           90                 64   \n",
       "2                   29200                            0                 20   \n",
       "3                     440                            6                 20   \n",
       "4                     251                            0                  0   \n",
       "\n",
       "   Destination Port  Subflow Fwd Bytes  Packet Length Std  \\\n",
       "0                53                 68          54.224533   \n",
       "1                53                 90          20.813457   \n",
       "2              7496                  0           3.464102   \n",
       "3             46564                  6           0.000000   \n",
       "4                80                  0           0.000000   \n",
       "\n",
       "   Packet Length Variance  Bwd Packets/s  Average Packet Size  \\\n",
       "0                  2940.3   12578.616350                92.00   \n",
       "1                   433.2      38.704933                75.25   \n",
       "2                    12.0   23255.813950                 3.00   \n",
       "3                     0.0   16393.442620                 9.00   \n",
       "4                     0.0       0.000000                 0.00   \n",
       "\n",
       "   Bwd Packet Length Std  Label  \n",
       "0                    0.0      1  \n",
       "1                    0.0      1  \n",
       "2                    0.0      0  \n",
       "3                    0.0      1  \n",
       "4                    0.0      1  "
      ]
     },
     "execution_count": 5,
     "metadata": {},
     "output_type": "execute_result"
    }
   ],
   "source": [
    "df.head()"
   ]
  },
  {
   "cell_type": "code",
   "execution_count": 6,
   "id": "c8b19b27",
   "metadata": {},
   "outputs": [
    {
     "data": {
      "text/html": [
       "<div>\n",
       "<style scoped>\n",
       "    .dataframe tbody tr th:only-of-type {\n",
       "        vertical-align: middle;\n",
       "    }\n",
       "\n",
       "    .dataframe tbody tr th {\n",
       "        vertical-align: top;\n",
       "    }\n",
       "\n",
       "    .dataframe thead th {\n",
       "        text-align: right;\n",
       "    }\n",
       "</style>\n",
       "<table border=\"1\" class=\"dataframe\">\n",
       "  <thead>\n",
       "    <tr style=\"text-align: right;\">\n",
       "      <th></th>\n",
       "      <th>Init_Win_bytes_forward</th>\n",
       "      <th>Total Length of Fwd Packets</th>\n",
       "      <th>Bwd Header Length</th>\n",
       "      <th>Destination Port</th>\n",
       "      <th>Subflow Fwd Bytes</th>\n",
       "      <th>Packet Length Std</th>\n",
       "      <th>Packet Length Variance</th>\n",
       "      <th>Bwd Packets/s</th>\n",
       "      <th>Average Packet Size</th>\n",
       "      <th>Bwd Packet Length Std</th>\n",
       "      <th>Label</th>\n",
       "    </tr>\n",
       "  </thead>\n",
       "  <tbody>\n",
       "    <tr>\n",
       "      <th>count</th>\n",
       "      <td>24747.000000</td>\n",
       "      <td>2.474700e+04</td>\n",
       "      <td>2.474700e+04</td>\n",
       "      <td>24747.000000</td>\n",
       "      <td>2.474700e+04</td>\n",
       "      <td>24747.000000</td>\n",
       "      <td>2.474700e+04</td>\n",
       "      <td>24747.000000</td>\n",
       "      <td>24747.000000</td>\n",
       "      <td>24747.000000</td>\n",
       "      <td>24747.000000</td>\n",
       "    </tr>\n",
       "    <tr>\n",
       "      <th>mean</th>\n",
       "      <td>7147.320483</td>\n",
       "      <td>5.938086e+02</td>\n",
       "      <td>3.788556e+02</td>\n",
       "      <td>8902.282176</td>\n",
       "      <td>5.938086e+02</td>\n",
       "      <td>224.007815</td>\n",
       "      <td>3.010688e+05</td>\n",
       "      <td>6987.977061</td>\n",
       "      <td>159.900119</td>\n",
       "      <td>231.238145</td>\n",
       "      <td>0.909444</td>\n",
       "    </tr>\n",
       "    <tr>\n",
       "      <th>std</th>\n",
       "      <td>14857.013084</td>\n",
       "      <td>7.826002e+03</td>\n",
       "      <td>3.269787e+04</td>\n",
       "      <td>19203.186702</td>\n",
       "      <td>7.826002e+03</td>\n",
       "      <td>500.900499</td>\n",
       "      <td>1.251259e+06</td>\n",
       "      <td>39477.504710</td>\n",
       "      <td>275.068647</td>\n",
       "      <td>628.988988</td>\n",
       "      <td>0.286983</td>\n",
       "    </tr>\n",
       "    <tr>\n",
       "      <th>min</th>\n",
       "      <td>-1.000000</td>\n",
       "      <td>0.000000e+00</td>\n",
       "      <td>0.000000e+00</td>\n",
       "      <td>0.000000</td>\n",
       "      <td>0.000000e+00</td>\n",
       "      <td>0.000000</td>\n",
       "      <td>0.000000e+00</td>\n",
       "      <td>0.000000</td>\n",
       "      <td>0.000000</td>\n",
       "      <td>0.000000</td>\n",
       "      <td>0.000000</td>\n",
       "    </tr>\n",
       "    <tr>\n",
       "      <th>25%</th>\n",
       "      <td>-1.000000</td>\n",
       "      <td>1.200000e+01</td>\n",
       "      <td>2.000000e+01</td>\n",
       "      <td>53.000000</td>\n",
       "      <td>1.200000e+01</td>\n",
       "      <td>2.190890</td>\n",
       "      <td>4.800000e+00</td>\n",
       "      <td>0.194312</td>\n",
       "      <td>9.000000</td>\n",
       "      <td>0.000000</td>\n",
       "      <td>1.000000</td>\n",
       "    </tr>\n",
       "    <tr>\n",
       "      <th>50%</th>\n",
       "      <td>235.000000</td>\n",
       "      <td>6.500000e+01</td>\n",
       "      <td>4.000000e+01</td>\n",
       "      <td>80.000000</td>\n",
       "      <td>6.500000e+01</td>\n",
       "      <td>27.933850</td>\n",
       "      <td>7.803000e+02</td>\n",
       "      <td>21.847179</td>\n",
       "      <td>74.750000</td>\n",
       "      <td>0.000000</td>\n",
       "      <td>1.000000</td>\n",
       "    </tr>\n",
       "    <tr>\n",
       "      <th>75%</th>\n",
       "      <td>8192.000000</td>\n",
       "      <td>1.870000e+02</td>\n",
       "      <td>9.200000e+01</td>\n",
       "      <td>443.000000</td>\n",
       "      <td>1.870000e+02</td>\n",
       "      <td>141.312420</td>\n",
       "      <td>1.996920e+04</td>\n",
       "      <td>6578.947368</td>\n",
       "      <td>138.240385</td>\n",
       "      <td>24.145171</td>\n",
       "      <td>1.000000</td>\n",
       "    </tr>\n",
       "    <tr>\n",
       "      <th>max</th>\n",
       "      <td>65535.000000</td>\n",
       "      <td>1.162781e+06</td>\n",
       "      <td>5.134800e+06</td>\n",
       "      <td>65464.000000</td>\n",
       "      <td>1.162781e+06</td>\n",
       "      <td>4380.487987</td>\n",
       "      <td>1.920000e+07</td>\n",
       "      <td>1000000.000000</td>\n",
       "      <td>2251.333333</td>\n",
       "      <td>6692.644993</td>\n",
       "      <td>1.000000</td>\n",
       "    </tr>\n",
       "  </tbody>\n",
       "</table>\n",
       "</div>"
      ],
      "text/plain": [
       "       Init_Win_bytes_forward  Total Length of Fwd Packets  Bwd Header Length  \\\n",
       "count            24747.000000                 2.474700e+04       2.474700e+04   \n",
       "mean              7147.320483                 5.938086e+02       3.788556e+02   \n",
       "std              14857.013084                 7.826002e+03       3.269787e+04   \n",
       "min                 -1.000000                 0.000000e+00       0.000000e+00   \n",
       "25%                 -1.000000                 1.200000e+01       2.000000e+01   \n",
       "50%                235.000000                 6.500000e+01       4.000000e+01   \n",
       "75%               8192.000000                 1.870000e+02       9.200000e+01   \n",
       "max              65535.000000                 1.162781e+06       5.134800e+06   \n",
       "\n",
       "       Destination Port  Subflow Fwd Bytes  Packet Length Std  \\\n",
       "count      24747.000000       2.474700e+04       24747.000000   \n",
       "mean        8902.282176       5.938086e+02         224.007815   \n",
       "std        19203.186702       7.826002e+03         500.900499   \n",
       "min            0.000000       0.000000e+00           0.000000   \n",
       "25%           53.000000       1.200000e+01           2.190890   \n",
       "50%           80.000000       6.500000e+01          27.933850   \n",
       "75%          443.000000       1.870000e+02         141.312420   \n",
       "max        65464.000000       1.162781e+06        4380.487987   \n",
       "\n",
       "       Packet Length Variance   Bwd Packets/s  Average Packet Size  \\\n",
       "count            2.474700e+04    24747.000000         24747.000000   \n",
       "mean             3.010688e+05     6987.977061           159.900119   \n",
       "std              1.251259e+06    39477.504710           275.068647   \n",
       "min              0.000000e+00        0.000000             0.000000   \n",
       "25%              4.800000e+00        0.194312             9.000000   \n",
       "50%              7.803000e+02       21.847179            74.750000   \n",
       "75%              1.996920e+04     6578.947368           138.240385   \n",
       "max              1.920000e+07  1000000.000000          2251.333333   \n",
       "\n",
       "       Bwd Packet Length Std         Label  \n",
       "count           24747.000000  24747.000000  \n",
       "mean              231.238145      0.909444  \n",
       "std               628.988988      0.286983  \n",
       "min                 0.000000      0.000000  \n",
       "25%                 0.000000      1.000000  \n",
       "50%                 0.000000      1.000000  \n",
       "75%                24.145171      1.000000  \n",
       "max              6692.644993      1.000000  "
      ]
     },
     "execution_count": 6,
     "metadata": {},
     "output_type": "execute_result"
    }
   ],
   "source": [
    "df.describe()"
   ]
  },
  {
   "cell_type": "code",
   "execution_count": 7,
   "id": "a2860fd3",
   "metadata": {},
   "outputs": [],
   "source": [
    "df_b = df[df['Label']==1]\n",
    "df_a = df[df['Label']==0]"
   ]
  },
  {
   "cell_type": "code",
   "execution_count": 8,
   "id": "6dab68a9",
   "metadata": {},
   "outputs": [
    {
     "data": {
      "text/plain": [
       "(2241, 11)"
      ]
     },
     "execution_count": 8,
     "metadata": {},
     "output_type": "execute_result"
    }
   ],
   "source": [
    "df_a.shape"
   ]
  },
  {
   "cell_type": "code",
   "execution_count": 9,
   "id": "0e8fa219",
   "metadata": {},
   "outputs": [
    {
     "data": {
      "text/plain": [
       "(22506, 11)"
      ]
     },
     "execution_count": 9,
     "metadata": {},
     "output_type": "execute_result"
    }
   ],
   "source": [
    "df_b.shape"
   ]
  },
  {
   "cell_type": "code",
   "execution_count": 10,
   "id": "59558cad",
   "metadata": {},
   "outputs": [],
   "source": [
    "df_b= df_b[0:2241]"
   ]
  },
  {
   "cell_type": "code",
   "execution_count": 11,
   "id": "68612869",
   "metadata": {},
   "outputs": [
    {
     "data": {
      "text/plain": [
       "(2241, 11)"
      ]
     },
     "execution_count": 11,
     "metadata": {},
     "output_type": "execute_result"
    }
   ],
   "source": [
    "df_b.shape"
   ]
  },
  {
   "cell_type": "code",
   "execution_count": 12,
   "id": "f187707b",
   "metadata": {},
   "outputs": [],
   "source": [
    "df = pd.concat([df_a, df_b], axis=0)"
   ]
  },
  {
   "cell_type": "code",
   "execution_count": 13,
   "id": "66ea8b12",
   "metadata": {},
   "outputs": [],
   "source": [
    "df = df.sample(frac=1)"
   ]
  },
  {
   "cell_type": "code",
   "execution_count": 14,
   "id": "31627bd8",
   "metadata": {},
   "outputs": [],
   "source": [
    "y = df[TARGET]\n",
    "X = df.drop([TARGET],axis=1)"
   ]
  },
  {
   "cell_type": "code",
   "execution_count": 15,
   "id": "470c0908",
   "metadata": {},
   "outputs": [],
   "source": [
    "X_train, X_test, y_train, y_test = train_test_split(X, y, test_size = 0.2)"
   ]
  },
  {
   "cell_type": "code",
   "execution_count": 19,
   "id": "a8540721",
   "metadata": {},
   "outputs": [
    {
     "data": {
      "text/html": [
       "<style>#sk-container-id-2 {color: black;background-color: white;}#sk-container-id-2 pre{padding: 0;}#sk-container-id-2 div.sk-toggleable {background-color: white;}#sk-container-id-2 label.sk-toggleable__label {cursor: pointer;display: block;width: 100%;margin-bottom: 0;padding: 0.3em;box-sizing: border-box;text-align: center;}#sk-container-id-2 label.sk-toggleable__label-arrow:before {content: \"▸\";float: left;margin-right: 0.25em;color: #696969;}#sk-container-id-2 label.sk-toggleable__label-arrow:hover:before {color: black;}#sk-container-id-2 div.sk-estimator:hover label.sk-toggleable__label-arrow:before {color: black;}#sk-container-id-2 div.sk-toggleable__content {max-height: 0;max-width: 0;overflow: hidden;text-align: left;background-color: #f0f8ff;}#sk-container-id-2 div.sk-toggleable__content pre {margin: 0.2em;color: black;border-radius: 0.25em;background-color: #f0f8ff;}#sk-container-id-2 input.sk-toggleable__control:checked~div.sk-toggleable__content {max-height: 200px;max-width: 100%;overflow: auto;}#sk-container-id-2 input.sk-toggleable__control:checked~label.sk-toggleable__label-arrow:before {content: \"▾\";}#sk-container-id-2 div.sk-estimator input.sk-toggleable__control:checked~label.sk-toggleable__label {background-color: #d4ebff;}#sk-container-id-2 div.sk-label input.sk-toggleable__control:checked~label.sk-toggleable__label {background-color: #d4ebff;}#sk-container-id-2 input.sk-hidden--visually {border: 0;clip: rect(1px 1px 1px 1px);clip: rect(1px, 1px, 1px, 1px);height: 1px;margin: -1px;overflow: hidden;padding: 0;position: absolute;width: 1px;}#sk-container-id-2 div.sk-estimator {font-family: monospace;background-color: #f0f8ff;border: 1px dotted black;border-radius: 0.25em;box-sizing: border-box;margin-bottom: 0.5em;}#sk-container-id-2 div.sk-estimator:hover {background-color: #d4ebff;}#sk-container-id-2 div.sk-parallel-item::after {content: \"\";width: 100%;border-bottom: 1px solid gray;flex-grow: 1;}#sk-container-id-2 div.sk-label:hover label.sk-toggleable__label {background-color: #d4ebff;}#sk-container-id-2 div.sk-serial::before {content: \"\";position: absolute;border-left: 1px solid gray;box-sizing: border-box;top: 0;bottom: 0;left: 50%;z-index: 0;}#sk-container-id-2 div.sk-serial {display: flex;flex-direction: column;align-items: center;background-color: white;padding-right: 0.2em;padding-left: 0.2em;position: relative;}#sk-container-id-2 div.sk-item {position: relative;z-index: 1;}#sk-container-id-2 div.sk-parallel {display: flex;align-items: stretch;justify-content: center;background-color: white;position: relative;}#sk-container-id-2 div.sk-item::before, #sk-container-id-2 div.sk-parallel-item::before {content: \"\";position: absolute;border-left: 1px solid gray;box-sizing: border-box;top: 0;bottom: 0;left: 50%;z-index: -1;}#sk-container-id-2 div.sk-parallel-item {display: flex;flex-direction: column;z-index: 1;position: relative;background-color: white;}#sk-container-id-2 div.sk-parallel-item:first-child::after {align-self: flex-end;width: 50%;}#sk-container-id-2 div.sk-parallel-item:last-child::after {align-self: flex-start;width: 50%;}#sk-container-id-2 div.sk-parallel-item:only-child::after {width: 0;}#sk-container-id-2 div.sk-dashed-wrapped {border: 1px dashed gray;margin: 0 0.4em 0.5em 0.4em;box-sizing: border-box;padding-bottom: 0.4em;background-color: white;}#sk-container-id-2 div.sk-label label {font-family: monospace;font-weight: bold;display: inline-block;line-height: 1.2em;}#sk-container-id-2 div.sk-label-container {text-align: center;}#sk-container-id-2 div.sk-container {/* jupyter's `normalize.less` sets `[hidden] { display: none; }` but bootstrap.min.css set `[hidden] { display: none !important; }` so we also need the `!important` here to be able to override the default hidden behavior on the sphinx rendered scikit-learn.org. See: https://github.com/scikit-learn/scikit-learn/issues/21755 */display: inline-block !important;position: relative;}#sk-container-id-2 div.sk-text-repr-fallback {display: none;}</style><div id=\"sk-container-id-2\" class=\"sk-top-container\"><div class=\"sk-text-repr-fallback\"><pre>SVC(C=2, kernel=&#x27;poly&#x27;)</pre><b>In a Jupyter environment, please rerun this cell to show the HTML representation or trust the notebook. <br />On GitHub, the HTML representation is unable to render, please try loading this page with nbviewer.org.</b></div><div class=\"sk-container\" hidden><div class=\"sk-item\"><div class=\"sk-estimator sk-toggleable\"><input class=\"sk-toggleable__control sk-hidden--visually\" id=\"sk-estimator-id-2\" type=\"checkbox\" checked><label for=\"sk-estimator-id-2\" class=\"sk-toggleable__label sk-toggleable__label-arrow\">SVC</label><div class=\"sk-toggleable__content\"><pre>SVC(C=2, kernel=&#x27;poly&#x27;)</pre></div></div></div></div></div>"
      ],
      "text/plain": [
       "SVC(C=2, kernel='poly')"
      ]
     },
     "execution_count": 19,
     "metadata": {},
     "output_type": "execute_result"
    }
   ],
   "source": [
    "clf = SVC(C=2, kernel='poly')\n",
    "clf.fit(X, y)"
   ]
  },
  {
   "cell_type": "code",
   "execution_count": 20,
   "id": "948215ec",
   "metadata": {},
   "outputs": [],
   "source": [
    "dt = clf.fit(X_train, y_train)"
   ]
  },
  {
   "cell_type": "code",
   "execution_count": 21,
   "id": "e4163b6c",
   "metadata": {},
   "outputs": [
    {
     "name": "stdout",
     "output_type": "stream",
     "text": [
      "df test accuracy : 0.6901\n"
     ]
    }
   ],
   "source": [
    "y_pred = clf.predict(X_test)\n",
    "acc_dt = accuracy_score(y_test, y_pred)\n",
    "print(\"df test accuracy : {:.4f}\".format(acc_dt))\n"
   ]
  }
 ],
 "metadata": {
  "kernelspec": {
   "display_name": "Python 3 (ipykernel)",
   "language": "python",
   "name": "python3"
  },
  "language_info": {
   "codemirror_mode": {
    "name": "ipython",
    "version": 3
   },
   "file_extension": ".py",
   "mimetype": "text/x-python",
   "name": "python",
   "nbconvert_exporter": "python",
   "pygments_lexer": "ipython3",
   "version": "3.9.8"
  }
 },
 "nbformat": 4,
 "nbformat_minor": 5
}
