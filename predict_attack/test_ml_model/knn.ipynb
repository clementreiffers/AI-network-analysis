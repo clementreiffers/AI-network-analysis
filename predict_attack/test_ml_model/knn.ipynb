{
 "cells": [
  {
   "cell_type": "code",
   "execution_count": 3,
   "id": "e9990419",
   "metadata": {},
   "outputs": [],
   "source": [
    "import pandas as pd\n",
    "from sklearn.decomposition import PCA\n",
    "from sklearn.model_selection import train_test_split\n",
    "from sklearn.neighbors import KNeighborsClassifier\n",
    "from sklearn.pipeline import make_pipeline\n",
    "from sklearn.preprocessing import StandardScaler"
   ]
  },
  {
   "cell_type": "code",
   "execution_count": 4,
   "id": "22e8750a",
   "metadata": {},
   "outputs": [],
   "source": [
    "path = r\"C:\\Users\\sonia\\Documents\\Document\\2022-2023\\Projet 3I - Deep Learning\\dataset_clean.csv\""
   ]
  },
  {
   "cell_type": "code",
   "execution_count": 5,
   "id": "17133fea",
   "metadata": {},
   "outputs": [],
   "source": [
    "TARGET = 'Label'"
   ]
  },
  {
   "cell_type": "code",
   "execution_count": 6,
   "id": "584b9569",
   "metadata": {},
   "outputs": [],
   "source": [
    "df = pd.read_csv(path)"
   ]
  },
  {
   "cell_type": "code",
   "execution_count": 7,
   "id": "38f1a8f6",
   "metadata": {},
   "outputs": [],
   "source": [
    "df = df[['Init_Win_bytes_forward',\n",
    "'Total Length of Fwd Packets',\n",
    "'Bwd Header Length',\n",
    "'Destination Port',\n",
    "'Subflow Fwd Bytes',\n",
    "'Packet Length Std',\n",
    "'Packet Length Variance',\n",
    "'Bwd Packets/s',\n",
    "'Average Packet Size',\n",
    "'Bwd Packet Length Std',\n",
    "         \"Label\"]]"
   ]
  },
  {
   "cell_type": "code",
   "execution_count": 8,
   "id": "31627bd8",
   "metadata": {},
   "outputs": [],
   "source": [
    "y = df[TARGET]\n",
    "X = df.drop([TARGET],axis=1)"
   ]
  },
  {
   "cell_type": "code",
   "execution_count": 9,
   "id": "470c0908",
   "metadata": {},
   "outputs": [],
   "source": [
    "X_train, X_test, y_train, y_test = train_test_split(X, y, test_size = 0.2)"
   ]
  },
  {
   "cell_type": "code",
   "execution_count": 11,
   "id": "a8540721",
   "metadata": {},
   "outputs": [
    {
     "name": "stdout",
     "output_type": "stream",
     "text": [
      "*********************** 1 ***********************\n",
      "--- TRAIN ---\n",
      "avec standardisation et pca :  0.9981310299540335\n",
      "knn seul :  0.9997979491842198\n",
      "--- TEST ---\n",
      "avec standardisation et pca :  0.9832323232323232\n",
      "knn seul :  0.981010101010101\n",
      "*********************** 2 ***********************\n",
      "--- TRAIN ---\n",
      "avec standardisation et pca :  0.9920189927766834\n",
      "knn seul :  0.9898469465070465\n",
      "--- TEST ---\n",
      "avec standardisation et pca :  0.9834343434343434\n",
      "knn seul :  0.9783838383838384\n",
      "*********************** 3 ***********************\n",
      "--- TRAIN ---\n",
      "avec standardisation et pca :  0.9918169419609032\n",
      "knn seul :  0.9893418194675961\n",
      "--- TEST ---\n",
      "avec standardisation et pca :  0.9856565656565657\n",
      "knn seul :  0.983030303030303\n",
      "*********************** 4 ***********************\n",
      "--- TRAIN ---\n",
      "avec standardisation et pca :  0.989240794059706\n",
      "knn seul :  0.9859069555993333\n",
      "--- TEST ---\n",
      "avec standardisation et pca :  0.9846464646464647\n",
      "knn seul :  0.9795959595959596\n",
      "*********************** 5 ***********************\n",
      "--- TRAIN ---\n",
      "avec standardisation et pca :  0.9897964338031014\n",
      "knn seul :  0.9851997777441026\n",
      "--- TEST ---\n",
      "avec standardisation et pca :  0.9842424242424243\n",
      "knn seul :  0.9797979797979798\n",
      "*********************** 6 ***********************\n",
      "--- TRAIN ---\n",
      "avec standardisation et pca :  0.9882810526847502\n",
      "knn seul :  0.9822700409152902\n",
      "--- TEST ---\n",
      "avec standardisation et pca :  0.9836363636363636\n",
      "knn seul :  0.977979797979798\n",
      "*********************** 7 ***********************\n",
      "--- TRAIN ---\n",
      "avec standardisation et pca :  0.9874728494216295\n",
      "knn seul :  0.9824215790271253\n",
      "--- TEST ---\n",
      "avec standardisation et pca :  0.9832323232323232\n",
      "knn seul :  0.9783838383838384\n",
      "*********************** 8 ***********************\n",
      "--- TRAIN ---\n",
      "avec standardisation et pca :  0.9868666969742891\n",
      "knn seul :  0.9803505581653786\n",
      "--- TEST ---\n",
      "avec standardisation et pca :  0.9822222222222222\n",
      "knn seul :  0.9761616161616161\n",
      "*********************** 9 ***********************\n",
      "--- TRAIN ---\n",
      "avec standardisation et pca :  0.986917209678234\n",
      "knn seul :  0.9806536343890488\n",
      "--- TEST ---\n",
      "avec standardisation et pca :  0.9812121212121212\n",
      "knn seul :  0.9763636363636363\n"
     ]
    }
   ],
   "source": [
    "for k in range(1, 10):\n",
    "    scaler = StandardScaler()\n",
    "    pca = PCA()\n",
    "    knn = KNeighborsClassifier(k)\n",
    "    knn2 = KNeighborsClassifier(k)\n",
    "\n",
    "    pipeline = make_pipeline(scaler, pca, knn)\n",
    "\n",
    "    pipeline.fit(X_train, y_train)\n",
    "    knn2.fit(X_train, y_train)\n",
    "\n",
    "    print(f\"*********************** {k} ***********************\")\n",
    "\n",
    "    print(\"--- TRAIN ---\")\n",
    "    print(\"avec standardisation et pca : \", pipeline.score(X_train, y_train))\n",
    "    print(\"knn seul : \", knn2.score(X_train, y_train))\n",
    "\n",
    "    print(\"--- TEST ---\")\n",
    "    print(\"avec standardisation et pca : \", pipeline.score(X_test, y_test))\n",
    "    print(\"knn seul : \", knn2.score(X_test, y_test))"
   ]
  },
  {
   "cell_type": "code",
   "execution_count": null,
   "id": "d9230bfe",
   "metadata": {},
   "outputs": [],
   "source": [
    "# --- TEST ---\n",
    "# avec standardisation et pca :  0.9812121212121212\n",
    "# knn seul :  0.9763636363636363"
   ]
  }
 ],
 "metadata": {
  "kernelspec": {
   "display_name": "Python 3 (ipykernel)",
   "language": "python",
   "name": "python3"
  },
  "language_info": {
   "codemirror_mode": {
    "name": "ipython",
    "version": 3
   },
   "file_extension": ".py",
   "mimetype": "text/x-python",
   "name": "python",
   "nbconvert_exporter": "python",
   "pygments_lexer": "ipython3",
   "version": "3.9.8"
  }
 },
 "nbformat": 4,
 "nbformat_minor": 5
}
