{
 "cells": [
  {
   "cell_type": "code",
   "execution_count": 1,
   "id": "c16cef97",
   "metadata": {},
   "outputs": [],
   "source": [
    "import pandas as pd\n",
    "from sklearn.ensemble import AdaBoostClassifier\n",
    "from sklearn.tree import DecisionTreeClassifier\n",
    "from sklearn.model_selection import train_test_split\n",
    "from sklearn.metrics import accuracy_score"
   ]
  },
  {
   "cell_type": "code",
   "execution_count": 2,
   "id": "2e2ba754",
   "metadata": {},
   "outputs": [],
   "source": [
    "path = r\"C:\\Users\\sonia\\Documents\\Document\\2022-2023\\Projet 3I - Deep Learning\\dataset_clean.csv\"\n",
    "TARGET = 'Label'"
   ]
  },
  {
   "cell_type": "code",
   "execution_count": 3,
   "id": "5298fc77",
   "metadata": {},
   "outputs": [],
   "source": [
    "df = pd.read_csv(path)"
   ]
  },
  {
   "cell_type": "code",
   "execution_count": 4,
   "id": "c553bf67",
   "metadata": {},
   "outputs": [],
   "source": [
    "df = df[['Init_Win_bytes_forward',\n",
    "'Total Length of Fwd Packets',\n",
    "'Bwd Header Length',\n",
    "'Destination Port',\n",
    "'Subflow Fwd Bytes',\n",
    "'Packet Length Std',\n",
    "'Packet Length Variance',\n",
    "'Bwd Packets/s',\n",
    "'Average Packet Size',\n",
    "'Bwd Packet Length Std',\n",
    "         \"Label\"]]"
   ]
  },
  {
   "cell_type": "code",
   "execution_count": 5,
   "id": "056bea1b",
   "metadata": {},
   "outputs": [],
   "source": [
    "y = df[TARGET]\n",
    "X = df.drop([TARGET],axis=1)"
   ]
  },
  {
   "cell_type": "code",
   "execution_count": 6,
   "id": "ddc79898",
   "metadata": {},
   "outputs": [],
   "source": [
    "X_train, X_test, y_train, y_test = train_test_split(X, y, test_size = 0.2)"
   ]
  },
  {
   "cell_type": "code",
   "execution_count": 7,
   "id": "3e5d2ab5",
   "metadata": {},
   "outputs": [],
   "source": [
    "dt = DecisionTreeClassifier(max_depth=1, random_state=1)\n",
    "\n",
    "adb_clf = AdaBoostClassifier(base_estimator=dt, n_estimators=200)"
   ]
  },
  {
   "cell_type": "code",
   "execution_count": 8,
   "id": "ad5577a2",
   "metadata": {},
   "outputs": [],
   "source": [
    "history = adb_clf.fit(X_train, y_train)"
   ]
  },
  {
   "cell_type": "code",
   "execution_count": 9,
   "id": "5a666ac7",
   "metadata": {},
   "outputs": [
    {
     "name": "stdout",
     "output_type": "stream",
     "text": [
      "df test accuracy : 0.9960\n"
     ]
    }
   ],
   "source": [
    "y_pred = adb_clf.predict(X_test)\n",
    "acc_dt = accuracy_score(y_test, y_pred)\n",
    "print(\"df test accuracy : {:.4f}\".format(acc_dt))"
   ]
  },
  {
   "cell_type": "code",
   "execution_count": null,
   "id": "9e4d675f",
   "metadata": {},
   "outputs": [],
   "source": []
  }
 ],
 "metadata": {
  "kernelspec": {
   "display_name": "Python 3 (ipykernel)",
   "language": "python",
   "name": "python3"
  },
  "language_info": {
   "codemirror_mode": {
    "name": "ipython",
    "version": 3
   },
   "file_extension": ".py",
   "mimetype": "text/x-python",
   "name": "python",
   "nbconvert_exporter": "python",
   "pygments_lexer": "ipython3",
   "version": "3.9.8"
  }
 },
 "nbformat": 4,
 "nbformat_minor": 5
}
