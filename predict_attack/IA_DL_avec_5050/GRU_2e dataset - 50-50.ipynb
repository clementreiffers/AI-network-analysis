{
 "cells": [
  {
   "cell_type": "code",
   "execution_count": 14,
   "id": "438791ea",
   "metadata": {},
   "outputs": [],
   "source": [
    "import pandas as pd\n",
    "import numpy as np\n",
    "\n",
    "# Graph\n",
    "import plotly.express as px\n",
    "import matplotlib.pyplot as plt\n",
    "\n",
    "# Keras\n",
    "from keras.models import Sequential\n",
    "from keras.layers import Dense\n",
    "from keras import callbacks\n",
    "\n",
    "# sklearn\n",
    "from sklearn.preprocessing import StandardScaler\n",
    "from sklearn.model_selection import train_test_split\n",
    "from sklearn.metrics import accuracy_score\n",
    "\n",
    "# tf\n",
    "from tensorflow.keras.utils import to_categorical\n",
    "import tensorflow as tf\n",
    "from tensorflow.keras.models import Sequential\n",
    "from tensorflow.keras.layers import Dense, Dropout, LSTM, GRU\n",
    "from tensorflow.keras.layers import Embedding\n",
    "from tensorflow.keras.optimizers import SGD"
   ]
  },
  {
   "cell_type": "code",
   "execution_count": 2,
   "id": "7770598a",
   "metadata": {},
   "outputs": [],
   "source": [
    "path = r\"C:\\Users\\sonia\\Documents\\Document\\2022-2023\\Projet 3I - Deep Learning\\dataset_clean.csv\"\n",
    "TARGET = 'Label'"
   ]
  },
  {
   "cell_type": "code",
   "execution_count": 3,
   "id": "11603174",
   "metadata": {},
   "outputs": [],
   "source": [
    "df = pd.read_csv(path)"
   ]
  },
  {
   "cell_type": "code",
   "execution_count": 4,
   "id": "8d6c18a8",
   "metadata": {},
   "outputs": [],
   "source": [
    "df = df[['Init_Win_bytes_forward',\n",
    "'Total Length of Fwd Packets',\n",
    "'Bwd Header Length',\n",
    "'Destination Port',\n",
    "'Subflow Fwd Bytes',\n",
    "'Packet Length Std',\n",
    "'Packet Length Variance',\n",
    "'Bwd Packets/s',\n",
    "'Average Packet Size',\n",
    "'Bwd Packet Length Std',\n",
    "         \"Label\"]]"
   ]
  },
  {
   "cell_type": "code",
   "execution_count": 5,
   "id": "acf34f92",
   "metadata": {},
   "outputs": [],
   "source": [
    "df_b = df[df['Label']==1]\n",
    "df_a = df[df['Label']==0]"
   ]
  },
  {
   "cell_type": "code",
   "execution_count": 6,
   "id": "df2ebc6d",
   "metadata": {},
   "outputs": [],
   "source": [
    "df_b= df_b[0:2241]"
   ]
  },
  {
   "cell_type": "code",
   "execution_count": 7,
   "id": "580d1318",
   "metadata": {},
   "outputs": [],
   "source": [
    "df = pd.concat([df_a, df_b], axis=0)"
   ]
  },
  {
   "cell_type": "code",
   "execution_count": 8,
   "id": "5ab97c5a",
   "metadata": {},
   "outputs": [],
   "source": [
    "df = df.sample(frac=1)"
   ]
  },
  {
   "cell_type": "code",
   "execution_count": 9,
   "id": "3dfa0a2f",
   "metadata": {},
   "outputs": [],
   "source": [
    "y = df[TARGET]\n",
    "X = df.drop([TARGET],axis=1)"
   ]
  },
  {
   "cell_type": "code",
   "execution_count": 10,
   "id": "5502b7a3",
   "metadata": {},
   "outputs": [],
   "source": [
    "y = y.to_numpy()\n",
    "scaler = StandardScaler()\n",
    "scaler.fit(X)\n",
    "X = scaler.transform(X)\n",
    "y = to_categorical(y)"
   ]
  },
  {
   "cell_type": "code",
   "execution_count": 11,
   "id": "505f2d72",
   "metadata": {},
   "outputs": [],
   "source": [
    "X_train, X_test, y_train, y_test = train_test_split(X, y, test_size = 0.2)"
   ]
  },
  {
   "cell_type": "code",
   "execution_count": 12,
   "id": "ffc9e669",
   "metadata": {},
   "outputs": [],
   "source": [
    "X_train = np.reshape(X_train, (X_train.shape[0], 1, X.shape[1]))\n",
    "X_test = np.reshape(X_test, (X_test.shape[0], 1, X.shape[1]))"
   ]
  },
  {
   "cell_type": "markdown",
   "id": "73fae64a",
   "metadata": {},
   "source": [
    "## Model"
   ]
  },
  {
   "cell_type": "code",
   "execution_count": 15,
   "id": "932bffcc",
   "metadata": {},
   "outputs": [
    {
     "name": "stdout",
     "output_type": "stream",
     "text": [
      "Model: \"sequential_1\"\n",
      "_________________________________________________________________\n",
      " Layer (type)                Output Shape              Param #   \n",
      "=================================================================\n",
      " gru (GRU)                   (None, 1, 220)            153120    \n",
      "                                                                 \n",
      " dropout (Dropout)           (None, 1, 220)            0         \n",
      "                                                                 \n",
      " gru_1 (GRU)                 (None, 220)               291720    \n",
      "                                                                 \n",
      " dense (Dense)               (None, 2)                 442       \n",
      "                                                                 \n",
      "=================================================================\n",
      "Total params: 445,282\n",
      "Trainable params: 445,282\n",
      "Non-trainable params: 0\n",
      "_________________________________________________________________\n"
     ]
    }
   ],
   "source": [
    "model = Sequential()\n",
    "\n",
    "model.add(GRU(220, input_shape=(1,10), activation=\"relu\", return_sequences=True))\n",
    "model.add(Dropout(0.2))\n",
    "model.add(GRU(220,activation=\"relu\"))\n",
    "model.add(Dense(y.shape[1], activation='sigmoid'))\n",
    "\n",
    "model.compile(loss = 'binary_crossentropy', optimizer = \"adam\", metrics = ['accuracy'])\n",
    "\n",
    "model.summary()"
   ]
  },
  {
   "cell_type": "code",
   "execution_count": 22,
   "id": "21083f2e",
   "metadata": {},
   "outputs": [],
   "source": [
    "earlystopping = callbacks.EarlyStopping(monitor =\"val_loss\", \n",
    "                                        mode =\"min\", \n",
    "                                        patience = 20, \n",
    "                                        restore_best_weights = True)"
   ]
  },
  {
   "cell_type": "code",
   "execution_count": 23,
   "id": "04e8d11f",
   "metadata": {
    "scrolled": true
   },
   "outputs": [
    {
     "name": "stdout",
     "output_type": "stream",
     "text": [
      "Epoch 1/200\n",
      "113/113 [==============================] - 1s 8ms/step - loss: 0.1608 - accuracy: 0.9308 - val_loss: 0.1976 - val_accuracy: 0.9186\n",
      "Epoch 2/200\n",
      "113/113 [==============================] - 1s 8ms/step - loss: 0.1578 - accuracy: 0.9331 - val_loss: 0.2003 - val_accuracy: 0.9197\n",
      "Epoch 3/200\n",
      "113/113 [==============================] - 1s 8ms/step - loss: 0.1630 - accuracy: 0.9319 - val_loss: 0.1929 - val_accuracy: 0.9197\n",
      "Epoch 4/200\n",
      "113/113 [==============================] - 1s 8ms/step - loss: 0.1596 - accuracy: 0.9291 - val_loss: 0.2140 - val_accuracy: 0.9108\n",
      "Epoch 5/200\n",
      "113/113 [==============================] - 1s 8ms/step - loss: 0.1674 - accuracy: 0.9269 - val_loss: 0.1981 - val_accuracy: 0.9153\n",
      "Epoch 6/200\n",
      "113/113 [==============================] - 1s 9ms/step - loss: 0.1638 - accuracy: 0.9280 - val_loss: 0.2076 - val_accuracy: 0.9086\n",
      "Epoch 7/200\n",
      "113/113 [==============================] - 1s 8ms/step - loss: 0.1588 - accuracy: 0.9300 - val_loss: 0.2020 - val_accuracy: 0.8885\n",
      "Epoch 8/200\n",
      "113/113 [==============================] - 1s 8ms/step - loss: 0.1608 - accuracy: 0.9286 - val_loss: 0.2098 - val_accuracy: 0.9130\n",
      "Epoch 9/200\n",
      "113/113 [==============================] - 1s 8ms/step - loss: 0.1564 - accuracy: 0.9325 - val_loss: 0.1964 - val_accuracy: 0.9231\n",
      "Epoch 10/200\n",
      "113/113 [==============================] - 1s 8ms/step - loss: 0.1586 - accuracy: 0.9333 - val_loss: 0.1977 - val_accuracy: 0.9164\n",
      "Epoch 11/200\n",
      "113/113 [==============================] - 1s 7ms/step - loss: 0.1552 - accuracy: 0.9305 - val_loss: 0.1994 - val_accuracy: 0.9220\n",
      "Epoch 12/200\n",
      "113/113 [==============================] - 1s 7ms/step - loss: 0.1485 - accuracy: 0.9333 - val_loss: 0.2028 - val_accuracy: 0.9142\n",
      "Epoch 13/200\n",
      "113/113 [==============================] - 1s 7ms/step - loss: 0.1483 - accuracy: 0.9356 - val_loss: 0.1938 - val_accuracy: 0.9186\n",
      "Epoch 14/200\n",
      "113/113 [==============================] - 1s 8ms/step - loss: 0.1523 - accuracy: 0.9333 - val_loss: 0.1891 - val_accuracy: 0.9142\n",
      "Epoch 15/200\n",
      "113/113 [==============================] - 1s 7ms/step - loss: 0.1517 - accuracy: 0.9347 - val_loss: 0.1913 - val_accuracy: 0.9220\n",
      "Epoch 16/200\n",
      "113/113 [==============================] - 1s 7ms/step - loss: 0.1493 - accuracy: 0.9361 - val_loss: 0.1885 - val_accuracy: 0.9175\n",
      "Epoch 17/200\n",
      "113/113 [==============================] - 1s 8ms/step - loss: 0.1504 - accuracy: 0.9331 - val_loss: 0.2140 - val_accuracy: 0.9153\n",
      "Epoch 18/200\n",
      "113/113 [==============================] - 1s 7ms/step - loss: 0.1432 - accuracy: 0.9361 - val_loss: 0.1980 - val_accuracy: 0.9220\n",
      "Epoch 19/200\n",
      "113/113 [==============================] - 1s 8ms/step - loss: 0.1468 - accuracy: 0.9353 - val_loss: 0.1930 - val_accuracy: 0.9264\n",
      "Epoch 20/200\n",
      "113/113 [==============================] - 1s 7ms/step - loss: 0.1449 - accuracy: 0.9403 - val_loss: 0.1917 - val_accuracy: 0.9231\n",
      "Epoch 21/200\n",
      "113/113 [==============================] - 1s 8ms/step - loss: 0.1434 - accuracy: 0.9372 - val_loss: 0.1939 - val_accuracy: 0.9253\n",
      "Epoch 22/200\n",
      "113/113 [==============================] - 1s 8ms/step - loss: 0.1422 - accuracy: 0.9361 - val_loss: 0.2027 - val_accuracy: 0.9197\n",
      "Epoch 23/200\n",
      "113/113 [==============================] - 1s 7ms/step - loss: 0.1456 - accuracy: 0.9384 - val_loss: 0.2092 - val_accuracy: 0.9197\n",
      "Epoch 24/200\n",
      "113/113 [==============================] - 1s 8ms/step - loss: 0.1414 - accuracy: 0.9381 - val_loss: 0.2012 - val_accuracy: 0.9264\n",
      "Epoch 25/200\n",
      "113/113 [==============================] - 1s 7ms/step - loss: 0.1428 - accuracy: 0.9353 - val_loss: 0.2088 - val_accuracy: 0.9242\n",
      "Epoch 26/200\n",
      "113/113 [==============================] - 1s 7ms/step - loss: 0.1410 - accuracy: 0.9356 - val_loss: 0.2253 - val_accuracy: 0.9164\n",
      "Epoch 27/200\n",
      "113/113 [==============================] - 1s 7ms/step - loss: 0.1460 - accuracy: 0.9314 - val_loss: 0.2018 - val_accuracy: 0.9253\n",
      "Epoch 28/200\n",
      "113/113 [==============================] - 1s 7ms/step - loss: 0.1425 - accuracy: 0.9358 - val_loss: 0.2100 - val_accuracy: 0.9208\n",
      "Epoch 29/200\n",
      "113/113 [==============================] - 1s 8ms/step - loss: 0.1441 - accuracy: 0.9331 - val_loss: 0.2106 - val_accuracy: 0.9175\n",
      "Epoch 30/200\n",
      "113/113 [==============================] - 1s 8ms/step - loss: 0.1398 - accuracy: 0.9386 - val_loss: 0.1985 - val_accuracy: 0.9220\n",
      "Epoch 31/200\n",
      "113/113 [==============================] - 1s 7ms/step - loss: 0.1460 - accuracy: 0.9308 - val_loss: 0.2057 - val_accuracy: 0.9309\n",
      "Epoch 32/200\n",
      "113/113 [==============================] - 1s 7ms/step - loss: 0.1415 - accuracy: 0.9358 - val_loss: 0.2256 - val_accuracy: 0.9175\n",
      "Epoch 33/200\n",
      "113/113 [==============================] - 1s 8ms/step - loss: 0.1413 - accuracy: 0.9386 - val_loss: 0.2095 - val_accuracy: 0.9220\n",
      "Epoch 34/200\n",
      "113/113 [==============================] - 1s 7ms/step - loss: 0.1426 - accuracy: 0.9344 - val_loss: 0.2141 - val_accuracy: 0.9197\n",
      "Epoch 35/200\n",
      "113/113 [==============================] - 1s 7ms/step - loss: 0.1370 - accuracy: 0.9358 - val_loss: 0.2061 - val_accuracy: 0.9264\n",
      "Epoch 36/200\n",
      "113/113 [==============================] - 1s 7ms/step - loss: 0.1394 - accuracy: 0.9378 - val_loss: 0.1980 - val_accuracy: 0.9398\n"
     ]
    },
    {
     "data": {
      "text/plain": [
       "<keras.callbacks.History at 0x274d7616f40>"
      ]
     },
     "execution_count": 23,
     "metadata": {},
     "output_type": "execute_result"
    }
   ],
   "source": [
    "history = model.fit(X_train, y_train, \n",
    "                    epochs = 200, \n",
    "                    validation_data= (X_test, y_test),\n",
    "                    callbacks =[earlystopping])\n",
    "history"
   ]
  },
  {
   "cell_type": "code",
   "execution_count": 24,
   "id": "05a06837",
   "metadata": {},
   "outputs": [
    {
     "name": "stdout",
     "output_type": "stream",
     "text": [
      "29/29 [==============================] - 0s 3ms/step - loss: 0.1885 - accuracy: 0.9175\n"
     ]
    },
    {
     "data": {
      "text/plain": [
       "[0.1884540468454361, 0.917502760887146]"
      ]
     },
     "execution_count": 24,
     "metadata": {},
     "output_type": "execute_result"
    }
   ],
   "source": [
    "accuracy = model.evaluate(X_test, y_test)\n",
    "accuracy # 0.9175"
   ]
  },
  {
   "cell_type": "code",
   "execution_count": null,
   "id": "b600d744",
   "metadata": {},
   "outputs": [],
   "source": []
  },
  {
   "cell_type": "code",
   "execution_count": null,
   "id": "e3a9a6bc",
   "metadata": {},
   "outputs": [],
   "source": []
  }
 ],
 "metadata": {
  "kernelspec": {
   "display_name": "Python 3 (ipykernel)",
   "language": "python",
   "name": "python3"
  },
  "language_info": {
   "codemirror_mode": {
    "name": "ipython",
    "version": 3
   },
   "file_extension": ".py",
   "mimetype": "text/x-python",
   "name": "python",
   "nbconvert_exporter": "python",
   "pygments_lexer": "ipython3",
   "version": "3.9.8"
  }
 },
 "nbformat": 4,
 "nbformat_minor": 5
}
