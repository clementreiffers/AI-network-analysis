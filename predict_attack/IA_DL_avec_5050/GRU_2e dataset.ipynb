{
 "cells": [
  {
   "cell_type": "code",
   "execution_count": 1,
   "id": "c3b8b896",
   "metadata": {},
   "outputs": [],
   "source": [
    "import pandas as pd\n",
    "import numpy as np\n",
    "\n",
    "# Graph\n",
    "import plotly.express as px\n",
    "import matplotlib.pyplot as plt\n",
    "\n",
    "# Keras\n",
    "from keras.models import Sequential\n",
    "from keras.layers import Dense\n",
    "from keras import callbacks\n",
    "\n",
    "# sklearn\n",
    "from sklearn.preprocessing import StandardScaler\n",
    "from sklearn.model_selection import train_test_split\n",
    "from sklearn.metrics import accuracy_score\n",
    "\n",
    "# tf\n",
    "from tensorflow.keras.utils import to_categorical\n",
    "import tensorflow as tf\n",
    "from tensorflow.keras.models import Sequential\n",
    "from tensorflow.keras.layers import Dense, Dropout, LSTM, GRU\n",
    "from tensorflow.keras.layers import Embedding\n",
    "from tensorflow.keras.optimizers import SGD"
   ]
  },
  {
   "cell_type": "code",
   "execution_count": 2,
   "id": "35c16a35",
   "metadata": {},
   "outputs": [],
   "source": [
    "path = r\"C:\\Users\\sonia\\Documents\\Document\\2022-2023\\Projet 3I - Deep Learning\\dataset_clean.csv\"\n",
    "TARGET = 'Label'"
   ]
  },
  {
   "cell_type": "code",
   "execution_count": 3,
   "id": "00e2eea3",
   "metadata": {},
   "outputs": [],
   "source": [
    "df = pd.read_csv(path)"
   ]
  },
  {
   "cell_type": "code",
   "execution_count": 4,
   "id": "5b027e31",
   "metadata": {},
   "outputs": [],
   "source": [
    "df = df[['Init_Win_bytes_forward',\n",
    "'Total Length of Fwd Packets',\n",
    "'Bwd Header Length',\n",
    "'Destination Port',\n",
    "'Subflow Fwd Bytes',\n",
    "'Packet Length Std',\n",
    "'Packet Length Variance',\n",
    "'Bwd Packets/s',\n",
    "'Average Packet Size',\n",
    "'Bwd Packet Length Std',\n",
    "         \"Label\"]]"
   ]
  },
  {
   "cell_type": "code",
   "execution_count": 5,
   "id": "71517d8f",
   "metadata": {},
   "outputs": [],
   "source": [
    "y = df[TARGET]\n",
    "X = df.drop([TARGET],axis=1)"
   ]
  },
  {
   "cell_type": "code",
   "execution_count": 6,
   "id": "a5aa0e7f",
   "metadata": {},
   "outputs": [],
   "source": [
    "y = y.to_numpy()\n",
    "scaler = StandardScaler()\n",
    "scaler.fit(X)\n",
    "X = scaler.transform(X)\n",
    "y = to_categorical(y)"
   ]
  },
  {
   "cell_type": "code",
   "execution_count": 7,
   "id": "b705f22e",
   "metadata": {},
   "outputs": [],
   "source": [
    "X_train, X_test, y_train, y_test = train_test_split(X, y, test_size = 0.2)"
   ]
  },
  {
   "cell_type": "code",
   "execution_count": 8,
   "id": "947c6245",
   "metadata": {},
   "outputs": [],
   "source": [
    "X_train = np.reshape(X_train, (X_train.shape[0], 1, X.shape[1]))\n",
    "X_test = np.reshape(X_test, (X_test.shape[0], 1, X.shape[1]))"
   ]
  },
  {
   "cell_type": "code",
   "execution_count": 9,
   "id": "2edfabda",
   "metadata": {},
   "outputs": [
    {
     "name": "stdout",
     "output_type": "stream",
     "text": [
      "Model: \"sequential\"\n",
      "_________________________________________________________________\n",
      " Layer (type)                Output Shape              Param #   \n",
      "=================================================================\n",
      " gru (GRU)                   (None, 1, 220)            153120    \n",
      "                                                                 \n",
      " dropout (Dropout)           (None, 1, 220)            0         \n",
      "                                                                 \n",
      " gru_1 (GRU)                 (None, 220)               291720    \n",
      "                                                                 \n",
      " dense (Dense)               (None, 2)                 442       \n",
      "                                                                 \n",
      "=================================================================\n",
      "Total params: 445,282\n",
      "Trainable params: 445,282\n",
      "Non-trainable params: 0\n",
      "_________________________________________________________________\n"
     ]
    }
   ],
   "source": [
    "model = Sequential()\n",
    "\n",
    "model.add(GRU(220, input_shape=(1,10), activation=\"relu\", return_sequences=True))\n",
    "model.add(Dropout(0.2))\n",
    "model.add(GRU(220,activation=\"relu\"))\n",
    "model.add(Dense(y.shape[1], activation='sigmoid'))\n",
    "\n",
    "model.compile(loss = 'binary_crossentropy', optimizer = \"adam\", metrics = ['accuracy'])\n",
    "\n",
    "model.summary()"
   ]
  },
  {
   "cell_type": "code",
   "execution_count": 10,
   "id": "e62ed80d",
   "metadata": {},
   "outputs": [],
   "source": [
    "earlystopping = callbacks.EarlyStopping(monitor =\"val_loss\", \n",
    "                                        mode =\"min\", \n",
    "                                        patience = 3, \n",
    "                                        restore_best_weights = True)"
   ]
  },
  {
   "cell_type": "code",
   "execution_count": 11,
   "id": "a74a8806",
   "metadata": {},
   "outputs": [
    {
     "name": "stdout",
     "output_type": "stream",
     "text": [
      "Epoch 1/200\n",
      "619/619 [==============================] - 14s 13ms/step - loss: 0.1698 - accuracy: 0.9509 - val_loss: 0.1364 - val_accuracy: 0.9545\n",
      "Epoch 2/200\n",
      "619/619 [==============================] - 7s 12ms/step - loss: 0.1206 - accuracy: 0.9604 - val_loss: 0.1228 - val_accuracy: 0.9580\n",
      "Epoch 3/200\n",
      "619/619 [==============================] - 7s 12ms/step - loss: 0.1081 - accuracy: 0.9618 - val_loss: 0.1147 - val_accuracy: 0.9582\n",
      "Epoch 4/200\n",
      "619/619 [==============================] - 8s 13ms/step - loss: 0.1013 - accuracy: 0.9631 - val_loss: 0.1088 - val_accuracy: 0.9586\n",
      "Epoch 5/200\n",
      "619/619 [==============================] - 7s 11ms/step - loss: 0.0968 - accuracy: 0.9641 - val_loss: 0.1093 - val_accuracy: 0.9580\n",
      "Epoch 6/200\n",
      "619/619 [==============================] - 7s 12ms/step - loss: 0.0955 - accuracy: 0.9636 - val_loss: 0.1110 - val_accuracy: 0.9580\n",
      "Epoch 7/200\n",
      "619/619 [==============================] - 7s 12ms/step - loss: 0.0944 - accuracy: 0.9635 - val_loss: 0.0986 - val_accuracy: 0.9594\n",
      "Epoch 8/200\n",
      "619/619 [==============================] - 7s 12ms/step - loss: 0.0933 - accuracy: 0.9644 - val_loss: 0.0987 - val_accuracy: 0.9620\n",
      "Epoch 9/200\n",
      "619/619 [==============================] - 7s 12ms/step - loss: 0.0920 - accuracy: 0.9657 - val_loss: 0.0946 - val_accuracy: 0.9630\n",
      "Epoch 10/200\n",
      "619/619 [==============================] - 7s 12ms/step - loss: 0.0907 - accuracy: 0.9654 - val_loss: 0.0974 - val_accuracy: 0.9604\n",
      "Epoch 11/200\n",
      "619/619 [==============================] - 7s 12ms/step - loss: 0.0891 - accuracy: 0.9654 - val_loss: 0.0952 - val_accuracy: 0.9626\n",
      "Epoch 12/200\n",
      "619/619 [==============================] - 7s 12ms/step - loss: 0.0898 - accuracy: 0.9657 - val_loss: 0.0962 - val_accuracy: 0.9620\n"
     ]
    },
    {
     "data": {
      "text/plain": [
       "<keras.callbacks.History at 0x23ef5b190a0>"
      ]
     },
     "execution_count": 11,
     "metadata": {},
     "output_type": "execute_result"
    }
   ],
   "source": [
    "history = model.fit(X_train, y_train, \n",
    "                    epochs = 200, \n",
    "                    validation_data= (X_test, y_test),\n",
    "                    callbacks =[earlystopping])\n",
    "history"
   ]
  },
  {
   "cell_type": "code",
   "execution_count": 12,
   "id": "b4b7a6ea",
   "metadata": {},
   "outputs": [
    {
     "name": "stdout",
     "output_type": "stream",
     "text": [
      "155/155 [==============================] - 1s 4ms/step - loss: 0.0946 - accuracy: 0.9630\n"
     ]
    },
    {
     "data": {
      "text/plain": [
       "[0.09460647404193878, 0.9630302786827087]"
      ]
     },
     "execution_count": 12,
     "metadata": {},
     "output_type": "execute_result"
    }
   ],
   "source": [
    "accuracy = model.evaluate(X_test, y_test)\n",
    "accuracy"
   ]
  },
  {
   "cell_type": "code",
   "execution_count": null,
   "id": "2c96f882",
   "metadata": {},
   "outputs": [],
   "source": []
  },
  {
   "cell_type": "code",
   "execution_count": null,
   "id": "6c083e3c",
   "metadata": {},
   "outputs": [],
   "source": []
  }
 ],
 "metadata": {
  "kernelspec": {
   "display_name": "Python 3 (ipykernel)",
   "language": "python",
   "name": "python3"
  },
  "language_info": {
   "codemirror_mode": {
    "name": "ipython",
    "version": 3
   },
   "file_extension": ".py",
   "mimetype": "text/x-python",
   "name": "python",
   "nbconvert_exporter": "python",
   "pygments_lexer": "ipython3",
   "version": "3.9.8"
  }
 },
 "nbformat": 4,
 "nbformat_minor": 5
}
