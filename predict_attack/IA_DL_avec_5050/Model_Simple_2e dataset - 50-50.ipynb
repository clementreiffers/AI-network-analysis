{
 "cells": [
  {
   "cell_type": "code",
   "execution_count": 344,
   "id": "438791ea",
   "metadata": {},
   "outputs": [],
   "source": [
    "import pandas as pd\n",
    "import numpy as np\n",
    "\n",
    "# Graph\n",
    "import plotly.express as px\n",
    "import matplotlib.pyplot as plt\n",
    "\n",
    "# Keras\n",
    "from keras.models import Sequential\n",
    "from keras.layers import Dense, Flatten, Dropout\n",
    "from keras import callbacks\n",
    "\n",
    "# sklearn\n",
    "from sklearn.preprocessing import StandardScaler\n",
    "from sklearn.model_selection import train_test_split\n",
    "from sklearn.metrics import accuracy_score, precision_score, recall_score, average_precision_score\n",
    "\n",
    "# tf\n",
    "from tensorflow.keras.utils import to_categorical\n",
    "import tensorflow as tf\n",
    "from tensorflow.keras.layers import Embedding\n",
    "from tensorflow.keras.optimizers import SGD"
   ]
  },
  {
   "cell_type": "code",
   "execution_count": 365,
   "id": "509eb4cd",
   "metadata": {},
   "outputs": [
    {
     "name": "stdout",
     "output_type": "stream",
     "text": [
      "1    22506\n",
      "0     2241\n",
      "Name: Label, dtype: int64\n"
     ]
    }
   ],
   "source": [
    "path = r\"C:\\Users\\sonia\\Documents\\Document\\2022-2023\\Projet 3I - Deep Learning\\dataset_clean.csv\"\n",
    "TARGET = 'Label'\n",
    "df = pd.read_csv(path)\n",
    "nombre_de_valeurs = df[\"Label\"].value_counts()\n",
    "print(nombre_de_valeurs)"
   ]
  },
  {
   "cell_type": "code",
   "execution_count": 367,
   "id": "7770598a",
   "metadata": {},
   "outputs": [],
   "source": [
    "#Extrait des colonnes a utiliser pour la prédiction, \"Label\" correspond à la variable cible binaire (0 ou 1).\n",
    "df = df[['Init_Win_bytes_forward',\n",
    "'Total Length of Fwd Packets',\n",
    "'Bwd Header Length',\n",
    "'Destination Port',\n",
    "'Subflow Fwd Bytes',\n",
    "'Packet Length Std',\n",
    "'Packet Length Variance',\n",
    "'Bwd Packets/s',\n",
    "'Average Packet Size',\n",
    "'Bwd Packet Length Std',\n",
    "         \"Label\"]]\n",
    "\n",
    "\n",
    "#Création de deux ensembles de données, une classe positive (label=1) et une classe négative (label=0).\n",
    "df_b = df[df['Label']==1]\n",
    "df_a = df[df['Label']==0]\n",
    "\n",
    "#Sélection d'un nombre fixe d'instances de la classe positive (pour éviter le déséquilibre) et \n",
    "#concatène les deux ensembles de données en un seul dataframe.\n",
    "df_b= df_b[0:2241]\n",
    "\n",
    "#Mélange aléatoire\n",
    "df = pd.concat([df_a, df_b], axis=0)\n",
    "\n",
    "#Variable cible \"y\" extraite et transformée en \"one-hot encoding\" (encodage catégorique) \n",
    "#pour être compatible avec la fonction d'activation \"sigmoid\" du modèle.\n",
    "df = df.sample(frac=1)\n",
    "\n",
    "\n",
    "y = df[TARGET]\n",
    "X = df.drop([TARGET],axis=1)\n",
    "\n",
    "y = y.to_numpy()\n",
    "scaler = StandardScaler()\n",
    "scaler.fit(X)\n",
    "X = scaler.transform(X)\n",
    "y = to_categorical(y)"
   ]
  },
  {
   "cell_type": "code",
   "execution_count": 368,
   "id": "505f2d72",
   "metadata": {},
   "outputs": [],
   "source": [
    "X_train, X_test, y_train, y_test = train_test_split(X, y, test_size = 0.2)"
   ]
  },
  {
   "cell_type": "code",
   "execution_count": 369,
   "id": "ffc9e669",
   "metadata": {},
   "outputs": [
    {
     "name": "stdout",
     "output_type": "stream",
     "text": [
      "0    2241\n",
      "1    2241\n",
      "Name: Label, dtype: int64\n"
     ]
    }
   ],
   "source": [
    "X_train = np.reshape(X_train, (X_train.shape[0], 1, X.shape[1]))\n",
    "X_test = np.reshape(X_test, (X_test.shape[0], 1, X.shape[1]))\n",
    "print(df[\"Label\"].value_counts())"
   ]
  },
  {
   "cell_type": "code",
   "execution_count": 370,
   "id": "9cb94796",
   "metadata": {},
   "outputs": [
    {
     "name": "stdout",
     "output_type": "stream",
     "text": [
      "Shape of training data: (3585, 1, 10)\n",
      "Shape of testing data: (897, 1, 10)\n"
     ]
    }
   ],
   "source": [
    "print(\"Shape of training data:\", X_train.shape)\n",
    "print(\"Shape of testing data:\", X_test.shape)"
   ]
  },
  {
   "cell_type": "markdown",
   "id": "73fae64a",
   "metadata": {},
   "source": [
    "## Model"
   ]
  },
  {
   "cell_type": "code",
   "execution_count": 384,
   "id": "932bffcc",
   "metadata": {},
   "outputs": [
    {
     "name": "stdout",
     "output_type": "stream",
     "text": [
      "Model: \"sequential_53\"\n",
      "_________________________________________________________________\n",
      " Layer (type)                Output Shape              Param #   \n",
      "=================================================================\n",
      " dense_173 (Dense)           (None, 1, 32)             352       \n",
      "                                                                 \n",
      " dense_174 (Dense)           (None, 1, 64)             2112      \n",
      "                                                                 \n",
      " dense_175 (Dense)           (None, 1, 128)            8320      \n",
      "                                                                 \n",
      " dense_176 (Dense)           (None, 1, 2)              258       \n",
      "                                                                 \n",
      " flatten_29 (Flatten)        (None, 2)                 0         \n",
      "                                                                 \n",
      "=================================================================\n",
      "Total params: 11,042\n",
      "Trainable params: 11,042\n",
      "Non-trainable params: 0\n",
      "_________________________________________________________________\n"
     ]
    }
   ],
   "source": [
    "model = Sequential()\n",
    "\n",
    "#0.9342\n",
    "#model.add(Dense(32, input_shape=(1, 10), activation=\"relu\"))\n",
    "#model.add(Dense(64, activation=\"relu\"))\n",
    "#model.add(Dense(128, activation=\"relu\"))\n",
    "#model.add(Dense(y.shape[1], activation='sigmoid'))\n",
    "#model.add(Flatten())\n",
    "\n",
    "#0.9275 avec batch_size=16\n",
    "model.add(Dense(32, input_shape=(1, 10), activation=\"relu\"))\n",
    "model.add(Dense(64, activation=\"relu\"))\n",
    "model.add(Dense(128, activation=\"relu\"))\n",
    "model.add(Dense(y.shape[1], activation='sigmoid'))\n",
    "model.add(Flatten())\n",
    "\n",
    "\n",
    "#avec des dropout ou des batchnormalization (suivant la courbe d'entraiemnet) si ça améliore le truc\n",
    "\n",
    "#0.9331\n",
    "#model.add(Dense(32, input_shape=(1, 10), activation=\"relu\"))\n",
    "#model.add(Dropout(0.3)) # Ajout de Dropout, pourcentage de neurones à désactiver aléatoirement pendant l'apprentissage\n",
    "#model.add(Dense(64, activation=\"relu\"))\n",
    "#model.add(Dropout(0.3)) # Ajout de Dropout\n",
    "#model.add(Dense(128, activation=\"relu\"))\n",
    "#model.add(Dense(y.shape[1], activation='sigmoid'))\n",
    "#model.add(Flatten())\n",
    "\n",
    "#0.9309\n",
    "#model.add(Dense(32, input_shape=(1, 10,), activation=\"relu\"))\n",
    "#model.add(Dense(64, activation=\"tanh\"))\n",
    "#model.add(Dense(128, activation=\"relu\"))\n",
    "#model.add(Dense(y.shape[1], activation='sigmoid'))\n",
    "#model.add(Flatten())\n",
    "\n",
    "\n",
    "model.compile(loss = 'binary_crossentropy', optimizer = \"adam\", metrics = ['accuracy'])\n",
    "\n",
    "model.summary()"
   ]
  },
  {
   "cell_type": "code",
   "execution_count": 385,
   "id": "04e8d11f",
   "metadata": {
    "scrolled": true
   },
   "outputs": [
    {
     "name": "stdout",
     "output_type": "stream",
     "text": [
      "Epoch 1/25\n",
      "225/225 [==============================] - 13s 25ms/step - loss: 0.4237 - accuracy: 0.8033 - val_loss: 0.2832 - val_accuracy: 0.8718\n",
      "Epoch 2/25\n",
      "225/225 [==============================] - 4s 18ms/step - loss: 0.2784 - accuracy: 0.8700 - val_loss: 0.2394 - val_accuracy: 0.9130\n",
      "Epoch 3/25\n",
      "225/225 [==============================] - 2s 9ms/step - loss: 0.2492 - accuracy: 0.8851 - val_loss: 0.2092 - val_accuracy: 0.9175\n",
      "Epoch 4/25\n",
      "225/225 [==============================] - 2s 9ms/step - loss: 0.2196 - accuracy: 0.9004 - val_loss: 0.1974 - val_accuracy: 0.9142\n",
      "Epoch 5/25\n",
      "225/225 [==============================] - 2s 9ms/step - loss: 0.2055 - accuracy: 0.9110 - val_loss: 0.1895 - val_accuracy: 0.9186\n",
      "Epoch 6/25\n",
      "225/225 [==============================] - 2s 9ms/step - loss: 0.2028 - accuracy: 0.9172 - val_loss: 0.1791 - val_accuracy: 0.9275\n",
      "Epoch 7/25\n",
      "225/225 [==============================] - 2s 9ms/step - loss: 0.1918 - accuracy: 0.9211 - val_loss: 0.1948 - val_accuracy: 0.9208\n",
      "Epoch 8/25\n",
      "225/225 [==============================] - 2s 9ms/step - loss: 0.1933 - accuracy: 0.9135 - val_loss: 0.1794 - val_accuracy: 0.9242\n",
      "Epoch 9/25\n",
      "225/225 [==============================] - 2s 9ms/step - loss: 0.1854 - accuracy: 0.9208 - val_loss: 0.1796 - val_accuracy: 0.9242\n"
     ]
    },
    {
     "data": {
      "text/plain": [
       "<keras.callbacks.History at 0x23889dbd6d0>"
      ]
     },
     "execution_count": 385,
     "metadata": {},
     "output_type": "execute_result"
    }
   ],
   "source": [
    "earlystopping = callbacks.EarlyStopping(monitor =\"val_loss\", \n",
    "                                        mode =\"min\", \n",
    "                                        patience = 3, \n",
    "                                        restore_best_weights = True)\n",
    "\n",
    "history = model.fit(X_train, y_train, \n",
    "                    epochs = 25, \n",
    "                    batch_size=16,\n",
    "                    validation_data= (X_test, y_test),\n",
    "                    callbacks =[earlystopping])\n",
    "history"
   ]
  },
  {
   "cell_type": "code",
   "execution_count": 386,
   "id": "05a06837",
   "metadata": {},
   "outputs": [
    {
     "name": "stdout",
     "output_type": "stream",
     "text": [
      "29/29 [==============================] - 1s 3ms/step - loss: 0.1791 - accuracy: 0.9275\n"
     ]
    },
    {
     "data": {
      "text/plain": [
       "[0.1791255623102188, 0.9275362491607666]"
      ]
     },
     "execution_count": 386,
     "metadata": {},
     "output_type": "execute_result"
    }
   ],
   "source": [
    "accuracy = model.evaluate(X_test, y_test)\n",
    "accuracy "
   ]
  },
  {
   "cell_type": "markdown",
   "id": "b73c173d",
   "metadata": {},
   "source": [
    "### On vérifie la sortie test"
   ]
  },
  {
   "cell_type": "code",
   "execution_count": 335,
   "id": "7380d72c",
   "metadata": {},
   "outputs": [
    {
     "name": "stdout",
     "output_type": "stream",
     "text": [
      "[[0. 1.]\n",
      " [0. 1.]\n",
      " [0. 1.]\n",
      " ...\n",
      " [0. 1.]\n",
      " [1. 0.]\n",
      " [1. 0.]]\n"
     ]
    }
   ],
   "source": [
    "print(y_test)"
   ]
  },
  {
   "cell_type": "markdown",
   "id": "eed78612",
   "metadata": {},
   "source": [
    "### Le print montre que les étiquettes sont codées en vecteurs binaires (one-hot encoded). \n",
    "### Donc chaque ligne du tableau est un exemple et chaque colonne correspond à une classe (donc 2). Si la valeur de la colonne est 1, l'exemple appartient à cette classe.\n",
    "\n",
    "### Chte donne une exemple: pour la première ligne on a [0, 1], donc on a 100% de chance que la réponse soit 1.\n",
    "### En gros, ce que tu vois là, c'est les probabilités.\n",
    "\n",
    "### ça transforme notre problème binaire en problème multilabel.\n",
    "### Pour y remedier, on a juste à convertir"
   ]
  },
  {
   "cell_type": "code",
   "execution_count": 336,
   "id": "1897c324",
   "metadata": {},
   "outputs": [
    {
     "name": "stdout",
     "output_type": "stream",
     "text": [
      "29/29 [==============================] - 4s 2ms/step\n",
      "Acc :  0.919732441471572\n",
      "Précision :  0.9458128078817734\n",
      "Rappel :  0.9524838012958964\n"
     ]
    }
   ],
   "source": [
    "y_pred = model.predict(X_test)\n",
    "\n",
    "y_test_binary = np.argmax(y_test, axis=1)\n",
    "y_pred_binary = np.argmax(y_pred, axis=1)\n",
    "\n",
    "precision = precision_score(y_test_binary, y_pred_binary)\n",
    "recall = recall_score(y_test_binary, y_pred_binary, pos_label=0)\n",
    "acc = accuracy_score(y_test_binary, y_pred_binary)\n",
    "\n",
    "\n",
    "#Mesure de la capacité du modèle à classer correctement tous les exemples\n",
    "print(\"Acc : \", acc)\n",
    "\n",
    "#Mesure la capacité du modèle à classer correctement les exemples positifs\n",
    "print(\"Précision : \", precision)\n",
    "\n",
    "#Mesure la capacité du modèle à classer correctement les exemples négatifs\n",
    "print(\"Rappel : \", recall)\n"
   ]
  },
  {
   "cell_type": "markdown",
   "id": "d3318a93",
   "metadata": {},
   "source": [
    "## Test du modèle avec la fonction attacked()"
   ]
  },
  {
   "cell_type": "code",
   "execution_count": 337,
   "id": "63707878",
   "metadata": {},
   "outputs": [],
   "source": [
    "def attacked(model, Destination_Port,\n",
    "             Total_Length_of_Fwd_Packets,\n",
    "             Bwd_Packet_Length_Std,\n",
    "             Bwd_Header_Length,\n",
    "             Bwd_Packets_s,\n",
    "             Packet_Length_Std,\n",
    "             Packet_Length_Variance,\n",
    "             Average_Packet_Size,\n",
    "             Subflow_Fwd_Bytes,\n",
    "             Init_Win_bytes_forward,               \n",
    "               ):\n",
    "    #model = pickle.load(open('model_detection_attack.sav', 'rb'))\n",
    "\n",
    "    x = np.array([Init_Win_bytes_forward,\n",
    "                  Total_Length_of_Fwd_Packets,\n",
    "                  Bwd_Header_Length,\n",
    "                  Destination_Port,\n",
    "                  Subflow_Fwd_Bytes,\n",
    "                  Packet_Length_Std,\n",
    "                  Packet_Length_Variance,\n",
    "                  Bwd_Packets_s,\n",
    "                  Average_Packet_Size,\n",
    "                  Bwd_Packet_Length_Std\n",
    "                  ]).reshape(1, 1, 10)\n",
    "    \n",
    "\n",
    "    print(model.predict(x))\n",
    "    #print(model.predict_proba(x))"
   ]
  },
  {
   "cell_type": "code",
   "execution_count": 338,
   "id": "daa673b3",
   "metadata": {},
   "outputs": [
    {
     "name": "stdout",
     "output_type": "stream",
     "text": [
      "1/1 [==============================] - 3s 3s/step\n",
      "[[1. 0.]]\n",
      "0\n"
     ]
    }
   ],
   "source": [
    "a = attacked(model, 80, 371, 1754.831473, 200, 0.060958398,1460.1010199999994,2131894.989,920.4615385,371,274\n",
    ")\n",
    "\n",
    "#On donne la réponse sous la même forme de la colonne label\n",
    "b = np.argmax(a)\n",
    "print(b)"
   ]
  },
  {
   "cell_type": "markdown",
   "id": "4151ad02",
   "metadata": {},
   "source": [
    "## Graphiques"
   ]
  },
  {
   "cell_type": "code",
   "execution_count": 339,
   "id": "ae9400ac",
   "metadata": {},
   "outputs": [
    {
     "data": {
      "image/png": "[encoded data removed]",
      "text/plain": [
       "<Figure size 640x480 with 1 Axes>"
      ]
     },
     "metadata": {},
     "output_type": "display_data"
    },
    {
     "data": {
      "image/png": "[encoded data removed]",
      "text/plain": [
       "<Figure size 640x480 with 1 Axes>"
      ]
     },
     "metadata": {},
     "output_type": "display_data"
    }
   ],
   "source": [
    "# loss plot function\n",
    "def plot_loss(loss,val_loss):\n",
    "    plt.figure()\n",
    "    plt.plot(loss)\n",
    "    plt.plot(val_loss)\n",
    "    plt.title('Model loss')\n",
    "    plt.ylabel('Loss')\n",
    "    plt.xlabel('Epoch')\n",
    "    plt.legend(['Train', 'Test'], loc='upper right')  \n",
    "    plt.show()\n",
    "    \n",
    "# accuracy plot function    \n",
    "def plot_accuracy(acc,val_acc):\n",
    "    plt.figure()\n",
    "    plt.plot(acc)\n",
    "    plt.plot(val_acc)\n",
    "    plt.title('Model accuracy')\n",
    "    plt.ylabel('Accuracy')\n",
    "    plt.xlabel('Epoch')\n",
    "    plt.legend(['Train', 'Test'], loc='upper left')\n",
    "    plt.show()\n",
    "\n",
    "# plot loss and accuracy curves\n",
    "plot_loss(history.history['loss'], history.history['val_loss'])\n",
    "plot_accuracy(history.history['accuracy'], history.history['val_accuracy'])"
   ]
  },
  {
   "cell_type": "code",
   "execution_count": null,
   "id": "85575327",
   "metadata": {},
   "outputs": [],
   "source": []
  }
 ],
 "metadata": {
  "kernelspec": {
   "display_name": "Python 3 (ipykernel)",
   "language": "python",
   "name": "python3"
  },
  "language_info": {
   "codemirror_mode": {
    "name": "ipython",
    "version": 3
   },
   "file_extension": ".py",
   "mimetype": "text/x-python",
   "name": "python",
   "nbconvert_exporter": "python",
   "pygments_lexer": "ipython3",
   "version": "3.9.8"
  }
 },
 "nbformat": 4,
 "nbformat_minor": 5
}
