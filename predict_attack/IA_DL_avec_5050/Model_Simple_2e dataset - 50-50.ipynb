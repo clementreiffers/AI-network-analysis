{
 "cells": [
  {
   "cell_type": "code",
   "execution_count": 20,
   "id": "438791ea",
   "metadata": {},
   "outputs": [],
   "source": [
    "import pandas as pd\n",
    "import numpy as np\n",
    "\n",
    "# Graph\n",
    "import plotly.express as px\n",
    "import matplotlib.pyplot as plt\n",
    "\n",
    "# Keras\n",
    "from keras.models import Sequential\n",
    "from keras.layers import Dense, Flatten, Dropout\n",
    "from keras import callbacks\n",
    "\n",
    "# sklearn\n",
    "from sklearn.preprocessing import StandardScaler\n",
    "from sklearn.model_selection import train_test_split\n",
    "from sklearn.metrics import accuracy_score, precision_score, recall_score, average_precision_score\n",
    "\n",
    "# tf\n",
    "from tensorflow.keras.utils import to_categorical\n",
    "import tensorflow as tf\n",
    "from tensorflow.keras import regularizers\n",
    "from tensorflow.keras.layers import Embedding, BatchNormalization, Activation\n",
    "from tensorflow.keras.optimizers import SGD"
   ]
  },
  {
   "cell_type": "code",
   "execution_count": 21,
   "id": "509eb4cd",
   "metadata": {},
   "outputs": [
    {
     "name": "stdout",
     "output_type": "stream",
     "text": [
      "1    22506\n",
      "0     2241\n",
      "Name: Label, dtype: int64\n"
     ]
    }
   ],
   "source": [
    "#path = r\"C:\\Users\\sonia\\Documents\\Document\\2022-2023\\Projet 3I - Deep Learning\\dataset_clean.csv\"\n",
    "path=\"/Users/maellemarcelin/Documents/sudria/Ingé3/projet/dataset_clean.csv\"\n",
    "TARGET = 'Label'\n",
    "df = pd.read_csv(path)\n",
    "nombre_de_valeurs = df[\"Label\"].value_counts()\n",
    "print(nombre_de_valeurs)"
   ]
  },
  {
   "cell_type": "code",
   "execution_count": 22,
   "id": "7770598a",
   "metadata": {},
   "outputs": [],
   "source": [
    "#Extrait des colonnes a utiliser pour la prédiction, \"Label\" correspond à la variable cible binaire (0 ou 1).\n",
    "df = df[['Init_Win_bytes_forward',\n",
    "'Total Length of Fwd Packets',\n",
    "'Bwd Header Length',\n",
    "'Destination Port',\n",
    "'Subflow Fwd Bytes',\n",
    "'Packet Length Std',\n",
    "'Packet Length Variance',\n",
    "'Bwd Packets/s',\n",
    "'Average Packet Size',\n",
    "'Bwd Packet Length Std',\n",
    "         \"Label\"]]\n",
    "\n",
    "\n",
    "#Création de deux ensembles de données, une classe positive (label=1) et une classe négative (label=0).\n",
    "df_b = df[df['Label']==1]\n",
    "df_a = df[df['Label']==0]\n",
    "\n",
    "#Sélection d'un nombre fixe d'instances de la classe positive (pour éviter le déséquilibre) et \n",
    "#concatène les deux ensembles de données en un seul dataframe.\n",
    "df_b= df_b[0:2241]\n",
    "\n",
    "#Mélange aléatoire\n",
    "df = pd.concat([df_a, df_b], axis=0)\n",
    "\n",
    "#Variable cible \"y\" extraite et transformée en \"one-hot encoding\" (encodage catégorique) \n",
    "#pour être compatible avec la fonction d'activation \"sigmoid\" du modèle.\n",
    "df = df.sample(frac=1)\n",
    "\n",
    "\n",
    "y = df[TARGET]\n",
    "X = df.drop([TARGET],axis=1)\n",
    "\n",
    "y = y.to_numpy()\n",
    "scaler = StandardScaler()\n",
    "scaler.fit(X)\n",
    "X = scaler.transform(X)\n",
    "y = to_categorical(y)"
   ]
  },
  {
   "cell_type": "code",
   "execution_count": 23,
   "id": "505f2d72",
   "metadata": {},
   "outputs": [],
   "source": [
    "X_train, X_test, y_train, y_test = train_test_split(X, y, test_size = 0.2)"
   ]
  },
  {
   "cell_type": "code",
   "execution_count": 24,
   "id": "ffc9e669",
   "metadata": {},
   "outputs": [
    {
     "name": "stdout",
     "output_type": "stream",
     "text": [
      "1    2241\n",
      "0    2241\n",
      "Name: Label, dtype: int64\n"
     ]
    }
   ],
   "source": [
    "X_train = np.reshape(X_train, (X_train.shape[0], 1, X.shape[1]))\n",
    "X_test = np.reshape(X_test, (X_test.shape[0], 1, X.shape[1]))\n",
    "print(df[\"Label\"].value_counts())"
   ]
  },
  {
   "cell_type": "code",
   "execution_count": 25,
   "id": "9cb94796",
   "metadata": {},
   "outputs": [
    {
     "name": "stdout",
     "output_type": "stream",
     "text": [
      "Shape of training data: (3585, 1, 10)\n",
      "Shape of testing data: (897, 1, 10)\n"
     ]
    }
   ],
   "source": [
    "print(\"Shape of training data:\", X_train.shape)\n",
    "print(\"Shape of testing data:\", X_test.shape)"
   ]
  },
  {
   "cell_type": "markdown",
   "id": "73fae64a",
   "metadata": {},
   "source": [
    "## Model"
   ]
  },
  {
   "cell_type": "code",
   "execution_count": 26,
   "id": "932bffcc",
   "metadata": {},
   "outputs": [
    {
     "name": "stdout",
     "output_type": "stream",
     "text": [
      "Model: \"sequential_2\"\n",
      "_________________________________________________________________\n",
      " Layer (type)                Output Shape              Param #   \n",
      "=================================================================\n",
      " dense_9 (Dense)             (None, 1, 32)             352       \n",
      "                                                                 \n",
      " dense_10 (Dense)            (None, 1, 32)             1056      \n",
      "                                                                 \n",
      " dense_11 (Dense)            (None, 1, 32)             1056      \n",
      "                                                                 \n",
      " dense_12 (Dense)            (None, 1, 32)             1056      \n",
      "                                                                 \n",
      " dense_13 (Dense)            (None, 1, 2)              66        \n",
      "                                                                 \n",
      " flatten_2 (Flatten)         (None, 2)                 0         \n",
      "                                                                 \n",
      "=================================================================\n",
      "Total params: 3,586\n",
      "Trainable params: 3,586\n",
      "Non-trainable params: 0\n",
      "_________________________________________________________________\n"
     ]
    }
   ],
   "source": [
    "model = Sequential()\n",
    "\n",
    "#0.9342\n",
    "#model.add(Dense(32, input_shape=(1, 10), activation=\"relu\"))\n",
    "#model.add(Dense(64, activation=\"relu\"))\n",
    "#model.add(Dense(128, activation=\"relu\"))\n",
    "#model.add(Dense(y.shape[1], activation='sigmoid'))\n",
    "#model.add(Flatten())\n",
    "\n",
    "#0.9275 avec batch_size=16\n",
    "#model.add(Dense(32, input_shape=(1, 10), activation=\"relu\"))\n",
    "#model.add(Dense(64, activation=\"relu\"))\n",
    "#model.add(Dense(128, activation=\"relu\"))\n",
    "#model.add(Dense(y.shape[1], activation='sigmoid'))\n",
    "#model.add(Flatten())\n",
    "\n",
    "#0.9208\n",
    "#model.add(Dense(32, input_shape=(1, 10), activation=\"relu\", kernel_regularizer=regularizers.l1(0.001)))\n",
    "#model.add(BatchNormalization())\n",
    "#model.add(Dropout(0.25))\n",
    "\n",
    "#model.add(Dense(64, activation=\"relu\", kernel_regularizer=regularizers.l1(0.001)))\n",
    "#model.add(BatchNormalization())\n",
    "#model.add(Dropout(0.25))\n",
    "\n",
    "#model.add(Dense(128, activation=\"relu\", kernel_regularizer=regularizers.l1(0.001)))\n",
    "#model.add(BatchNormalization())\n",
    "#model.add(Dropout(0.25))\n",
    "\n",
    "#model.add(Flatten())\n",
    "#model.add(Dense(y.shape[1], activation='sigmoid'))\n",
    "\n",
    "#######\n",
    "#model.add(Dense(32, input_shape=(1, 10), activation=\"relu\", kernel_regularizer=regularizers.l2(0.001)))\n",
    "#model.add(Dropout(0.2))\n",
    "\n",
    "#model.add(Dense(64, activation=\"relu\", kernel_regularizer=regularizers.l2(0.001)))\n",
    "#model.add(Dropout(0.2))\n",
    "\n",
    "#model.add(Dense(128, activation=\"relu\"))\n",
    "\n",
    "#model.add(Dense(y.shape[1], activation='sigmoid'))\n",
    "#model.add(Flatten())\n",
    "#########\n",
    "model.add(Dense(32, input_shape=(1, 10), activation=\"relu\",kernel_initializer='he_uniform'))\n",
    "model.add(Dense(32, activation=\"relu\"))\n",
    "model.add(Dense(32, activation=\"relu\"))\n",
    "model.add(Dense(32, activation=\"relu\"))\n",
    "model.add(Dense(y.shape[1], activation='sigmoid'))\n",
    "model.add(Flatten())\n",
    "########\n",
    "\n",
    "#model.add(Dense(32, input_shape=(1, 10), activation=\"relu\", kernel_regularizer=regularizers.l1(0.001)))\n",
    "#model.add(Dropout(0.5)) # Ajout de Dropout, pourcentage de neurones à désactiver aléatoirement pendant l'apprentissage\n",
    "#model.add(Dense(64, activation=\"relu\", kernel_regularizer=regularizers.l1(0.001)))\n",
    "#model.add(Dropout(0.5))\n",
    "#model.add(Dense(128, activation=\"relu\", kernel_regularizer=regularizers.l1(0.001)))\n",
    "#model.add(Dense(y.shape[1], activation='sigmoid'))\n",
    "#model.add(Flatten())\n",
    "\n",
    "\n",
    "#0.9331\n",
    "#model.add(Dense(32, input_shape=(1, 10), activation=\"relu\"))\n",
    "#model.add(Dropout(0.3)) # Ajout de Dropout, pourcentage de neurones à désactiver aléatoirement pendant l'apprentissage\n",
    "#model.add(Dense(64, activation=\"relu\"))\n",
    "#model.add(Dropout(0.3)) # Ajout de Dropout\n",
    "#model.add(Dense(128, activation=\"relu\"))\n",
    "#model.add(Dense(y.shape[1], activation='sigmoid'))\n",
    "#model.add(Flatten())\n",
    "\n",
    "#0.9309\n",
    "#model.add(Dense(32, input_shape=(1, 10,), activation=\"relu\"))\n",
    "#model.add(Dense(64, activation=\"tanh\"))\n",
    "#model.add(Dense(128, activation=\"relu\"))\n",
    "#model.add(Dense(y.shape[1], activation='sigmoid'))\n",
    "#model.add(Flatten())\n",
    "\n",
    "\n",
    "model.compile(loss = 'binary_crossentropy', optimizer = \"adam\", metrics = ['accuracy'])\n",
    "\n",
    "model.summary()"
   ]
  },
  {
   "cell_type": "code",
   "execution_count": 27,
   "id": "04e8d11f",
   "metadata": {
    "scrolled": true
   },
   "outputs": [
    {
     "name": "stdout",
     "output_type": "stream",
     "text": [
      "Epoch 1/25\n",
      "225/225 [==============================] - 1s 2ms/step - loss: 0.4592 - accuracy: 0.7810 - val_loss: 0.3575 - val_accuracy: 0.8439\n",
      "Epoch 2/25\n",
      "225/225 [==============================] - 0s 860us/step - loss: 0.3150 - accuracy: 0.8619 - val_loss: 0.2890 - val_accuracy: 0.9019\n",
      "Epoch 3/25\n",
      "225/225 [==============================] - 0s 844us/step - loss: 0.2541 - accuracy: 0.8753 - val_loss: 0.2343 - val_accuracy: 0.9119\n",
      "Epoch 4/25\n",
      "225/225 [==============================] - 0s 864us/step - loss: 0.2176 - accuracy: 0.9046 - val_loss: 0.2264 - val_accuracy: 0.9287\n",
      "Epoch 5/25\n",
      "225/225 [==============================] - 0s 849us/step - loss: 0.2090 - accuracy: 0.9113 - val_loss: 0.2028 - val_accuracy: 0.9264\n",
      "Epoch 6/25\n",
      "225/225 [==============================] - 0s 852us/step - loss: 0.1990 - accuracy: 0.9155 - val_loss: 0.1969 - val_accuracy: 0.9331\n",
      "Epoch 7/25\n",
      "225/225 [==============================] - 0s 877us/step - loss: 0.1900 - accuracy: 0.9219 - val_loss: 0.1710 - val_accuracy: 0.9376\n",
      "Epoch 8/25\n",
      "225/225 [==============================] - 0s 885us/step - loss: 0.1811 - accuracy: 0.9261 - val_loss: 0.1745 - val_accuracy: 0.9342\n",
      "Epoch 9/25\n",
      "225/225 [==============================] - 0s 874us/step - loss: 0.1793 - accuracy: 0.9241 - val_loss: 0.1786 - val_accuracy: 0.9298\n",
      "Epoch 10/25\n",
      "225/225 [==============================] - 0s 872us/step - loss: 0.1782 - accuracy: 0.9250 - val_loss: 0.1632 - val_accuracy: 0.9376\n",
      "Epoch 11/25\n",
      "225/225 [==============================] - 0s 862us/step - loss: 0.1775 - accuracy: 0.9255 - val_loss: 0.1589 - val_accuracy: 0.9365\n",
      "Epoch 12/25\n",
      "225/225 [==============================] - 0s 853us/step - loss: 0.1745 - accuracy: 0.9244 - val_loss: 0.1662 - val_accuracy: 0.9398\n",
      "Epoch 13/25\n",
      "225/225 [==============================] - 0s 856us/step - loss: 0.1719 - accuracy: 0.9283 - val_loss: 0.1718 - val_accuracy: 0.9309\n",
      "Epoch 14/25\n",
      "225/225 [==============================] - 0s 863us/step - loss: 0.1685 - accuracy: 0.9305 - val_loss: 0.1593 - val_accuracy: 0.9387\n",
      "Epoch 15/25\n",
      "225/225 [==============================] - 0s 865us/step - loss: 0.1716 - accuracy: 0.9294 - val_loss: 0.1508 - val_accuracy: 0.9431\n",
      "Epoch 16/25\n",
      "225/225 [==============================] - 0s 865us/step - loss: 0.1633 - accuracy: 0.9314 - val_loss: 0.1702 - val_accuracy: 0.9398\n",
      "Epoch 17/25\n",
      "225/225 [==============================] - 0s 865us/step - loss: 0.1641 - accuracy: 0.9297 - val_loss: 0.1495 - val_accuracy: 0.9387\n",
      "Epoch 18/25\n",
      "225/225 [==============================] - 0s 871us/step - loss: 0.1565 - accuracy: 0.9317 - val_loss: 0.1535 - val_accuracy: 0.9320\n",
      "Epoch 19/25\n",
      "225/225 [==============================] - 0s 869us/step - loss: 0.1581 - accuracy: 0.9325 - val_loss: 0.1436 - val_accuracy: 0.9376\n",
      "Epoch 20/25\n",
      "225/225 [==============================] - 0s 866us/step - loss: 0.1774 - accuracy: 0.9278 - val_loss: 0.1770 - val_accuracy: 0.9320\n",
      "Epoch 21/25\n",
      "225/225 [==============================] - 0s 869us/step - loss: 0.1656 - accuracy: 0.9347 - val_loss: 0.1457 - val_accuracy: 0.9409\n",
      "Epoch 22/25\n",
      "225/225 [==============================] - 0s 862us/step - loss: 0.1512 - accuracy: 0.9356 - val_loss: 0.1360 - val_accuracy: 0.9420\n",
      "Epoch 23/25\n",
      "225/225 [==============================] - 0s 864us/step - loss: 0.1501 - accuracy: 0.9322 - val_loss: 0.1363 - val_accuracy: 0.9398\n",
      "Epoch 24/25\n",
      "225/225 [==============================] - 0s 860us/step - loss: 0.1564 - accuracy: 0.9336 - val_loss: 0.1462 - val_accuracy: 0.9420\n",
      "Epoch 25/25\n",
      "225/225 [==============================] - 0s 877us/step - loss: 0.1487 - accuracy: 0.9347 - val_loss: 0.1322 - val_accuracy: 0.9465\n"
     ]
    },
    {
     "data": {
      "text/plain": [
       "<keras.callbacks.History at 0x29dd6a860>"
      ]
     },
     "execution_count": 27,
     "metadata": {},
     "output_type": "execute_result"
    }
   ],
   "source": [
    "earlystopping = callbacks.EarlyStopping(monitor =\"val_loss\", \n",
    "                                        mode =\"min\", \n",
    "                                        patience = 10, \n",
    "                                        restore_best_weights = True)\n",
    "\n",
    "history = model.fit(X_train, y_train, \n",
    "                    epochs = 25, \n",
    "                    batch_size=16,\n",
    "                    validation_data= (X_test, y_test),\n",
    "                    callbacks =[earlystopping])\n",
    "history"
   ]
  },
  {
   "cell_type": "code",
   "execution_count": 28,
   "id": "05a06837",
   "metadata": {},
   "outputs": [
    {
     "name": "stdout",
     "output_type": "stream",
     "text": [
      "29/29 [==============================] - 0s 520us/step - loss: 0.1322 - accuracy: 0.9465\n"
     ]
    },
    {
     "data": {
      "text/plain": [
       "[0.13220086693763733, 0.9464883208274841]"
      ]
     },
     "execution_count": 28,
     "metadata": {},
     "output_type": "execute_result"
    }
   ],
   "source": [
    "accuracy = model.evaluate(X_test, y_test)\n",
    "accuracy "
   ]
  },
  {
   "cell_type": "markdown",
   "id": "b73c173d",
   "metadata": {},
   "source": [
    "### On vérifie la sortie test"
   ]
  },
  {
   "cell_type": "code",
   "execution_count": 10,
   "id": "7380d72c",
   "metadata": {},
   "outputs": [
    {
     "name": "stdout",
     "output_type": "stream",
     "text": [
      "[[1. 0.]\n",
      " [0. 1.]\n",
      " [1. 0.]\n",
      " ...\n",
      " [1. 0.]\n",
      " [1. 0.]\n",
      " [1. 0.]]\n"
     ]
    }
   ],
   "source": [
    "print(y_test)"
   ]
  },
  {
   "cell_type": "code",
   "execution_count": 18,
   "id": "e74c6e94",
   "metadata": {},
   "outputs": [
    {
     "name": "stdout",
     "output_type": "stream",
     "text": [
      "12/12 [==============================] - 1s 3ms/step - loss: 0.2388 - accuracy: 0.9205\n",
      "12/12 [==============================] - 0s 3ms/step - loss: 0.2312 - accuracy: 0.9135\n",
      "12/12 [==============================] - 1s 5ms/step - loss: 0.2149 - accuracy: 0.9247\n",
      "12/12 [==============================] - 1s 6ms/step - loss: 0.2939 - accuracy: 0.9024\n",
      "12/12 [==============================] - 1s 2ms/step - loss: 0.2870 - accuracy: 0.8926\n",
      "23/23 [==============================] - 1s 3ms/step - loss: 0.2183 - accuracy: 0.9428\n",
      "23/23 [==============================] - 1s 4ms/step - loss: 0.1430 - accuracy: 0.9344\n",
      "23/23 [==============================] - 1s 3ms/step - loss: 0.1477 - accuracy: 0.9456\n",
      "12/12 [==============================] - 2s 4ms/step - loss: 0.2103 - accuracy: 0.9121\n",
      "23/23 [==============================] - 1s 3ms/step - loss: 0.2108 - accuracy: 0.9358\n",
      "23/23 [==============================] - 1s 2ms/step - loss: 0.1414 - accuracy: 0.9456\n",
      "12/12 [==============================] - 1s 4ms/step - loss: 0.1513 - accuracy: 0.9344\n",
      "12/12 [==============================] - 1s 2ms/step - loss: 0.1603 - accuracy: 0.9400\n",
      "12/12 [==============================] - 2s 3ms/step - loss: 0.1646 - accuracy: 0.9275\n",
      "12/12 [==============================] - 1s 2ms/step - loss: 0.2259 - accuracy: 0.9205\n",
      "90/90 [==============================] - 3s 4ms/step - loss: 0.1751 - accuracy: 0.9205\n",
      "90/90 [==============================] - 2s 4ms/step - loss: 0.1458 - accuracy: 0.9358\n",
      "90/90 [==============================] - 3s 4ms/step - loss: 0.1671 - accuracy: 0.9247\n",
      "90/90 [==============================] - 2s 3ms/step - loss: 0.1278 - accuracy: 0.9526\n",
      "90/90 [==============================] - 2s 3ms/step - loss: 0.2011 - accuracy: 0.9261\n",
      "180/180 [==============================] - 1s 3ms/step - loss: 0.1199 - accuracy: 0.9526\n",
      "180/180 [==============================] - 1s 3ms/step - loss: 0.1221 - accuracy: 0.9707\n",
      "180/180 [==============================] - 1s 2ms/step - loss: 0.1877 - accuracy: 0.9526\n",
      "12/12 [==============================] - 1s 4ms/step - loss: 0.1492 - accuracy: 0.9400\n",
      "12/12 [==============================] - 1s 5ms/step - loss: 0.0850 - accuracy: 0.9693\n",
      "12/12 [==============================] - 1s 6ms/step - loss: 0.1414 - accuracy: 0.9526\n",
      "12/12 [==============================] - 1s 9ms/step - loss: 0.1165 - accuracy: 0.9623\n",
      "12/12 [==============================] - 1s 6ms/step - loss: 0.1317 - accuracy: 0.9554\n",
      "180/180 [==============================] - 1s 3ms/step - loss: 0.1372 - accuracy: 0.9693\n",
      "180/180 [==============================] - 2s 2ms/step - loss: 0.3698 - accuracy: 0.9372\n",
      "180/180 [==============================] - 3s 4ms/step - loss: 0.4901 - accuracy: 0.7155\n",
      "180/180 [==============================] - 3s 4ms/step - loss: 0.4609 - accuracy: 0.8020\n",
      "180/180 [==============================] - 2s 3ms/step - loss: 0.5511 - accuracy: 0.7615\n",
      "180/180 [==============================] - 2s 4ms/step - loss: 0.4091 - accuracy: 0.8201\n",
      "180/180 [==============================] - 3s 4ms/step - loss: 0.3345 - accuracy: 0.8842\n",
      "90/90 [==============================] - 1s 3ms/step - loss: 0.1395 - accuracy: 0.9456\n",
      "90/90 [==============================] - 2s 4ms/step - loss: 0.1580 - accuracy: 0.9372\n",
      "90/90 [==============================] - 2s 3ms/step - loss: 0.1452 - accuracy: 0.9358\n",
      "90/90 [==============================] - 1s 5ms/step - loss: 0.1486 - accuracy: 0.9442\n",
      "90/90 [==============================] - 2s 4ms/step - loss: 0.1763 - accuracy: 0.9456\n",
      "23/23 [==============================] - 2s 4ms/step - loss: 0.1675 - accuracy: 0.9400\n",
      "23/23 [==============================] - 1s 6ms/step - loss: 0.1127 - accuracy: 0.9456\n",
      "23/23 [==============================] - 2s 1ms/step - loss: 0.1526 - accuracy: 0.9665\n",
      "23/23 [==============================] - 1s 3ms/step - loss: 0.1475 - accuracy: 0.9596\n",
      "23/23 [==============================] - 1s 2ms/step - loss: 0.3015 - accuracy: 0.9400\n",
      "180/180 [==============================] - 1s 2ms/step - loss: 0.6935 - accuracy: 0.4784\n",
      "180/180 [==============================] - 1s 2ms/step - loss: 0.6933 - accuracy: 0.4881\n",
      "180/180 [==============================] - 1s 1ms/step - loss: 0.6938 - accuracy: 0.4784\n",
      "180/180 [==============================] - 0s 744us/step - loss: 0.6932 - accuracy: 0.4868\n",
      "180/180 [==============================] - 0s 541us/step - loss: 0.6931 - accuracy: 0.4993\n",
      "Best: 0.9565 using {'number_of_neurons': 32, 'number_of_layers': 3, 'init_mode': 'he_uniform', 'epochs': 200, 'batch_size': 4, 'activation': 'relu'}\n"
     ]
    }
   ],
   "source": [
    "import warnings\n",
    "warnings.filterwarnings(\"ignore\") \n",
    "\n",
    "from keras.wrappers.scikit_learn import KerasClassifier\n",
    "from sklearn.model_selection import RandomizedSearchCV \n",
    "from sklearn.model_selection import cross_val_score \n",
    "\n",
    "## modèle de base pour la recherche des paramètres optimaux \n",
    "\n",
    "def create_model(activation='relu', number_of_neurons=256, number_of_layers=2, init_mode='uniform'):\n",
    "    model = Sequential()\n",
    "    model.add(Dense(32, input_shape=(1, 10),kernel_initializer=init_mode, activation=activation))\n",
    "    for i in range(number_of_layers):\n",
    "        model.add(Dense(number_of_neurons, activation=activation))\n",
    "    model.add(Dense(y.shape[1], activation='sigmoid'))\n",
    "    model.add(Flatten())\n",
    "    \n",
    "    model.compile(loss = 'binary_crossentropy', optimizer = \"adam\", metrics = ['accuracy'])\n",
    "    \n",
    "    return model\n",
    "\n",
    "skmodel = KerasClassifier(build_fn=create_model) \n",
    "\n",
    "params = {'activation':['relu', 'tanh'], \n",
    "          'batch_size':[4, 8, 16, 32, 64],\n",
    "          'epochs':[20, 50, 100, 200, 500],\n",
    "          'init_mode':['uniform', 'lecun_uniform', 'normal', 'zero', 'glorot_normal', 'glorot_uniform', 'he_normal', 'he_uniform'],\n",
    "          'number_of_layers':[3,5,7,9,11],\n",
    "          'number_of_neurons':[8,16,32,64,128,256]\n",
    "}\n",
    "\n",
    "random_search = RandomizedSearchCV(skmodel, param_distributions=params, cv=5, n_jobs=-1)\n",
    "\n",
    "random_search_results = random_search.fit(X_train, y_train, verbose=0) \n",
    "print(\"Best: {} using {}\".format(np.round(random_search_results.best_score_,4), random_search_results.best_params_))"
   ]
  },
  {
   "cell_type": "code",
   "execution_count": 19,
   "id": "ad13ccd3",
   "metadata": {},
   "outputs": [
    {
     "name": "stdout",
     "output_type": "stream",
     "text": [
      "90/90 [==============================] - 1s 1ms/step - loss: 0.5281 - accuracy: 0.7542\n",
      "90/90 [==============================] - 1s 1ms/step - loss: 0.5348 - accuracy: 0.7350\n",
      "23/23 [==============================] - 0s 1ms/step - loss: 0.4007 - accuracy: 0.8480\n",
      "23/23 [==============================] - 0s 1ms/step - loss: 0.4384 - accuracy: 0.7838\n"
     ]
    },
    {
     "name": "stderr",
     "output_type": "stream",
     "text": [
      "2023-03-14 17:43:56.111382: W tensorflow/core/platform/profile_utils/cpu_utils.cc:128] Failed to get CPU frequency: 0 Hz\n",
      "2023-03-14 17:43:56.111484: W tensorflow/core/platform/profile_utils/cpu_utils.cc:128] Failed to get CPU frequency: 0 Hz\n",
      "2023-03-14 17:43:56.111383: W tensorflow/core/platform/profile_utils/cpu_utils.cc:128] Failed to get CPU frequency: 0 Hz\n"
     ]
    },
    {
     "name": "stdout",
     "output_type": "stream",
     "text": [
      "90/90 [==============================] - 1s 1ms/step - loss: 0.5517 - accuracy: 0.7322\n",
      "90/90 [==============================] - 1s 1ms/step - loss: 0.5333 - accuracy: 0.7671\n",
      "90/90 [==============================] - 1s 1ms/step - loss: 0.5460 - accuracy: 0.7657\n",
      "23/23 [==============================] - 0s 893us/step - loss: 0.4082 - accuracy: 0.8326\n",
      "23/23 [==============================] - 0s 858us/step - loss: 0.4013 - accuracy: 0.8508\n",
      "23/23 [==============================] - 0s 903us/step - loss: 0.4440 - accuracy: 0.7992\n",
      "The mean accuracy of folds is: 0.8229\n",
      "The standard deviation of folds accuracy is: 0.0268\n"
     ]
    }
   ],
   "source": [
    "from sklearn.model_selection import cross_val_score \n",
    "from sklearn.metrics import make_scorer\n",
    "from sklearn.metrics import accuracy_score, precision_score, recall_score\n",
    "from keras.wrappers.scikit_learn import KerasClassifier\n",
    "\n",
    "\n",
    "def create_model():\n",
    "    model = Sequential()\n",
    "    model.add(Dense(32, input_shape=(1, 10), activation=\"relu\",kernel_initializer='he_uniform'))\n",
    "    model.add(Dense(32, activation=\"relu\"))\n",
    "    model.add(Dense(32, activation=\"relu\"))\n",
    "    model.add(Dense(32, activation=\"relu\"))\n",
    "    model.add(Dense(y.shape[1], activation='sigmoid'))\n",
    "    model.add(Flatten())\n",
    "    model.compile(loss = 'binary_crossentropy', optimizer = \"adam\", metrics = ['accuracy'])\n",
    "    return model\n",
    "\n",
    "# Create a KerasClassifier with the optimal hyperparameters retrieved previsouly\n",
    "sk_model = KerasClassifier(build_fn=create_model)\n",
    "\n",
    "# calculate the cross-validation and return folds accuracy \n",
    "acc_scores = cross_val_score(sk_model, X_train, y_train, cv=5, n_jobs=-1)\n",
    "\n",
    "# Question 11\n",
    "# Print folds mean accuracy\n",
    "print('The mean accuracy of folds is:', np.round(acc_scores.mean(),4))\n",
    "\n",
    "# Print folds accuracy standard deviation\n",
    "print('The standard deviation of folds accuracy is:', np.round(acc_scores.std(),4))"
   ]
  },
  {
   "cell_type": "code",
   "execution_count": 14,
   "id": "17eaf115",
   "metadata": {},
   "outputs": [
    {
     "name": "stderr",
     "output_type": "stream",
     "text": [
      "/var/folders/z5/4lrt7z4s6g74tkj4yy2vd75w0000gn/T/ipykernel_8934/1677329432.py:18: DeprecationWarning: KerasClassifier is deprecated, use Sci-Keras (https://github.com/adriangb/scikeras) instead. See https://www.adriangb.com/scikeras/stable/migration.html for help migrating.\n",
      "  sk_model = KerasClassifier(build_fn=create_model)\n"
     ]
    },
    {
     "name": "stdout",
     "output_type": "stream",
     "text": [
      "90/90 [==============================] - 1s 2ms/step - loss: 0.4749 - accuracy: 0.7849\n",
      "90/90 [==============================] - 1s 2ms/step - loss: 0.5144 - accuracy: 0.7472\n",
      "90/90 [==============================] - 1s 2ms/step - loss: 0.4785 - accuracy: 0.7824\n",
      "90/90 [==============================] - 1s 2ms/step - loss: 0.4813 - accuracy: 0.7692\n",
      "90/90 [==============================] - 1s 2ms/step - loss: 0.4880 - accuracy: 0.7901\n",
      "23/23 [==============================] - 0s 1ms/step - loss: 0.3876 - accuracy: 0.8563\n",
      "23/23 [==============================] - 0s 1ms/step - loss: 0.3741 - accuracy: 0.8466\n",
      "23/23 [==============================] - 0s 1ms/step - loss: 0.3526 - accuracy: 0.8522\n",
      "23/23 [==============================] - 0s 974us/step - loss: 0.4222 - accuracy: 0.7894\n",
      "23/23 [==============================] - 0s 932us/step - loss: 0.3984 - accuracy: 0.8326\n",
      "The mean accuracy of folds is: 0.8354\n",
      "The standard deviation of folds accuracy is: 0.0244\n"
     ]
    }
   ],
   "source": [
    "from sklearn.model_selection import cross_val_score \n",
    "from sklearn.metrics import make_scorer\n",
    "from sklearn.metrics import accuracy_score, precision_score, recall_score\n",
    "from keras.wrappers.scikit_learn import KerasClassifier\n",
    "\n",
    "\n",
    "def create_model():\n",
    "    model = Sequential()\n",
    "    model.add(Dense(32, input_shape=(1, 10), activation=\"relu\"))\n",
    "    model.add(Dense(64, activation=\"relu\"))\n",
    "    model.add(Dense(128, activation=\"relu\"))\n",
    "    model.add(Dense(y.shape[1], activation='sigmoid'))\n",
    "    model.add(Flatten())\n",
    "    model.compile(loss = 'binary_crossentropy', optimizer = \"adam\", metrics = ['accuracy'])\n",
    "    return model\n",
    "\n",
    "# Create a KerasClassifier with the optimal hyperparameters retrieved previsouly\n",
    "sk_model = KerasClassifier(build_fn=create_model)\n",
    "\n",
    "# calculate the cross-validation and return folds accuracy \n",
    "acc_scores = cross_val_score(sk_model, X_train, y_train, cv=5, n_jobs=-1)\n",
    "\n",
    "# Question 11\n",
    "# Print folds mean accuracy\n",
    "print('The mean accuracy of folds is:', np.round(acc_scores.mean(),4))\n",
    "\n",
    "# Print folds accuracy standard deviation\n",
    "print('The standard deviation of folds accuracy is:', np.round(acc_scores.std(),4))"
   ]
  },
  {
   "cell_type": "markdown",
   "id": "eed78612",
   "metadata": {},
   "source": [
    "### Le print montre que les étiquettes sont codées en vecteurs binaires (one-hot encoded). \n",
    "### Donc chaque ligne du tableau est un exemple et chaque colonne correspond à une classe (donc 2). Si la valeur de la colonne est 1, l'exemple appartient à cette classe.\n",
    "\n",
    "### Chte donne une exemple: pour la première ligne on a [0, 1], donc on a 100% de chance que la réponse soit 1.\n",
    "### En gros, ce que tu vois là, c'est les probabilités.\n",
    "\n",
    "### ça transforme notre problème binaire en problème multilabel.\n",
    "### Pour y remedier, on a juste à convertir"
   ]
  },
  {
   "cell_type": "code",
   "execution_count": 136,
   "id": "1897c324",
   "metadata": {},
   "outputs": [
    {
     "name": "stdout",
     "output_type": "stream",
     "text": [
      "29/29 [==============================] - 0s 2ms/step\n",
      "Acc :  0.9264214046822743\n",
      "Précision :  0.9558823529411765\n",
      "Rappel :  0.9607843137254902\n"
     ]
    }
   ],
   "source": [
    "y_pred = model.predict(X_test)\n",
    "\n",
    "y_test_binary = np.argmax(y_test, axis=1)\n",
    "y_pred_binary = np.argmax(y_pred, axis=1)\n",
    "\n",
    "precision = precision_score(y_test_binary, y_pred_binary)\n",
    "recall = recall_score(y_test_binary, y_pred_binary, pos_label=0)\n",
    "acc = accuracy_score(y_test_binary, y_pred_binary)\n",
    "\n",
    "\n",
    "#Mesure de la capacité du modèle à classer correctement tous les exemples\n",
    "print(\"Acc : \", acc)\n",
    "\n",
    "#Mesure la capacité du modèle à classer correctement les exemples positifs\n",
    "print(\"Précision : \", precision)\n",
    "\n",
    "#Mesure la capacité du modèle à classer correctement les exemples négatifs\n",
    "print(\"Rappel : \", recall)\n"
   ]
  },
  {
   "cell_type": "markdown",
   "id": "d3318a93",
   "metadata": {},
   "source": [
    "## Test du modèle avec la fonction attacked()"
   ]
  },
  {
   "cell_type": "code",
   "execution_count": 137,
   "id": "63707878",
   "metadata": {},
   "outputs": [],
   "source": [
    "def attacked(model, Destination_Port,\n",
    "             Total_Length_of_Fwd_Packets,\n",
    "             Bwd_Packet_Length_Std,\n",
    "             Bwd_Header_Length,\n",
    "             Bwd_Packets_s,\n",
    "             Packet_Length_Std,\n",
    "             Packet_Length_Variance,\n",
    "             Average_Packet_Size,\n",
    "             Subflow_Fwd_Bytes,\n",
    "             Init_Win_bytes_forward,               \n",
    "               ):\n",
    "    #model = pickle.load(open('model_detection_attack.sav', 'rb'))\n",
    "\n",
    "    x = np.array([Init_Win_bytes_forward,\n",
    "                  Total_Length_of_Fwd_Packets,\n",
    "                  Bwd_Header_Length,\n",
    "                  Destination_Port,\n",
    "                  Subflow_Fwd_Bytes,\n",
    "                  Packet_Length_Std,\n",
    "                  Packet_Length_Variance,\n",
    "                  Bwd_Packets_s,\n",
    "                  Average_Packet_Size,\n",
    "                  Bwd_Packet_Length_Std\n",
    "                  ]).reshape(1, 1, 10)\n",
    "    \n",
    "\n",
    "    print(model.predict(x))\n",
    "    #print(model.predict_proba(x))"
   ]
  },
  {
   "cell_type": "code",
   "execution_count": 138,
   "id": "daa673b3",
   "metadata": {},
   "outputs": [
    {
     "name": "stdout",
     "output_type": "stream",
     "text": [
      "1/1 [==============================] - 0s 24ms/step\n",
      "[[1. 0.]]\n",
      "0\n"
     ]
    }
   ],
   "source": [
    "a = attacked(model, 80, 371, 1754.831473, 200, 0.060958398,1460.1010199999994,2131894.989,920.4615385,371,274\n",
    ")\n",
    "\n",
    "#On donne la réponse sous la même forme de la colonne label\n",
    "b = np.argmax(a)\n",
    "print(b)"
   ]
  },
  {
   "cell_type": "markdown",
   "id": "4151ad02",
   "metadata": {},
   "source": [
    "## Graphiques"
   ]
  },
  {
   "cell_type": "code",
   "execution_count": 139,
   "id": "ae9400ac",
   "metadata": {
    "scrolled": false
   },
   "outputs": [
    {
     "data": {
      "image/png": "[encoded data removed]",
      "text/plain": [
       "<Figure size 640x480 with 1 Axes>"
      ]
     },
     "metadata": {},
     "output_type": "display_data"
    },
    {
     "data": {
      "image/png": "[encoded data removed]",
      "text/plain": [
       "<Figure size 640x480 with 1 Axes>"
      ]
     },
     "metadata": {},
     "output_type": "display_data"
    }
   ],
   "source": [
    "# loss plot function\n",
    "def plot_loss(loss,val_loss):\n",
    "    plt.figure()\n",
    "    plt.plot(loss)\n",
    "    plt.plot(val_loss)\n",
    "    plt.title('Model loss')\n",
    "    plt.ylabel('Loss')\n",
    "    plt.xlabel('Epoch')\n",
    "    plt.legend(['Train', 'Test'], loc='upper right')  \n",
    "    plt.show()\n",
    "    \n",
    "# accuracy plot function    \n",
    "def plot_accuracy(acc,val_acc):\n",
    "    plt.figure()\n",
    "    plt.plot(acc)\n",
    "    plt.plot(val_acc)\n",
    "    plt.title('Model accuracy')\n",
    "    plt.ylabel('Accuracy')\n",
    "    plt.xlabel('Epoch')\n",
    "    plt.legend(['Train', 'Test'], loc='upper left')\n",
    "    plt.show()\n",
    "\n",
    "# plot loss and accuracy curves\n",
    "plot_loss(history.history['loss'], history.history['val_loss'])\n",
    "plot_accuracy(history.history['accuracy'], history.history['val_accuracy'])"
   ]
  },
  {
   "cell_type": "code",
   "execution_count": null,
   "id": "85575327",
   "metadata": {},
   "outputs": [],
   "source": []
  },
  {
   "cell_type": "code",
   "execution_count": null,
   "id": "222e85e5",
   "metadata": {},
   "outputs": [],
   "source": []
  }
 ],
 "metadata": {
  "kernelspec": {
   "display_name": "Python 3 (ipykernel)",
   "language": "python",
   "name": "python3"
  },
  "language_info": {
   "codemirror_mode": {
    "name": "ipython",
    "version": 3
   },
   "file_extension": ".py",
   "mimetype": "text/x-python",
   "name": "python",
   "nbconvert_exporter": "python",
   "pygments_lexer": "ipython3",
   "version": "3.10.9"
  }
 },
 "nbformat": 4,
 "nbformat_minor": 5
}
