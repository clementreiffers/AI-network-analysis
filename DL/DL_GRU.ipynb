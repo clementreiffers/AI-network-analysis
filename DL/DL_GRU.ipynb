{
 "cells": [
  {
   "cell_type": "code",
   "execution_count": 10,
   "id": "d0b839c8",
   "metadata": {},
   "outputs": [],
   "source": [
    "import pandas as pd\n",
    "import numpy as np\n",
    "\n",
    "# Graph\n",
    "import plotly.express as px\n",
    "import matplotlib.pyplot as plt\n",
    "\n",
    "# Keras\n",
    "from keras.models import Sequential\n",
    "from keras.layers import Dense\n",
    "from keras import callbacks\n",
    "\n",
    "# sklearn\n",
    "from sklearn.preprocessing import StandardScaler\n",
    "from sklearn.model_selection import train_test_split\n",
    "from sklearn.metrics import accuracy_score\n",
    "\n",
    "# tf\n",
    "from tensorflow.keras.utils import to_categorical\n",
    "import tensorflow as tf\n",
    "from tensorflow.keras.models import Sequential\n",
    "from tensorflow.keras.layers import Dense, Dropout, LSTM, GRU\n",
    "from tensorflow.keras.layers import Embedding\n",
    "from tensorflow.keras.optimizers import SGD"
   ]
  },
  {
   "cell_type": "code",
   "execution_count": 2,
   "id": "834f021f",
   "metadata": {},
   "outputs": [],
   "source": [
    "path = r\"D:\\TRAVAIL\\Inge_3\\Projet - Prédiction du type d’application Internet dans le contexte de traffic chiffré\\network_analysis\\data\\dataset_clean.csv\""
   ]
  },
  {
   "cell_type": "code",
   "execution_count": 3,
   "id": "471e3b82",
   "metadata": {},
   "outputs": [],
   "source": [
    "TARGET = 'L7Protocol'"
   ]
  },
  {
   "cell_type": "markdown",
   "id": "514d9acb",
   "metadata": {},
   "source": [
    "# Import df"
   ]
  },
  {
   "cell_type": "code",
   "execution_count": 4,
   "id": "f0bb4e71",
   "metadata": {},
   "outputs": [],
   "source": [
    "df = pd.read_csv(path)\n",
    "\n",
    "list_protocol = [\"AMAZON\", \"MICROSOFT\", \"YOUTUBE\", \"GMAIL\", \"WINDOWS_UPDATE\", \"SKYPE\", \"FACEBOOK\", \"DROPBOX\"]\n",
    "df = df[df['ProtocolName'].isin(list_protocol)]\n",
    "df = df.drop(\n",
    "    [\n",
    "        \"ProtocolName\",\n",
    "        \"Month\",\n",
    "        \"Day\",\n",
    "        \"Protocol\",\n",
    "        \"ECE.Flag.Count\",\n",
    "        \"RST.Flag.Count\",\n",
    "        \"Active.Max\",\n",
    "        \"Active.Min\",\n",
    "        \"Idle.Mean\",\n",
    "        \"Idle.Max\",\n",
    "        \"Active.Mean\",\n",
    "        \"Idle.Std\",\n",
    "        \"Bwd.Packet.Length.Min\",\n",
    "        \"FIN.Flag.Count\",\n",
    "        \"Min.Packet.Length\",\n",
    "        \"Idle.Min\",\n",
    "        \"Active.Std\",\n",
    "        \"URG.Flag.Count\",\n",
    "        \"SYN.Flag.Count\",\n",
    "        \"ACK.Flag.Count\",\n",
    "        \"Fwd.Packet.Length.Min\",\n",
    "        \"Fwd.PSH.Flags\",\n",
    "        \"PSH.Flag.Count\",\n",
    "        \"Subflow.Fwd.Packets\",\n",
    "        \"Total.Fwd.Packets\",\n",
    "        \"Subflow.Bwd.Packets\",\n",
    "        \"Subflow.Bwd.Bytes\",\n",
    "        \"Total.Length.of.Bwd.Packets\",\n",
    "        \"Down.Up.Ratio\",\n",
    "        \"Bwd.Header.Length\",\n",
    "        \"Packet.Length.Variance\",\n",
    "        \"Packet.Length.Mean\",\n",
    "        \"Subflow.Fwd.Bytes\",\n",
    "        \"Max.Packet.Length\",\n",
    "        \"Packet.Length.Std\",\n",
    "        \"min_seg_size_forward\",\n",
    "        \"Fwd.IAT.Max\",\n",
    "        \"Average.Packet.Size\",\n",
    "        \"Flow.IAT.Mean\",\n",
    "        \"Flow.Packets.s\",\n",
    "        \"Fwd.Packet.Length.Max\",\n",
    "        \"act_data_pkt_fwd\",\n",
    "        \"Fwd.Header.Length\",\n",
    "        \"Fwd.Header.Length.1\",\n",
    "        \"Avg.Bwd.Segment.Size\",\n",
    "        \"Bwd.Packet.Length.Min\",\n",
    "        \"Total.Backward.Packets\",\n",
    "        \"Bwd.Packet.Length.Max\",\n",
    "        \"Bwd.Packet.Length.Std\",\n",
    "        \"Flow.IAT.Std\",\n",
    "        \"Bwd.IAT.Min\",\n",
    "        \"Fwd.IAT.Total\",\n",
    "        \"Fwd.IAT.Std\",\n",
    "        \"Flow.ID\",\n",
    "        \"Source.IP\",\n",
    "        \"Destination.IP\",\n",
    "        \"Bwd.Packet.Length.Mean\",\n",
    "    ],\n",
    "    axis=1,\n",
    ")"
   ]
  },
  {
   "cell_type": "markdown",
   "id": "762ad4cb",
   "metadata": {},
   "source": [
    "# X et y"
   ]
  },
  {
   "cell_type": "code",
   "execution_count": 5,
   "id": "0f88f16f",
   "metadata": {},
   "outputs": [],
   "source": [
    "#y = pd.get_dummies(df[TARGET])\n",
    "y = df[TARGET]\n",
    "X = df.drop([TARGET],axis=1)"
   ]
  },
  {
   "cell_type": "code",
   "execution_count": 6,
   "id": "168ce5e2",
   "metadata": {},
   "outputs": [],
   "source": [
    "y = y.to_numpy()"
   ]
  },
  {
   "cell_type": "code",
   "execution_count": 7,
   "id": "45aa17d3",
   "metadata": {},
   "outputs": [],
   "source": [
    "scaler = StandardScaler()\n",
    "scaler.fit(X)\n",
    "X = scaler.transform(X)\n",
    "y = to_categorical(y)"
   ]
  },
  {
   "cell_type": "code",
   "execution_count": 8,
   "id": "63f90e56",
   "metadata": {},
   "outputs": [],
   "source": [
    "X_train, X_test, y_train, y_test = train_test_split(X, y, test_size = 0.2, random_state = 4)"
   ]
  },
  {
   "cell_type": "code",
   "execution_count": 9,
   "id": "f0f5b3d8",
   "metadata": {},
   "outputs": [],
   "source": [
    "X_train = np.reshape(X_train, (X_train.shape[0], 1, X.shape[1]))\n",
    "X_test = np.reshape(X_test, (X_test.shape[0], 1, X.shape[1]))"
   ]
  },
  {
   "cell_type": "markdown",
   "id": "6a9aff7e",
   "metadata": {},
   "source": [
    "# Modèle"
   ]
  },
  {
   "cell_type": "code",
   "execution_count": 41,
   "id": "029ea407",
   "metadata": {},
   "outputs": [
    {
     "name": "stdout",
     "output_type": "stream",
     "text": [
      "Model: \"sequential_14\"\n",
      "_________________________________________________________________\n",
      " Layer (type)                Output Shape              Param #   \n",
      "=================================================================\n",
      " gru_36 (GRU)                (None, 1, 200)            133200    \n",
      "                                                                 \n",
      " gru_37 (GRU)                (None, 200)               241200    \n",
      "                                                                 \n",
      " dense_10 (Dense)            (None, 213)               42813     \n",
      "                                                                 \n",
      "=================================================================\n",
      "Total params: 417,213\n",
      "Trainable params: 417,213\n",
      "Non-trainable params: 0\n",
      "_________________________________________________________________\n"
     ]
    }
   ],
   "source": [
    "model = Sequential()\n",
    "\n",
    "model.add(GRU(200, input_shape=(1,20), activation=\"relu\", return_sequences=True))\n",
    "model.add(GRU(200,activation=\"relu\"))\n",
    "model.add(Dense(y.shape[1], activation='sigmoid'))\n",
    "\n",
    "model.compile(loss = 'binary_crossentropy', optimizer = \"adam\", metrics = ['accuracy'])\n",
    "\n",
    "model.summary()"
   ]
  },
  {
   "cell_type": "code",
   "execution_count": 42,
   "id": "3588d452",
   "metadata": {},
   "outputs": [],
   "source": [
    "earlystopping = callbacks.EarlyStopping(monitor =\"val_loss\", \n",
    "                                        mode =\"min\", \n",
    "                                        patience = 3, \n",
    "                                        restore_best_weights = True)"
   ]
  },
  {
   "cell_type": "code",
   "execution_count": null,
   "id": "17f7bab1",
   "metadata": {},
   "outputs": [
    {
     "name": "stdout",
     "output_type": "stream",
     "text": [
      "Epoch 1/25\n",
      "  841/11797 [=>............................] - ETA: 1:02 - loss: 0.0341 - accuracy: 0.3916"
     ]
    }
   ],
   "source": [
    "#\n",
    "history = model.fit(X_train, y_train, \n",
    "                    epochs = 25, \n",
    "                    validation_data= (X_test, y_test),\n",
    "                    callbacks =[earlystopping])\n",
    "history"
   ]
  },
  {
   "cell_type": "code",
   "execution_count": 22,
   "id": "61e1aee4",
   "metadata": {},
   "outputs": [
    {
     "name": "stdout",
     "output_type": "stream",
     "text": [
      "2950/2950 [==============================] - 9s 3ms/step - loss: 0.0050 - accuracy: 0.7853\n"
     ]
    },
    {
     "data": {
      "text/plain": [
       "[0.004994470160454512, 0.785294234752655]"
      ]
     },
     "execution_count": 22,
     "metadata": {},
     "output_type": "execute_result"
    }
   ],
   "source": [
    "accuracy = model.evaluate(X_test, y_test)\n",
    "accuracy"
   ]
  },
  {
   "cell_type": "code",
   "execution_count": null,
   "id": "f7805f78",
   "metadata": {},
   "outputs": [],
   "source": [
    "# Note : evolution de l'accuracy\n",
    "# 0.7215 -> 0.7853"
   ]
  },
  {
   "cell_type": "markdown",
   "id": "810193dd",
   "metadata": {},
   "source": [
    "# Graph"
   ]
  },
  {
   "cell_type": "code",
   "execution_count": 18,
   "id": "fa33d2fd",
   "metadata": {},
   "outputs": [
    {
     "data": {
      "image/png": "[encoded data removed]",
      "text/plain": [
       "<Figure size 432x288 with 1 Axes>"
      ]
     },
     "metadata": {
      "needs_background": "light"
     },
     "output_type": "display_data"
    },
    {
     "data": {
      "image/png": "[encoded data removed]",
      "text/plain": [
       "<Figure size 432x288 with 1 Axes>"
      ]
     },
     "metadata": {
      "needs_background": "light"
     },
     "output_type": "display_data"
    }
   ],
   "source": [
    "# loss plot function\n",
    "def plot_loss(loss,val_loss):\n",
    "    plt.figure()\n",
    "    plt.plot(loss)\n",
    "    plt.plot(val_loss)\n",
    "    plt.title('Model loss')\n",
    "    plt.ylabel('Loss')\n",
    "    plt.xlabel('Epoch')\n",
    "    plt.legend(['Train', 'Test'], loc='upper right')  \n",
    "    plt.show()\n",
    "    \n",
    "# accuracy plot function    \n",
    "def plot_accuracy(acc,val_acc):\n",
    "    plt.figure()\n",
    "    plt.plot(acc)\n",
    "    plt.plot(val_acc)\n",
    "    plt.title('Model accuracy')\n",
    "    plt.ylabel('Accuracy')\n",
    "    plt.xlabel('Epoch')\n",
    "    plt.legend(['Train', 'Test'], loc='upper left')\n",
    "    plt.show()\n",
    "\n",
    "# plot loss and accuracy curves\n",
    "plot_loss(history.history['loss'], history.history['val_loss'])\n",
    "plot_accuracy(history.history['accuracy'], history.history['val_accuracy'])"
   ]
  },
  {
   "cell_type": "code",
   "execution_count": null,
   "id": "1e37dfb9",
   "metadata": {},
   "outputs": [],
   "source": []
  }
 ],
 "metadata": {
  "kernelspec": {
   "display_name": "Python 3 (ipykernel)",
   "language": "python",
   "name": "python3"
  },
  "language_info": {
   "codemirror_mode": {
    "name": "ipython",
    "version": 3
   },
   "file_extension": ".py",
   "mimetype": "text/x-python",
   "name": "python",
   "nbconvert_exporter": "python",
   "pygments_lexer": "ipython3",
   "version": "3.9.7"
  }
 },
 "nbformat": 4,
 "nbformat_minor": 5
}
