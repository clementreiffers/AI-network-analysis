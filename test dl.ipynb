{
 "cells": [
  {
   "cell_type": "code",
   "execution_count": 10,
   "id": "a7921655",
   "metadata": {
    "pycharm": {
     "name": "#%%\n"
    }
   },
   "outputs": [],
   "source": [
    "import pandas as pd \n",
    "from keras.utils import to_categorical"
   ]
  },
  {
   "cell_type": "code",
   "execution_count": 5,
   "id": "b51aa7bc",
   "metadata": {
    "pycharm": {
     "name": "#%%\n"
    }
   },
   "outputs": [],
   "source": [
    "df = pd.read_csv('/Users/maellemarcelin/Documents/sudria/Ingé3/projet/projetIA/projetIA/3- Dataset/dataset_clean.csv',sep=',',encoding='utf8')"
   ]
  },
  {
   "cell_type": "code",
   "execution_count": 6,
   "id": "b5be1a13",
   "metadata": {
    "pycharm": {
     "name": "#%%\n"
    }
   },
   "outputs": [],
   "source": [
    "df_select = df.drop([\"Protocol\",\"ECE.Flag.Count\",\"RST.Flag.Count\",\"Active.Max\",\"Active.Min\",\"Idle.Mean\",\"Idle.Max\",\"Active.Mean\",\"Idle.Std\",\"Bwd.Packet.Length.Min\",\"FIN.Flag.Count\",\"Min.Packet.Length\",\"Idle.Min\",\"Active.Std\",\"URG.Flag.Count\",\"SYN.Flag.Count\",\"ACK.Flag.Count\",\"Fwd.Packet.Length.Min\",\"Fwd.PSH.Flags\",\"PSH.Flag.Count\",\"Subflow.Fwd.Packets\",\"Total.Fwd.Packets\",\"Subflow.Bwd.Packets\",\"Subflow.Bwd.Bytes\",\"Total.Length.of.Bwd.Packets\",\"Down.Up.Ratio\",\"Bwd.Header.Length\",\"Packet.Length.Variance\",\"Packet.Length.Mean\",\"Subflow.Fwd.Bytes\",\"Max.Packet.Length\",\"Packet.Length.Std\",\"min_seg_size_forward\",\"Fwd.IAT.Max\",\"Average.Packet.Size\",\"Flow.IAT.Mean\",\"Flow.Packets.s\",\"Fwd.Packet.Length.Max\",\"act_data_pkt_fwd\", \"Fwd.Header.Length\", \"Fwd.Header.Length.1\",\"Avg.Bwd.Segment.Size\",\"Bwd.Packet.Length.Min\",\"Total.Backward.Packets\",\"Bwd.Packet.Length.Max\",\"Bwd.Packet.Length.Std\",\"Flow.IAT.Std\",\"Bwd.IAT.Min\",\"Fwd.IAT.Total\",\"Fwd.IAT.Std\",\"Flow.ID\",\"Source.IP\",\"Destination.IP\",\"Timestamp\",\"Bwd.Packet.Length.Mean\"], axis=1)"
   ]
  },
  {
   "cell_type": "code",
   "execution_count": 7,
   "id": "6e26503b",
   "metadata": {
    "pycharm": {
     "name": "#%%\n"
    }
   },
   "outputs": [],
   "source": [
    "df_reduce = df_select[(df_select['ProtocolName'] == 'AMAZON') | (df_select['ProtocolName'] == 'YOUTUBE') | (df_select['ProtocolName'] == 'MICROSOFT') | (df_select['ProtocolName'] == 'GMAIL') | (df_select['ProtocolName'] == 'WINDOWS_UPDATE') | (df_select['ProtocolName'] == 'SKYPE') | (df_select['ProtocolName'] == 'FACEBOOK') | (df_select['ProtocolName'] == 'DROPBOX')]\n"
   ]
  },
  {
   "cell_type": "code",
   "execution_count": 23,
   "id": "128da9de",
   "metadata": {
    "pycharm": {
     "name": "#%%\n"
    }
   },
   "outputs": [],
   "source": [
    "X = df_reduce.drop(['ProtocolName',\"L7Protocol\"], axis=1) \n",
    "y = df_reduce['L7Protocol']"
   ]
  },
  {
   "cell_type": "code",
   "execution_count": 25,
   "id": "66129e54",
   "metadata": {
    "pycharm": {
     "name": "#%%\n"
    }
   },
   "outputs": [
    {
     "data": {
      "text/plain": [
       "124    170775\n",
       "178     86873\n",
       "212     54706\n",
       "122     40260\n",
       "147     34470\n",
       "125     30654\n",
       "119     29014\n",
       "121     25102\n",
       "Name: L7Protocol, dtype: int64"
      ]
     },
     "execution_count": 25,
     "metadata": {},
     "output_type": "execute_result"
    }
   ],
   "source": [
    "y.value_counts()"
   ]
  },
  {
   "cell_type": "code",
   "execution_count": 29,
   "id": "80368f78",
   "metadata": {
    "pycharm": {
     "name": "#%%\n"
    }
   },
   "outputs": [
    {
     "data": {
      "text/plain": [
       "(471854, 213)"
      ]
     },
     "execution_count": 29,
     "metadata": {},
     "output_type": "execute_result"
    }
   ],
   "source": [
    "y = protocol_onehotcode\n",
    "y.shape"
   ]
  },
  {
   "cell_type": "code",
   "execution_count": 30,
   "id": "2d0e757d",
   "metadata": {
    "pycharm": {
     "name": "#%%\n"
    }
   },
   "outputs": [],
   "source": [
    "from keras.models import Sequential\n",
    "from keras.layers import Dense\n",
    "\n",
    "## instantiation\n",
    "model_iris=Sequential()\n",
    "## couche d'entrée\n",
    "model_iris.add(Dense(128, input_shape=(20,), activation='tanh'))\n",
    "## 2 couches cachées\n",
    "model_iris.add(Dense(64, activation='tanh'))\n",
    "model_iris.add(Dense(32, activation='tanh'))\n",
    "## couche de sortie\n",
    "model_iris.add(Dense(213, activation='softmax'))\n",
    "## compilation du modèle \n",
    "model_iris.compile(loss='categorical_crossentropy', optimizer='adam', metrics=['accuracy'])"
   ]
  },
  {
   "cell_type": "code",
   "execution_count": 31,
   "id": "c287fdbd",
   "metadata": {
    "pycharm": {
     "name": "#%%\n"
    }
   },
   "outputs": [
    {
     "name": "stdout",
     "output_type": "stream",
     "text": [
      "Epoch 1/100\n",
      "10322/10322 [==============================] - 10s 959us/step - loss: 1.5574 - accuracy: 0.4608 - val_loss: 1.4921 - val_accuracy: 0.4736\n",
      "Epoch 2/100\n",
      "10322/10322 [==============================] - 10s 957us/step - loss: 1.4918 - accuracy: 0.4781 - val_loss: 1.5007 - val_accuracy: 0.4795\n",
      "Epoch 3/100\n",
      "10322/10322 [==============================] - 10s 957us/step - loss: 1.4920 - accuracy: 0.4767 - val_loss: 1.4843 - val_accuracy: 0.4789\n",
      "Epoch 4/100\n",
      "10322/10322 [==============================] - 10s 960us/step - loss: 1.4904 - accuracy: 0.4745 - val_loss: 1.4766 - val_accuracy: 0.4803\n",
      "Epoch 5/100\n",
      "10322/10322 [==============================] - 10s 943us/step - loss: 1.4726 - accuracy: 0.4804 - val_loss: 1.4756 - val_accuracy: 0.4802\n",
      "Epoch 6/100\n",
      "10322/10322 [==============================] - 10s 939us/step - loss: 1.4580 - accuracy: 0.4836 - val_loss: 1.4666 - val_accuracy: 0.4852\n",
      "Epoch 7/100\n",
      "10322/10322 [==============================] - 10s 940us/step - loss: 1.4513 - accuracy: 0.4868 - val_loss: 1.4395 - val_accuracy: 0.4971\n",
      "Epoch 8/100\n",
      "10322/10322 [==============================] - 10s 940us/step - loss: 1.4401 - accuracy: 0.4940 - val_loss: 1.4396 - val_accuracy: 0.4893\n",
      "Epoch 9/100\n",
      "10322/10322 [==============================] - 10s 940us/step - loss: 1.4419 - accuracy: 0.4937 - val_loss: 1.4388 - val_accuracy: 0.4967\n",
      "Epoch 10/100\n",
      "10322/10322 [==============================] - 10s 940us/step - loss: 1.4425 - accuracy: 0.4914 - val_loss: 1.4289 - val_accuracy: 0.4960\n",
      "Epoch 11/100\n",
      "10322/10322 [==============================] - 10s 946us/step - loss: 1.4242 - accuracy: 0.4992 - val_loss: 1.4138 - val_accuracy: 0.5142\n",
      "Epoch 12/100\n",
      "10322/10322 [==============================] - 10s 942us/step - loss: 1.4271 - accuracy: 0.4977 - val_loss: 1.4206 - val_accuracy: 0.4964\n",
      "Epoch 13/100\n",
      "10322/10322 [==============================] - 10s 940us/step - loss: 1.4225 - accuracy: 0.4966 - val_loss: 1.4206 - val_accuracy: 0.4980\n",
      "Epoch 14/100\n",
      "10322/10322 [==============================] - 10s 942us/step - loss: 1.4154 - accuracy: 0.5007 - val_loss: 1.4057 - val_accuracy: 0.5020\n",
      "Epoch 15/100\n",
      "10322/10322 [==============================] - 10s 942us/step - loss: 1.4237 - accuracy: 0.4980 - val_loss: 1.4336 - val_accuracy: 0.4995\n",
      "Epoch 16/100\n",
      "10322/10322 [==============================] - 10s 943us/step - loss: 1.4223 - accuracy: 0.4990 - val_loss: 1.4244 - val_accuracy: 0.4887\n",
      "Epoch 17/100\n",
      "10322/10322 [==============================] - 10s 945us/step - loss: 1.4389 - accuracy: 0.4906 - val_loss: 1.4557 - val_accuracy: 0.4908\n",
      "Epoch 18/100\n",
      "10322/10322 [==============================] - 10s 952us/step - loss: 1.4309 - accuracy: 0.4976 - val_loss: 1.4375 - val_accuracy: 0.4892\n",
      "Epoch 19/100\n",
      "10322/10322 [==============================] - 10s 944us/step - loss: 1.4303 - accuracy: 0.4961 - val_loss: 1.4409 - val_accuracy: 0.4865\n",
      "Epoch 20/100\n",
      "10322/10322 [==============================] - 10s 947us/step - loss: 1.4324 - accuracy: 0.4948 - val_loss: 1.4195 - val_accuracy: 0.5058\n",
      "Epoch 21/100\n",
      "10322/10322 [==============================] - 10s 948us/step - loss: 1.4266 - accuracy: 0.4994 - val_loss: 1.4438 - val_accuracy: 0.4869\n",
      "Epoch 22/100\n",
      "10322/10322 [==============================] - 10s 948us/step - loss: 1.4130 - accuracy: 0.5035 - val_loss: 1.4000 - val_accuracy: 0.5069\n",
      "Epoch 23/100\n",
      "10322/10322 [==============================] - 10s 949us/step - loss: 1.4041 - accuracy: 0.5046 - val_loss: 1.4052 - val_accuracy: 0.5045\n",
      "Epoch 24/100\n",
      "10322/10322 [==============================] - 10s 949us/step - loss: 1.4110 - accuracy: 0.5028 - val_loss: 1.4072 - val_accuracy: 0.5121\n",
      "Epoch 25/100\n",
      "10322/10322 [==============================] - 10s 953us/step - loss: 1.4207 - accuracy: 0.5007 - val_loss: 1.4074 - val_accuracy: 0.5042\n",
      "Epoch 26/100\n",
      "10322/10322 [==============================] - 10s 950us/step - loss: 1.4244 - accuracy: 0.5003 - val_loss: 1.4133 - val_accuracy: 0.5056\n",
      "Epoch 27/100\n",
      "10322/10322 [==============================] - 10s 950us/step - loss: 1.4166 - accuracy: 0.5015 - val_loss: 1.4147 - val_accuracy: 0.4991\n",
      "Epoch 28/100\n",
      "10322/10322 [==============================] - 10s 950us/step - loss: 1.4093 - accuracy: 0.5052 - val_loss: 1.3965 - val_accuracy: 0.5113\n",
      "Epoch 29/100\n",
      "10322/10322 [==============================] - 10s 953us/step - loss: 1.3921 - accuracy: 0.5123 - val_loss: 1.3864 - val_accuracy: 0.5110\n",
      "Epoch 30/100\n",
      "10322/10322 [==============================] - 10s 954us/step - loss: 1.3908 - accuracy: 0.5090 - val_loss: 1.3984 - val_accuracy: 0.5089\n",
      "Epoch 31/100\n",
      "10322/10322 [==============================] - 10s 951us/step - loss: 1.3926 - accuracy: 0.5103 - val_loss: 1.4044 - val_accuracy: 0.5134\n",
      "Epoch 32/100\n",
      "10322/10322 [==============================] - 10s 953us/step - loss: 1.4139 - accuracy: 0.5033 - val_loss: 1.4226 - val_accuracy: 0.5005\n",
      "Epoch 33/100\n",
      "10322/10322 [==============================] - 10s 968us/step - loss: 1.4091 - accuracy: 0.5056 - val_loss: 1.4034 - val_accuracy: 0.5124\n",
      "Epoch 34/100\n",
      "10322/10322 [==============================] - 10s 956us/step - loss: 1.4019 - accuracy: 0.5068 - val_loss: 1.4221 - val_accuracy: 0.4988\n",
      "Epoch 35/100\n",
      "10322/10322 [==============================] - 10s 957us/step - loss: 1.4079 - accuracy: 0.5032 - val_loss: 1.4113 - val_accuracy: 0.5023\n",
      "Epoch 36/100\n",
      "10322/10322 [==============================] - 10s 970us/step - loss: 1.4050 - accuracy: 0.5051 - val_loss: 1.3963 - val_accuracy: 0.5146\n",
      "Epoch 37/100\n",
      "10322/10322 [==============================] - 10s 971us/step - loss: 1.4027 - accuracy: 0.5067 - val_loss: 1.4001 - val_accuracy: 0.5139\n",
      "Epoch 38/100\n",
      "10322/10322 [==============================] - 10s 961us/step - loss: 1.4099 - accuracy: 0.5054 - val_loss: 1.4092 - val_accuracy: 0.5008\n",
      "Epoch 39/100\n",
      "10322/10322 [==============================] - 10s 960us/step - loss: 1.4179 - accuracy: 0.5016 - val_loss: 1.4211 - val_accuracy: 0.5044\n",
      "Epoch 40/100\n",
      "10322/10322 [==============================] - 10s 967us/step - loss: 1.4098 - accuracy: 0.5048 - val_loss: 1.4070 - val_accuracy: 0.5047\n",
      "Epoch 41/100\n",
      "10322/10322 [==============================] - 10s 965us/step - loss: 1.4076 - accuracy: 0.5051 - val_loss: 1.4065 - val_accuracy: 0.5077\n",
      "Epoch 42/100\n",
      "10322/10322 [==============================] - 10s 965us/step - loss: 1.4010 - accuracy: 0.5089 - val_loss: 1.4033 - val_accuracy: 0.5144\n",
      "Epoch 43/100\n",
      "10322/10322 [==============================] - 10s 966us/step - loss: 1.3946 - accuracy: 0.5115 - val_loss: 1.3988 - val_accuracy: 0.5140\n",
      "Epoch 44/100\n",
      "10322/10322 [==============================] - 10s 967us/step - loss: 1.4075 - accuracy: 0.5051 - val_loss: 1.4013 - val_accuracy: 0.5130\n",
      "Epoch 45/100\n",
      "10322/10322 [==============================] - 10s 965us/step - loss: 1.3894 - accuracy: 0.5136 - val_loss: 1.4113 - val_accuracy: 0.4908\n",
      "Epoch 46/100\n",
      "10322/10322 [==============================] - 10s 965us/step - loss: 1.3883 - accuracy: 0.5130 - val_loss: 1.3933 - val_accuracy: 0.5118\n",
      "Epoch 47/100\n",
      "10322/10322 [==============================] - 10s 966us/step - loss: 1.3934 - accuracy: 0.5115 - val_loss: 1.3942 - val_accuracy: 0.5146\n",
      "Epoch 48/100\n",
      "10322/10322 [==============================] - 10s 966us/step - loss: 1.3875 - accuracy: 0.5128 - val_loss: 1.3980 - val_accuracy: 0.5110\n",
      "Epoch 49/100\n",
      "10322/10322 [==============================] - 10s 968us/step - loss: 1.3898 - accuracy: 0.5089 - val_loss: 1.3912 - val_accuracy: 0.5103\n",
      "Epoch 50/100\n",
      "10322/10322 [==============================] - 10s 966us/step - loss: 1.3805 - accuracy: 0.5143 - val_loss: 1.3817 - val_accuracy: 0.5153\n",
      "Epoch 51/100\n",
      "10322/10322 [==============================] - 10s 964us/step - loss: 1.3980 - accuracy: 0.5077 - val_loss: 1.3936 - val_accuracy: 0.5063\n",
      "Epoch 52/100\n",
      "10322/10322 [==============================] - 10s 963us/step - loss: 1.4040 - accuracy: 0.5065 - val_loss: 1.3935 - val_accuracy: 0.5109\n",
      "Epoch 53/100\n",
      "10322/10322 [==============================] - 10s 963us/step - loss: 1.4116 - accuracy: 0.5011 - val_loss: 1.4126 - val_accuracy: 0.5025\n",
      "Epoch 54/100\n",
      "10322/10322 [==============================] - 10s 963us/step - loss: 1.4168 - accuracy: 0.5026 - val_loss: 1.3998 - val_accuracy: 0.5084\n",
      "Epoch 55/100\n"
     ]
    },
    {
     "name": "stdout",
     "output_type": "stream",
     "text": [
      "10322/10322 [==============================] - 10s 948us/step - loss: 1.3889 - accuracy: 0.5129 - val_loss: 1.3806 - val_accuracy: 0.5181\n",
      "Epoch 56/100\n",
      "10322/10322 [==============================] - 10s 945us/step - loss: 1.3980 - accuracy: 0.5075 - val_loss: 1.4090 - val_accuracy: 0.5089\n",
      "Epoch 57/100\n",
      "10322/10322 [==============================] - 10s 943us/step - loss: 1.4071 - accuracy: 0.5052 - val_loss: 1.4353 - val_accuracy: 0.4830\n",
      "Epoch 58/100\n",
      "10322/10322 [==============================] - 10s 941us/step - loss: 1.4094 - accuracy: 0.5041 - val_loss: 1.3991 - val_accuracy: 0.5089\n",
      "Epoch 59/100\n",
      "10322/10322 [==============================] - 10s 948us/step - loss: 1.4012 - accuracy: 0.5107 - val_loss: 1.3974 - val_accuracy: 0.5104\n",
      "Epoch 60/100\n",
      "10322/10322 [==============================] - 10s 946us/step - loss: 1.4010 - accuracy: 0.5069 - val_loss: 1.3977 - val_accuracy: 0.5065\n",
      "Epoch 61/100\n",
      "10322/10322 [==============================] - 10s 948us/step - loss: 1.3972 - accuracy: 0.5069 - val_loss: 1.3916 - val_accuracy: 0.5078\n",
      "Epoch 62/100\n",
      "10322/10322 [==============================] - 10s 950us/step - loss: 1.4078 - accuracy: 0.5042 - val_loss: 1.4160 - val_accuracy: 0.5048\n",
      "Epoch 63/100\n",
      "10322/10322 [==============================] - 10s 952us/step - loss: 1.4055 - accuracy: 0.5089 - val_loss: 1.3965 - val_accuracy: 0.5160\n",
      "Epoch 64/100\n",
      "10322/10322 [==============================] - 10s 953us/step - loss: 1.4053 - accuracy: 0.5093 - val_loss: 1.3987 - val_accuracy: 0.5065\n",
      "Epoch 65/100\n",
      "10322/10322 [==============================] - 10s 952us/step - loss: 1.4043 - accuracy: 0.5053 - val_loss: 1.3998 - val_accuracy: 0.5083\n",
      "Epoch 66/100\n",
      "10322/10322 [==============================] - 10s 955us/step - loss: 1.3981 - accuracy: 0.5073 - val_loss: 1.3953 - val_accuracy: 0.5098\n",
      "Epoch 67/100\n",
      "10322/10322 [==============================] - 10s 954us/step - loss: 1.4029 - accuracy: 0.5092 - val_loss: 1.3937 - val_accuracy: 0.5188\n",
      "Epoch 68/100\n",
      "10322/10322 [==============================] - 10s 955us/step - loss: 1.3934 - accuracy: 0.5131 - val_loss: 1.4145 - val_accuracy: 0.5094\n",
      "Epoch 69/100\n",
      "10322/10322 [==============================] - 10s 963us/step - loss: 1.4112 - accuracy: 0.5028 - val_loss: 1.4099 - val_accuracy: 0.5040\n",
      "Epoch 70/100\n",
      "10322/10322 [==============================] - 10s 957us/step - loss: 1.4177 - accuracy: 0.5034 - val_loss: 1.4305 - val_accuracy: 0.5026\n",
      "Epoch 71/100\n",
      "10322/10322 [==============================] - 10s 957us/step - loss: 1.4139 - accuracy: 0.5045 - val_loss: 1.4154 - val_accuracy: 0.5021\n",
      "Epoch 72/100\n",
      "10322/10322 [==============================] - 10s 961us/step - loss: 1.4267 - accuracy: 0.4999 - val_loss: 1.4205 - val_accuracy: 0.5008\n",
      "Epoch 73/100\n",
      "10322/10322 [==============================] - 10s 959us/step - loss: 1.4062 - accuracy: 0.5088 - val_loss: 1.4205 - val_accuracy: 0.5022\n",
      "Epoch 74/100\n",
      "10322/10322 [==============================] - 10s 958us/step - loss: 1.4288 - accuracy: 0.5039 - val_loss: 1.4267 - val_accuracy: 0.5044\n",
      "Epoch 75/100\n",
      "10322/10322 [==============================] - 10s 959us/step - loss: 1.3941 - accuracy: 0.5094 - val_loss: 1.4073 - val_accuracy: 0.5067\n",
      "Epoch 76/100\n",
      "10322/10322 [==============================] - 10s 959us/step - loss: 1.4092 - accuracy: 0.5061 - val_loss: 1.4176 - val_accuracy: 0.4997\n",
      "Epoch 77/100\n",
      "10322/10322 [==============================] - 10s 960us/step - loss: 1.4052 - accuracy: 0.5094 - val_loss: 1.4037 - val_accuracy: 0.5100\n",
      "Epoch 78/100\n",
      "10322/10322 [==============================] - 10s 962us/step - loss: 1.3876 - accuracy: 0.5133 - val_loss: 1.3824 - val_accuracy: 0.5179\n",
      "Epoch 79/100\n",
      "10322/10322 [==============================] - 10s 962us/step - loss: 1.3884 - accuracy: 0.5138 - val_loss: 1.4009 - val_accuracy: 0.5055\n",
      "Epoch 80/100\n",
      "10322/10322 [==============================] - 10s 957us/step - loss: 1.3878 - accuracy: 0.5149 - val_loss: 1.3964 - val_accuracy: 0.5138\n",
      "Epoch 81/100\n",
      "10322/10322 [==============================] - 10s 959us/step - loss: 1.4052 - accuracy: 0.5078 - val_loss: 1.4119 - val_accuracy: 0.5069\n",
      "Epoch 82/100\n",
      "10322/10322 [==============================] - 10s 963us/step - loss: 1.4138 - accuracy: 0.5066 - val_loss: 1.4349 - val_accuracy: 0.4996\n",
      "Epoch 83/100\n",
      "10322/10322 [==============================] - 10s 960us/step - loss: 1.3950 - accuracy: 0.5111 - val_loss: 1.3842 - val_accuracy: 0.5169\n",
      "Epoch 84/100\n",
      "10322/10322 [==============================] - 10s 959us/step - loss: 1.3880 - accuracy: 0.5116 - val_loss: 1.3816 - val_accuracy: 0.5159\n",
      "Epoch 85/100\n",
      "10322/10322 [==============================] - 10s 962us/step - loss: 1.3940 - accuracy: 0.5100 - val_loss: 1.4158 - val_accuracy: 0.4986\n",
      "Epoch 86/100\n",
      "10322/10322 [==============================] - 10s 962us/step - loss: 1.3994 - accuracy: 0.5085 - val_loss: 1.3962 - val_accuracy: 0.5189\n",
      "Epoch 87/100\n",
      "10322/10322 [==============================] - 10s 965us/step - loss: 1.3986 - accuracy: 0.5105 - val_loss: 1.4191 - val_accuracy: 0.5061\n",
      "Epoch 88/100\n",
      "10322/10322 [==============================] - 10s 963us/step - loss: 1.4060 - accuracy: 0.5091 - val_loss: 1.4014 - val_accuracy: 0.5050\n",
      "Epoch 89/100\n",
      "10322/10322 [==============================] - 10s 965us/step - loss: 1.4100 - accuracy: 0.5065 - val_loss: 1.4207 - val_accuracy: 0.5058\n",
      "Epoch 90/100\n",
      "10322/10322 [==============================] - 10s 960us/step - loss: 1.4168 - accuracy: 0.5072 - val_loss: 1.4190 - val_accuracy: 0.5036\n",
      "Epoch 91/100\n",
      "10322/10322 [==============================] - 10s 963us/step - loss: 1.4143 - accuracy: 0.5075 - val_loss: 1.4040 - val_accuracy: 0.5132\n",
      "Epoch 92/100\n",
      "10322/10322 [==============================] - 10s 963us/step - loss: 1.3905 - accuracy: 0.5130 - val_loss: 1.3931 - val_accuracy: 0.5162\n",
      "Epoch 93/100\n",
      "10322/10322 [==============================] - 10s 963us/step - loss: 1.3969 - accuracy: 0.5130 - val_loss: 1.3985 - val_accuracy: 0.5164\n",
      "Epoch 94/100\n",
      "10322/10322 [==============================] - 10s 963us/step - loss: 1.3952 - accuracy: 0.5113 - val_loss: 1.3907 - val_accuracy: 0.5186\n",
      "Epoch 95/100\n",
      "10322/10322 [==============================] - 10s 964us/step - loss: 1.4052 - accuracy: 0.5090 - val_loss: 1.4191 - val_accuracy: 0.5062\n",
      "Epoch 96/100\n",
      "10322/10322 [==============================] - 10s 965us/step - loss: 1.4045 - accuracy: 0.5088 - val_loss: 1.3975 - val_accuracy: 0.5095\n",
      "Epoch 97/100\n",
      "10322/10322 [==============================] - 10s 966us/step - loss: 1.4126 - accuracy: 0.5061 - val_loss: 1.4146 - val_accuracy: 0.5081\n",
      "Epoch 98/100\n",
      "10322/10322 [==============================] - 10s 966us/step - loss: 1.4082 - accuracy: 0.5085 - val_loss: 1.4067 - val_accuracy: 0.5138\n",
      "Epoch 99/100\n",
      "10322/10322 [==============================] - 10s 970us/step - loss: 1.4123 - accuracy: 0.5072 - val_loss: 1.4022 - val_accuracy: 0.5080\n",
      "Epoch 100/100\n",
      "10322/10322 [==============================] - 10s 975us/step - loss: 1.4260 - accuracy: 0.4997 - val_loss: 1.4274 - val_accuracy: 0.5035\n"
     ]
    },
    {
     "data": {
      "text/plain": [
       "<keras.callbacks.History at 0x366e09630>"
      ]
     },
     "execution_count": 31,
     "metadata": {},
     "output_type": "execute_result"
    }
   ],
   "source": [
    "from sklearn.model_selection import train_test_split\n",
    "import numpy as np\n",
    "\n",
    "X_train, X_test, y_train, y_test=train_test_split(X, y, test_size=0.3)\n",
    "\n",
    "model_iris.fit(X_train, y_train, epochs=100, validation_data=(X_test, y_test), verbose=1)"
   ]
  },
  {
   "cell_type": "code",
   "execution_count": 32,
   "id": "5ce31304",
   "metadata": {
    "pycharm": {
     "name": "#%%\n"
    }
   },
   "outputs": [
    {
     "name": "stdout",
     "output_type": "stream",
     "text": [
      "acc val test = 0.5035\n",
      "acc val train = 0.5039\n"
     ]
    }
   ],
   "source": [
    "acc_val_test = model_iris.evaluate(X_test, y_test, verbose=0)[1]\n",
    "acc_val_train = model_iris.evaluate(X_train, y_train, verbose=0)[1]\n",
    "print('acc val test = {}'.format(np.round(acc_val_test,4)))\n",
    "print('acc val train = {}'.format(np.round(acc_val_train,4)))"
   ]
  },
  {
   "cell_type": "code",
   "execution_count": 33,
   "id": "fb792c3e",
   "metadata": {
    "pycharm": {
     "name": "#%%\n"
    }
   },
   "outputs": [],
   "source": [
    "## modèle de base pour la recherche des paramètres optimaux \n",
    "\n",
    "def create_model(activation='relu', number_of_neurons=256, number_of_layers=2, init_mode='uniform'):\n",
    "  \n",
    "  model = Sequential()\n",
    "  model.add(Dense(128, input_shape=(20,),kernel_initializer=init_mode, activation=activation))\n",
    "  for i in range(number_of_layers):\n",
    "      model.add(Dense(number_of_neurons, activation=activation))\n",
    "  model.add(Dense(213, activation='softmax'))\n",
    "  \n",
    "  model.compile(optimizer='adam', loss='categorical_crossentropy', metrics=['accuracy'])\n",
    "  return model"
   ]
  },
  {
   "cell_type": "code",
   "execution_count": null,
   "id": "16068049",
   "metadata": {
    "pycharm": {
     "name": "#%%\n"
    }
   },
   "outputs": [
    {
     "name": "stderr",
     "output_type": "stream",
     "text": [
      "2022-11-22 20:12:42.946686: W tensorflow/core/platform/profile_utils/cpu_utils.cc:128] Failed to get CPU frequency: 0 Hz\n",
      "2022-11-22 20:12:42.977236: W tensorflow/core/platform/profile_utils/cpu_utils.cc:128] Failed to get CPU frequency: 0 Hz\n",
      "2022-11-22 20:12:43.024956: W tensorflow/core/platform/profile_utils/cpu_utils.cc:128] Failed to get CPU frequency: 0 Hz\n",
      "2022-11-22 20:12:43.115113: W tensorflow/core/platform/profile_utils/cpu_utils.cc:128] Failed to get CPU frequency: 0 Hz\n",
      "2022-11-22 20:12:43.145919: W tensorflow/core/platform/profile_utils/cpu_utils.cc:128] Failed to get CPU frequency: 0 Hz\n",
      "2022-11-22 20:12:43.152897: W tensorflow/core/platform/profile_utils/cpu_utils.cc:128] Failed to get CPU frequency: 0 Hz\n",
      "2022-11-22 20:12:43.158691: W tensorflow/core/platform/profile_utils/cpu_utils.cc:128] Failed to get CPU frequency: 0 Hz\n",
      "2022-11-22 20:12:43.190259: W tensorflow/core/platform/profile_utils/cpu_utils.cc:128] Failed to get CPU frequency: 0 Hz\n"
     ]
    },
    {
     "name": "stdout",
     "output_type": "stream",
     "text": [
      "19661/19661 [==============================] - 42s 2ms/step - loss: 1.8559 - accuracy: 0.3900\n",
      "19661/19661 [==============================] - 41s 2ms/step - loss: 1.8454 - accuracy: 0.3370\n",
      "19661/19661 [==============================] - 40s 2ms/step - loss: 1.8429 - accuracy: 0.3588\n",
      "2458/2458 [==============================] - 9s 3ms/step - loss: 1.8554 - accuracy: 0.3900\n",
      "2458/2458 [==============================] - 8s 3ms/step - loss: 1.8447 - accuracy: 0.3370\n",
      "19661/19661 [==============================] - 50s 3ms/step - loss: 1.6458 - accuracy: 0.4280\n",
      "4916/4916 [==============================] - 14s 3ms/step - loss: 1.5991 - accuracy: 0.4411\n",
      "19661/19661 [==============================] - 51s 3ms/step - loss: 1.6943 - accuracy: 0.3838\n",
      "4916/4916 [==============================] - 15s 3ms/step - loss: 1.5951 - accuracy: 0.4587\n",
      "4916/4916 [==============================] - 128s 26ms/step - loss: 1.5923 - accuracy: 0.4385\n",
      "19661/19661 [==============================] - 1001s 51ms/step - loss: 1.7161 - accuracy: 0.3684\n",
      "2458/2458 [==============================] - 6s 3ms/step - loss: 1.8424 - accuracy: 0.3588\n",
      "19661/19661 [==============================] - 35s 2ms/step - loss: 1.8631 - accuracy: 0.3900\n",
      "19661/19661 [==============================] - 40s 2ms/step - loss: 1.8508 - accuracy: 0.3370\n",
      "19661/19661 [==============================] - 63s 3ms/step - loss: 1.8428 - accuracy: 0.3588\n",
      "2458/2458 [==============================] - 10s 4ms/step - loss: 1.8471 - accuracy: 0.3370\n",
      "2458/2458 [==============================] - 11s 4ms/step - loss: 1.8412 - accuracy: 0.3588\n",
      "2458/2458 [==============================] - 20s 8ms/step - loss: 1.8559 - accuracy: 0.3900\n"
     ]
    }
   ],
   "source": [
    "import warnings\n",
    "warnings.filterwarnings(\"ignore\") \n",
    "\n",
    "from keras.wrappers.scikit_learn import KerasClassifier\n",
    "from sklearn.model_selection import RandomizedSearchCV \n",
    "from sklearn.model_selection import cross_val_score \n",
    "\n",
    "skmodel = KerasClassifier(build_fn=create_model) \n",
    "\n",
    "params = {'activation':['relu', 'tanh'], \n",
    "          'batch_size':[4, 8, 16, 32, 64],\n",
    "          'epochs':[20, 50, 100, 200, 500],\n",
    "          'init_mode':['uniform', 'lecun_uniform', 'normal', 'zero', 'glorot_normal', 'glorot_uniform', 'he_normal', 'he_uniform'],\n",
    "          'number_of_layers':[3,5,7,9,11],\n",
    "          'number_of_neurons':[8,16,32,64,128,256]\n",
    "}\n",
    "\n",
    "random_search = RandomizedSearchCV(skmodel, param_distributions=params, cv=3, n_jobs=-1)\n",
    "\n",
    "random_search_results = random_search.fit(X, y, verbose=0) \n",
    "print(\"Best: {} using {}\".format(np.round(random_search_results.best_score_,4), random_search_results.best_params_))"
   ]
  },
  {
   "cell_type": "code",
   "execution_count": null,
   "id": "30d77e0b",
   "metadata": {
    "pycharm": {
     "name": "#%%\n"
    }
   },
   "outputs": [],
   "source": [
    "## Nouveau modle avec les paramètres optimisés\n",
    "\n",
    "model_iris_opt=Sequential()\n",
    "model_iris_opt.add(Dense(128, input_shape=(20,),kernel_initializer='zero', activation='tanh'))\n",
    "model_iris_opt.add(Dense(32, activation='tanh'))\n",
    "model_iris_opt.add(Dense(32, activation='tanh'))\n",
    "model_iris_opt.add(Dense(32, activation='tanh'))\n",
    "model_iris_opt.add(Dense(32, activation='tanh'))\n",
    "model_iris_opt.add(Dense(32, activation='tanh'))\n",
    "model_iris_opt.add(Dense(213, activation='softmax'))\n",
    "\n",
    "model_iris_opt.compile(optimizer='adam', loss='categorical_crossentropy', metrics=['accuracy'])\n",
    "\n",
    "\n",
    "\n",
    "h = model_iris_opt.fit(X_train, y_train, epochs=200, batch_size=16, verbose=0) \n",
    "print(\"loss {}\".format(np.round(model_iris_opt.evaluate(X_test, y_test, verbose=0)[0],4)))\n",
    "print(\"accuracy {}\".format(np.round(model_iris_opt.evaluate(X_test, y_test, verbose=0)[1],4)))"
   ]
  },
  {
   "cell_type": "code",
   "execution_count": null,
   "id": "a2a20a51",
   "metadata": {
    "pycharm": {
     "name": "#%%\n"
    }
   },
   "outputs": [],
   "source": [
    "\n",
    "sk_opt_model = KerasClassifier(build_fn=create_model, epochs=200, batch_size=16, \n",
    "                               activation='tanh', number_of_neurons=32, number_of_layers=5, init_mode='zero',verbose=0)\n",
    "\n",
    "\n",
    "acc_scores = cross_val_score(sk_opt_model, X, y, cv=5, n_jobs=-1)\n",
    "\n",
    "\n",
    "print('The mean accuracy of folds is:', np.round(acc_scores.mean(),4))\n",
    "\n",
    "\n",
    "print('The standard deviation of folds accuracy is:', np.round(acc_scores.std(),4))"
   ]
  },
  {
   "cell_type": "code",
   "execution_count": null,
   "id": "1e293b9c",
   "metadata": {
    "pycharm": {
     "name": "#%%\n"
    }
   },
   "outputs": [],
   "source": []
  }
 ],
 "metadata": {
  "kernelspec": {
   "display_name": "Python 3 (ipykernel)",
   "language": "python",
   "name": "python3"
  },
  "language_info": {
   "codemirror_mode": {
    "name": "ipython",
    "version": 3
   },
   "file_extension": ".py",
   "mimetype": "text/x-python",
   "name": "python",
   "nbconvert_exporter": "python",
   "pygments_lexer": "ipython3",
   "version": "3.10.7"
  }
 },
 "nbformat": 4,
 "nbformat_minor": 5
}