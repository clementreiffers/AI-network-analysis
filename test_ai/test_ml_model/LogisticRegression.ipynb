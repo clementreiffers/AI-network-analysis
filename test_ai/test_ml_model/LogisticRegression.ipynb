{
 "cells": [
  {
   "cell_type": "markdown",
   "id": "ed9c2de6",
   "metadata": {},
   "source": [
    "# Modèle Régression Logistique"
   ]
  },
  {
   "cell_type": "code",
   "execution_count": 15,
   "id": "eed8869c",
   "metadata": {},
   "outputs": [],
   "source": [
    "import pandas as pd\n",
    "from sklearn.model_selection import train_test_split\n",
    "from sklearn.preprocessing import MinMaxScaler\n",
    "from sklearn.linear_model import LogisticRegression\n",
    "from sklearn.metrics import accuracy_score\n",
    "from sklearn.metrics import confusion_matrix\n",
    "import matplotlib.pyplot as plt\n",
    "import seaborn as sns"
   ]
  },
  {
   "cell_type": "markdown",
   "id": "46873e37",
   "metadata": {},
   "source": [
    "## Préparation des données"
   ]
  },
  {
   "cell_type": "code",
   "execution_count": 16,
   "id": "645422dd",
   "metadata": {},
   "outputs": [],
   "source": [
    "df = pd.read_csv('/Users/maellemarcelin/Documents/sudria/Ingé3/projet/projetIA/projetIA/3- Dataset/dataset_clean.csv',sep=',',encoding='utf8')"
   ]
  },
  {
   "cell_type": "code",
   "execution_count": 17,
   "id": "94fd1a45",
   "metadata": {},
   "outputs": [
    {
     "name": "stdout",
     "output_type": "stream",
     "text": [
      "<class 'pandas.core.frame.DataFrame'>\n",
      "RangeIndex: 3569152 entries, 0 to 3569151\n",
      "Data columns (total 76 columns):\n",
      " #   Column                       Dtype  \n",
      "---  ------                       -----  \n",
      " 0   Flow.ID                      object \n",
      " 1   Source.IP                    object \n",
      " 2   Source.Port                  int64  \n",
      " 3   Destination.IP               object \n",
      " 4   Destination.Port             int64  \n",
      " 5   Protocol                     int64  \n",
      " 6   Timestamp                    object \n",
      " 7   Flow.Duration                int64  \n",
      " 8   Total.Fwd.Packets            int64  \n",
      " 9   Total.Backward.Packets       int64  \n",
      " 10  Total.Length.of.Fwd.Packets  int64  \n",
      " 11  Total.Length.of.Bwd.Packets  float64\n",
      " 12  Fwd.Packet.Length.Max        int64  \n",
      " 13  Fwd.Packet.Length.Min        int64  \n",
      " 14  Fwd.Packet.Length.Mean       float64\n",
      " 15  Fwd.Packet.Length.Std        float64\n",
      " 16  Bwd.Packet.Length.Max        int64  \n",
      " 17  Bwd.Packet.Length.Min        int64  \n",
      " 18  Bwd.Packet.Length.Mean       float64\n",
      " 19  Bwd.Packet.Length.Std        float64\n",
      " 20  Flow.Bytes.s                 float64\n",
      " 21  Flow.Packets.s               float64\n",
      " 22  Flow.IAT.Mean                float64\n",
      " 23  Flow.IAT.Std                 float64\n",
      " 24  Flow.IAT.Max                 float64\n",
      " 25  Flow.IAT.Min                 int64  \n",
      " 26  Fwd.IAT.Total                float64\n",
      " 27  Fwd.IAT.Mean                 float64\n",
      " 28  Fwd.IAT.Std                  float64\n",
      " 29  Fwd.IAT.Max                  float64\n",
      " 30  Fwd.IAT.Min                  float64\n",
      " 31  Bwd.IAT.Total                float64\n",
      " 32  Bwd.IAT.Mean                 float64\n",
      " 33  Bwd.IAT.Std                  float64\n",
      " 34  Bwd.IAT.Max                  float64\n",
      " 35  Bwd.IAT.Min                  float64\n",
      " 36  Fwd.PSH.Flags                int64  \n",
      " 37  Fwd.Header.Length            int64  \n",
      " 38  Bwd.Header.Length            int64  \n",
      " 39  Fwd.Packets.s                float64\n",
      " 40  Bwd.Packets.s                float64\n",
      " 41  Min.Packet.Length            int64  \n",
      " 42  Max.Packet.Length            int64  \n",
      " 43  Packet.Length.Mean           float64\n",
      " 44  Packet.Length.Std            float64\n",
      " 45  Packet.Length.Variance       float64\n",
      " 46  FIN.Flag.Count               int64  \n",
      " 47  SYN.Flag.Count               int64  \n",
      " 48  RST.Flag.Count               int64  \n",
      " 49  PSH.Flag.Count               int64  \n",
      " 50  ACK.Flag.Count               int64  \n",
      " 51  URG.Flag.Count               int64  \n",
      " 52  ECE.Flag.Count               int64  \n",
      " 53  Down.Up.Ratio                int64  \n",
      " 54  Average.Packet.Size          float64\n",
      " 55  Avg.Fwd.Segment.Size         float64\n",
      " 56  Avg.Bwd.Segment.Size         float64\n",
      " 57  Fwd.Header.Length.1          int64  \n",
      " 58  Subflow.Fwd.Packets          int64  \n",
      " 59  Subflow.Fwd.Bytes            int64  \n",
      " 60  Subflow.Bwd.Packets          int64  \n",
      " 61  Subflow.Bwd.Bytes            int64  \n",
      " 62  Init_Win_bytes_forward       int64  \n",
      " 63  Init_Win_bytes_backward      int64  \n",
      " 64  act_data_pkt_fwd             int64  \n",
      " 65  min_seg_size_forward         int64  \n",
      " 66  Active.Mean                  float64\n",
      " 67  Active.Std                   float64\n",
      " 68  Active.Max                   float64\n",
      " 69  Active.Min                   float64\n",
      " 70  Idle.Mean                    float64\n",
      " 71  Idle.Std                     float64\n",
      " 72  Idle.Max                     float64\n",
      " 73  Idle.Min                     float64\n",
      " 74  L7Protocol                   int64  \n",
      " 75  ProtocolName                 object \n",
      "dtypes: float64(36), int64(35), object(5)\n",
      "memory usage: 2.0+ GB\n"
     ]
    }
   ],
   "source": [
    "df.info()"
   ]
  },
  {
   "cell_type": "markdown",
   "id": "ac857666",
   "metadata": {},
   "source": [
    "### Sélection des colonnes"
   ]
  },
  {
   "cell_type": "code",
   "execution_count": 18,
   "id": "7f15b512",
   "metadata": {},
   "outputs": [],
   "source": [
    "df_select = df.drop([\"Protocol\",\"ECE.Flag.Count\",\"RST.Flag.Count\",\"Active.Max\",\"Active.Min\",\"Idle.Mean\",\"Idle.Max\",\"Active.Mean\",\"Idle.Std\",\"Bwd.Packet.Length.Min\",\"FIN.Flag.Count\",\"Min.Packet.Length\",\"Idle.Min\",\"Active.Std\",\"URG.Flag.Count\",\"SYN.Flag.Count\",\"ACK.Flag.Count\",\"Fwd.Packet.Length.Min\",\"Fwd.PSH.Flags\",\"PSH.Flag.Count\",\"Subflow.Fwd.Packets\",\"Total.Fwd.Packets\",\"Subflow.Bwd.Packets\",\"Subflow.Bwd.Bytes\",\"Total.Length.of.Bwd.Packets\",\"Down.Up.Ratio\",\"Bwd.Header.Length\",\"Packet.Length.Variance\",\"Packet.Length.Mean\",\"Subflow.Fwd.Bytes\",\"Max.Packet.Length\",\"Packet.Length.Std\",\"min_seg_size_forward\",\"Fwd.IAT.Max\",\"Average.Packet.Size\",\"Flow.IAT.Mean\",\"Flow.Packets.s\",\"Fwd.Packet.Length.Max\",\"act_data_pkt_fwd\", \"Fwd.Header.Length\", \"Fwd.Header.Length.1\",\"Avg.Bwd.Segment.Size\",\"Bwd.Packet.Length.Min\",\"Total.Backward.Packets\",\"Bwd.Packet.Length.Max\",\"Bwd.Packet.Length.Std\",\"Flow.IAT.Std\",\"Bwd.IAT.Min\",\"Fwd.IAT.Total\",\"Fwd.IAT.Std\",\"Flow.ID\",\"Source.IP\",\"Destination.IP\",\"Timestamp\",\"Bwd.Packet.Length.Mean\"], axis=1)"
   ]
  },
  {
   "cell_type": "markdown",
   "id": "68fb963d",
   "metadata": {},
   "source": [
    "### Sélection du nombre réduit de sortie"
   ]
  },
  {
   "cell_type": "code",
   "execution_count": 19,
   "id": "b8969f9b",
   "metadata": {},
   "outputs": [],
   "source": [
    "df_reduce = df_select[(df_select['ProtocolName'] == 'AMAZON') | (df_select['ProtocolName'] == 'YOUTUBE') | (df_select['ProtocolName'] == 'MICROSOFT') | (df_select['ProtocolName'] == 'GMAIL')]"
   ]
  },
  {
   "cell_type": "markdown",
   "id": "989ed2b1",
   "metadata": {},
   "source": [
    "### Sélection des variables explicatives et cibles"
   ]
  },
  {
   "cell_type": "code",
   "execution_count": 20,
   "id": "81474cb2",
   "metadata": {},
   "outputs": [],
   "source": [
    "X = df_reduce.drop(['ProtocolName',\"L7Protocol\"], axis=1) \n",
    "y = df_reduce['ProtocolName']"
   ]
  },
  {
   "cell_type": "markdown",
   "id": "07008bba",
   "metadata": {},
   "source": [
    "## Modèle"
   ]
  },
  {
   "cell_type": "markdown",
   "id": "cf0a1ad4",
   "metadata": {},
   "source": [
    "### préparation des set train et test "
   ]
  },
  {
   "cell_type": "code",
   "execution_count": 21,
   "id": "67740771",
   "metadata": {},
   "outputs": [],
   "source": [
    "X_train, X_test, y_train, y_test = train_test_split(X, y, test_size = 0.2, random_state = 0)"
   ]
  },
  {
   "cell_type": "markdown",
   "id": "4715437e",
   "metadata": {},
   "source": [
    "### Création du modèle"
   ]
  },
  {
   "cell_type": "code",
   "execution_count": 22,
   "id": "8bbb95e9",
   "metadata": {},
   "outputs": [],
   "source": [
    "cols = X_train.columns"
   ]
  },
  {
   "cell_type": "code",
   "execution_count": 23,
   "id": "21bd073e",
   "metadata": {},
   "outputs": [],
   "source": [
    "scaler = MinMaxScaler()\n",
    "\n",
    "X_train = scaler.fit_transform(X_train)\n",
    "\n",
    "X_test = scaler.transform(X_test)"
   ]
  },
  {
   "cell_type": "code",
   "execution_count": 24,
   "id": "f845e167",
   "metadata": {},
   "outputs": [],
   "source": [
    "X_train = pd.DataFrame(X_train, columns=[cols])\n",
    "X_test = pd.DataFrame(X_test, columns=[cols])"
   ]
  },
  {
   "cell_type": "markdown",
   "id": "00f41609",
   "metadata": {},
   "source": [
    "### Entrainement et prédiction"
   ]
  },
  {
   "cell_type": "code",
   "execution_count": 25,
   "id": "793ad167",
   "metadata": {},
   "outputs": [
    {
     "data": {
      "text/html": [
       "<style>#sk-container-id-2 {color: black;background-color: white;}#sk-container-id-2 pre{padding: 0;}#sk-container-id-2 div.sk-toggleable {background-color: white;}#sk-container-id-2 label.sk-toggleable__label {cursor: pointer;display: block;width: 100%;margin-bottom: 0;padding: 0.3em;box-sizing: border-box;text-align: center;}#sk-container-id-2 label.sk-toggleable__label-arrow:before {content: \"▸\";float: left;margin-right: 0.25em;color: #696969;}#sk-container-id-2 label.sk-toggleable__label-arrow:hover:before {color: black;}#sk-container-id-2 div.sk-estimator:hover label.sk-toggleable__label-arrow:before {color: black;}#sk-container-id-2 div.sk-toggleable__content {max-height: 0;max-width: 0;overflow: hidden;text-align: left;background-color: #f0f8ff;}#sk-container-id-2 div.sk-toggleable__content pre {margin: 0.2em;color: black;border-radius: 0.25em;background-color: #f0f8ff;}#sk-container-id-2 input.sk-toggleable__control:checked~div.sk-toggleable__content {max-height: 200px;max-width: 100%;overflow: auto;}#sk-container-id-2 input.sk-toggleable__control:checked~label.sk-toggleable__label-arrow:before {content: \"▾\";}#sk-container-id-2 div.sk-estimator input.sk-toggleable__control:checked~label.sk-toggleable__label {background-color: #d4ebff;}#sk-container-id-2 div.sk-label input.sk-toggleable__control:checked~label.sk-toggleable__label {background-color: #d4ebff;}#sk-container-id-2 input.sk-hidden--visually {border: 0;clip: rect(1px 1px 1px 1px);clip: rect(1px, 1px, 1px, 1px);height: 1px;margin: -1px;overflow: hidden;padding: 0;position: absolute;width: 1px;}#sk-container-id-2 div.sk-estimator {font-family: monospace;background-color: #f0f8ff;border: 1px dotted black;border-radius: 0.25em;box-sizing: border-box;margin-bottom: 0.5em;}#sk-container-id-2 div.sk-estimator:hover {background-color: #d4ebff;}#sk-container-id-2 div.sk-parallel-item::after {content: \"\";width: 100%;border-bottom: 1px solid gray;flex-grow: 1;}#sk-container-id-2 div.sk-label:hover label.sk-toggleable__label {background-color: #d4ebff;}#sk-container-id-2 div.sk-serial::before {content: \"\";position: absolute;border-left: 1px solid gray;box-sizing: border-box;top: 0;bottom: 0;left: 50%;z-index: 0;}#sk-container-id-2 div.sk-serial {display: flex;flex-direction: column;align-items: center;background-color: white;padding-right: 0.2em;padding-left: 0.2em;position: relative;}#sk-container-id-2 div.sk-item {position: relative;z-index: 1;}#sk-container-id-2 div.sk-parallel {display: flex;align-items: stretch;justify-content: center;background-color: white;position: relative;}#sk-container-id-2 div.sk-item::before, #sk-container-id-2 div.sk-parallel-item::before {content: \"\";position: absolute;border-left: 1px solid gray;box-sizing: border-box;top: 0;bottom: 0;left: 50%;z-index: -1;}#sk-container-id-2 div.sk-parallel-item {display: flex;flex-direction: column;z-index: 1;position: relative;background-color: white;}#sk-container-id-2 div.sk-parallel-item:first-child::after {align-self: flex-end;width: 50%;}#sk-container-id-2 div.sk-parallel-item:last-child::after {align-self: flex-start;width: 50%;}#sk-container-id-2 div.sk-parallel-item:only-child::after {width: 0;}#sk-container-id-2 div.sk-dashed-wrapped {border: 1px dashed gray;margin: 0 0.4em 0.5em 0.4em;box-sizing: border-box;padding-bottom: 0.4em;background-color: white;}#sk-container-id-2 div.sk-label label {font-family: monospace;font-weight: bold;display: inline-block;line-height: 1.2em;}#sk-container-id-2 div.sk-label-container {text-align: center;}#sk-container-id-2 div.sk-container {/* jupyter's `normalize.less` sets `[hidden] { display: none; }` but bootstrap.min.css set `[hidden] { display: none !important; }` so we also need the `!important` here to be able to override the default hidden behavior on the sphinx rendered scikit-learn.org. See: https://github.com/scikit-learn/scikit-learn/issues/21755 */display: inline-block !important;position: relative;}#sk-container-id-2 div.sk-text-repr-fallback {display: none;}</style><div id=\"sk-container-id-2\" class=\"sk-top-container\"><div class=\"sk-text-repr-fallback\"><pre>LogisticRegression(random_state=0, solver=&#x27;liblinear&#x27;)</pre><b>In a Jupyter environment, please rerun this cell to show the HTML representation or trust the notebook. <br />On GitHub, the HTML representation is unable to render, please try loading this page with nbviewer.org.</b></div><div class=\"sk-container\" hidden><div class=\"sk-item\"><div class=\"sk-estimator sk-toggleable\"><input class=\"sk-toggleable__control sk-hidden--visually\" id=\"sk-estimator-id-2\" type=\"checkbox\" checked><label for=\"sk-estimator-id-2\" class=\"sk-toggleable__label sk-toggleable__label-arrow\">LogisticRegression</label><div class=\"sk-toggleable__content\"><pre>LogisticRegression(random_state=0, solver=&#x27;liblinear&#x27;)</pre></div></div></div></div></div>"
      ],
      "text/plain": [
       "LogisticRegression(random_state=0, solver='liblinear')"
      ]
     },
     "execution_count": 25,
     "metadata": {},
     "output_type": "execute_result"
    }
   ],
   "source": [
    "logreg = LogisticRegression(solver='liblinear', random_state=0)\n",
    "logreg.fit(X_train, y_train)"
   ]
  },
  {
   "cell_type": "code",
   "execution_count": 32,
   "id": "debac542",
   "metadata": {},
   "outputs": [
    {
     "data": {
      "text/plain": [
       "array(['YOUTUBE', 'YOUTUBE', 'MICROSOFT', ..., 'YOUTUBE', 'YOUTUBE',\n",
       "       'YOUTUBE'], dtype=object)"
      ]
     },
     "execution_count": 32,
     "metadata": {},
     "output_type": "execute_result"
    }
   ],
   "source": [
    "y_pred_train = logreg.predict(X_train)"
   ]
  },
  {
   "cell_type": "code",
   "execution_count": 33,
   "id": "30b46450",
   "metadata": {},
   "outputs": [
    {
     "data": {
      "text/plain": [
       "1633226      YOUTUBE\n",
       "3481396        GMAIL\n",
       "164484     MICROSOFT\n",
       "1482061        GMAIL\n",
       "2708178      YOUTUBE\n",
       "             ...    \n",
       "3143182    MICROSOFT\n",
       "283475       YOUTUBE\n",
       "6318         YOUTUBE\n",
       "3020216       AMAZON\n",
       "750955     MICROSOFT\n",
       "Name: ProtocolName, Length: 70523, dtype: object"
      ]
     },
     "execution_count": 33,
     "metadata": {},
     "output_type": "execute_result"
    }
   ],
   "source": [
    "y_pred_test = logreg.predict(X_test)\n",
    "y_test"
   ]
  },
  {
   "cell_type": "markdown",
   "id": "091b4ed3",
   "metadata": {},
   "source": [
    "## Métriques"
   ]
  },
  {
   "cell_type": "markdown",
   "id": "8c55b50d",
   "metadata": {},
   "source": [
    "### Accuracy"
   ]
  },
  {
   "cell_type": "code",
   "execution_count": 28,
   "id": "37bb6cd1",
   "metadata": {},
   "outputs": [
    {
     "name": "stdout",
     "output_type": "stream",
     "text": [
      "Accuracy sur les données de test: 0.5466\n",
      "Accuracy sur les données d'entrainement: 0.5443\n"
     ]
    }
   ],
   "source": [
    "print(\"Accuracy sur les données de test: {0:0.4f}\". format(accuracy_score(y_test, y_pred_test)))\n",
    "print(\"Accuracy sur les données d'entrainement: {0:0.4f}\". format(accuracy_score(y_train, y_pred_train)))"
   ]
  },
  {
   "cell_type": "markdown",
   "id": "06506496",
   "metadata": {},
   "source": []
  },
  {
   "cell_type": "code",
   "execution_count": 31,
   "id": "c5576047",
   "metadata": {},
   "outputs": [
    {
     "data": {
      "text/plain": [
       "array([[ 4979,    50,   762, 11611],\n",
       "       [ 1129,   125,   121,  6667],\n",
       "       [ 1477,    16,  1449,  7940],\n",
       "       [ 1817,    60,   328, 31992]])"
      ]
     },
     "execution_count": 31,
     "metadata": {},
     "output_type": "execute_result"
    }
   ],
   "source": []
  },
  {
   "cell_type": "code",
   "execution_count": 34,
   "id": "d443d4f1",
   "metadata": {},
   "outputs": [
    {
     "data": {
      "text/plain": [
       "<AxesSubplot: >"
      ]
     },
     "execution_count": 34,
     "metadata": {},
     "output_type": "execute_result"
    },
    {
     "data": {
      "image/png": "[encoded data removed]",
      "text/plain": [
       "<Figure size 1000x800 with 2 Axes>"
      ]
     },
     "metadata": {},
     "output_type": "display_data"
    }
   ],
   "source": []
  },
  {
   "cell_type": "code",
   "execution_count": 35,
   "id": "ced13469",
   "metadata": {},
   "outputs": [],
   "source": []
  },
  {
   "cell_type": "code",
   "execution_count": 36,
   "id": "baba1af9",
   "metadata": {},
   "outputs": [
    {
     "name": "stdout",
     "output_type": "stream",
     "text": [
      "Accuracy : 0.8124\n"
     ]
    }
   ],
   "source": []
  },
  {
   "cell_type": "code",
   "execution_count": 37,
   "id": "8c1937c3",
   "metadata": {},
   "outputs": [
    {
     "name": "stdout",
     "output_type": "stream",
     "text": [
      "Precision : 0.9901\n"
     ]
    }
   ],
   "source": []
  },
  {
   "cell_type": "code",
   "execution_count": 38,
   "id": "6fae1096",
   "metadata": {},
   "outputs": [
    {
     "name": "stdout",
     "output_type": "stream",
     "text": [
      "Recall ou Rappel : 0.8152\n"
     ]
    }
   ],
   "source": []
  },
  {
   "cell_type": "code",
   "execution_count": 39,
   "id": "c81422b6",
   "metadata": {},
   "outputs": [
    {
     "name": "stdout",
     "output_type": "stream",
     "text": [
      "Le taux de faux positif : 0.2857\n"
     ]
    }
   ],
   "source": []
  },
  {
   "cell_type": "code",
   "execution_count": 40,
   "id": "d8987dbb",
   "metadata": {},
   "outputs": [
    {
     "name": "stdout",
     "output_type": "stream",
     "text": [
      "Spécificité : 0.7143\n"
     ]
    }
   ],
   "source": []
  },
  {
   "cell_type": "code",
   "execution_count": 41,
   "id": "407ff111",
   "metadata": {},
   "outputs": [
    {
     "name": "stdout",
     "output_type": "stream",
     "text": [
      "F1-score : 0.8941\n"
     ]
    }
   ],
   "source": []
  },
  {
   "cell_type": "code",
   "execution_count": null,
   "id": "11faa094",
   "metadata": {},
   "outputs": [],
   "source": []
  }
 ],
 "metadata": {
  "kernelspec": {
   "display_name": "Python 3 (ipykernel)",
   "language": "python",
   "name": "python3"
  },
  "language_info": {
   "codemirror_mode": {
    "name": "ipython",
    "version": 3
   },
   "file_extension": ".py",
   "mimetype": "text/x-python",
   "name": "python",
   "nbconvert_exporter": "python",
   "pygments_lexer": "ipython3",
   "version": "3.10.7"
  }
 },
 "nbformat": 4,
 "nbformat_minor": 5
}
