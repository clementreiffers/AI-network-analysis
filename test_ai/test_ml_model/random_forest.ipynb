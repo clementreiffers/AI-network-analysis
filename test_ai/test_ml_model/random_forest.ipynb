{
 "cells": [
  {
   "cell_type": "markdown",
   "id": "69099196",
   "metadata": {},
   "source": [
    "### Test model Machine Learning Random Forest"
   ]
  },
  {
   "cell_type": "code",
   "execution_count": 14,
   "id": "4d5329e2",
   "metadata": {},
   "outputs": [],
   "source": [
    "from sklearn.ensemble import RandomForestRegressor\n",
    "from sklearn.model_selection import train_test_split\n",
    "import pandas as pd"
   ]
  },
  {
   "cell_type": "code",
   "execution_count": 15,
   "id": "7c12968f",
   "metadata": {},
   "outputs": [],
   "source": [
    "def get_x_y(df):\n",
    "    x_col = [\n",
    "        \"Source.Port\",\n",
    "        \"Destination.Port\",\n",
    "        \"Init_Win_bytes_forward\",\n",
    "        \"Fwd.Packets.s\",\n",
    "        \"Init_Win_bytes_backward\",\n",
    "        \"Bwd.Packets.s\",\n",
    "        \"Flow.Bytes.s\",\n",
    "        \"Flow.Duration\",\n",
    "        \"Avg.Fwd.Segment.Size\",\n",
    "        \"Fwd.Packet.Length.Std\",\n",
    "        \"Fwd.Packet.Length.Mean\",\n",
    "        \"Fwd.IAT.Min\",\n",
    "        \"Flow.IAT.Max\",\n",
    "        \"Flow.IAT.Min\",\n",
    "        \"Bwd.IAT.Total\",\n",
    "        \"Fwd.IAT.Mean\",\n",
    "        \"Bwd.IAT.Std\",\n",
    "        \"Bwd.IAT.Max\",\n",
    "        \"Bwd.IAT.Mean\",\n",
    "        \"Total.Length.of.Fwd.Packets\",\n",
    "    ]\n",
    "    target = \"L7Protocol\"\n",
    "    return df[x_col], df[target]"
   ]
  },
  {
   "cell_type": "code",
   "execution_count": 16,
   "id": "d8760501",
   "metadata": {},
   "outputs": [],
   "source": [
    "df_rf = pd.read_csv('dataset_clean.csv')"
   ]
  },
  {
   "cell_type": "code",
   "execution_count": 17,
   "id": "6df56a6d",
   "metadata": {},
   "outputs": [],
   "source": [
    "df_rf = df_rf.loc[df_rf[\"ProtocolName\"].isin([\"AMAZON\", \"MICROSOFT\", \"YOUTUBE\", \"GMAIL\"])]\n",
    "x, y = get_x_y(df_rf)"
   ]
  },
  {
   "cell_type": "code",
   "execution_count": 18,
   "id": "2eb6820d",
   "metadata": {},
   "outputs": [],
   "source": [
    "x_train, x_test, y_train, y_test = train_test_split(\n",
    "    x,\n",
    "    y,\n",
    "    test_size=0.2,\n",
    "    random_state=2\n",
    ")"
   ]
  },
  {
   "cell_type": "code",
   "execution_count": 19,
   "id": "2a26b65a",
   "metadata": {},
   "outputs": [],
   "source": [
    "rf = RandomForestRegressor(n_estimators=25, random_state=1)"
   ]
  },
  {
   "cell_type": "code",
   "execution_count": 20,
   "id": "2e14542a",
   "metadata": {},
   "outputs": [
    {
     "data": {
      "text/plain": [
       "RandomForestRegressor(n_estimators=25, random_state=1)"
      ]
     },
     "execution_count": 20,
     "metadata": {},
     "output_type": "execute_result"
    }
   ],
   "source": [
    "rf.fit(x_train, y_train)"
   ]
  },
  {
   "cell_type": "code",
   "execution_count": 21,
   "id": "d1b5c8a9",
   "metadata": {},
   "outputs": [
    {
     "data": {
      "text/plain": [
       "0.9713243725839857"
      ]
     },
     "execution_count": 21,
     "metadata": {},
     "output_type": "execute_result"
    }
   ],
   "source": [
    "rf.score(x_train, y_train)"
   ]
  },
  {
   "cell_type": "code",
   "execution_count": null,
   "id": "0882e350",
   "metadata": {},
   "outputs": [],
   "source": []
  },
  {
   "cell_type": "code",
   "execution_count": null,
   "id": "2bbb45ba",
   "metadata": {},
   "outputs": [],
   "source": []
  }
 ],
 "metadata": {
  "kernelspec": {
   "display_name": "Python 3 (ipykernel)",
   "language": "python",
   "name": "python3"
  },
  "language_info": {
   "codemirror_mode": {
    "name": "ipython",
    "version": 3
   },
   "file_extension": ".py",
   "mimetype": "text/x-python",
   "name": "python",
   "nbconvert_exporter": "python",
   "pygments_lexer": "ipython3",
   "version": "3.9.7"
  }
 },
 "nbformat": 4,
 "nbformat_minor": 5
}