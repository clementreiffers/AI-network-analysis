{
 "cells": [
  {
   "cell_type": "code",
   "execution_count": 1,
   "id": "d0b839c8",
   "metadata": {},
   "outputs": [],
   "source": [
    "import pandas as pd\n",
    "import numpy as np\n",
    "\n",
    "# Graph\n",
    "import plotly.express as px\n",
    "import matplotlib.pyplot as plt\n",
    "\n",
    "# Keras\n",
    "from keras.models import Sequential\n",
    "from keras.layers import Dense\n",
    "from keras import callbacks\n",
    "\n",
    "# sklearn\n",
    "from sklearn.preprocessing import StandardScaler\n",
    "from sklearn.model_selection import train_test_split\n",
    "from sklearn.metrics import accuracy_score\n",
    "\n",
    "# tf\n",
    "from tensorflow.keras.utils import to_categorical\n",
    "import tensorflow as tf\n",
    "from tensorflow.keras.models import Sequential\n",
    "from tensorflow.keras.layers import Dense, Dropout, LSTM, GRU\n",
    "from tensorflow.keras.layers import Embedding\n",
    "from tensorflow.keras.optimizers import SGD"
   ]
  },
  {
   "cell_type": "code",
   "execution_count": 2,
   "id": "834f021f",
   "metadata": {},
   "outputs": [],
   "source": [
    "path = r\"D:\\TRAVAIL\\Inge_3\\Projet - Prédiction du type d’application Internet dans le contexte de traffic chiffré\\network_analysis\\data\\dataset_clean.csv\""
   ]
  },
  {
   "cell_type": "code",
   "execution_count": 3,
   "id": "471e3b82",
   "metadata": {},
   "outputs": [],
   "source": [
    "TARGET = 'L7Protocol'"
   ]
  },
  {
   "cell_type": "markdown",
   "id": "514d9acb",
   "metadata": {},
   "source": [
    "# Import df"
   ]
  },
  {
   "cell_type": "code",
   "execution_count": 4,
   "id": "f0bb4e71",
   "metadata": {},
   "outputs": [],
   "source": [
    "df = pd.read_csv(path)\n",
    "\n",
    "list_protocol = [\"AMAZON\", \"MICROSOFT\", \"YOUTUBE\", \"GMAIL\", \"WINDOWS_UPDATE\", \"SKYPE\", \"FACEBOOK\", \"DROPBOX\"]\n",
    "df = df[df['ProtocolName'].isin(list_protocol)]\n",
    "df = df.drop(\n",
    "    [\n",
    "        \"ProtocolName\",\n",
    "        \"Month\",\n",
    "        \"Day\",\n",
    "        \"Protocol\",\n",
    "        \"ECE.Flag.Count\",\n",
    "        \"RST.Flag.Count\",\n",
    "        \"Active.Max\",\n",
    "        \"Active.Min\",\n",
    "        \"Idle.Mean\",\n",
    "        \"Idle.Max\",\n",
    "        \"Active.Mean\",\n",
    "        \"Idle.Std\",\n",
    "        \"Bwd.Packet.Length.Min\",\n",
    "        \"FIN.Flag.Count\",\n",
    "        \"Min.Packet.Length\",\n",
    "        \"Idle.Min\",\n",
    "        \"Active.Std\",\n",
    "        \"URG.Flag.Count\",\n",
    "        \"SYN.Flag.Count\",\n",
    "        \"ACK.Flag.Count\",\n",
    "        \"Fwd.Packet.Length.Min\",\n",
    "        \"Fwd.PSH.Flags\",\n",
    "        \"PSH.Flag.Count\",\n",
    "        \"Subflow.Fwd.Packets\",\n",
    "        \"Total.Fwd.Packets\",\n",
    "        \"Subflow.Bwd.Packets\",\n",
    "        \"Subflow.Bwd.Bytes\",\n",
    "        \"Total.Length.of.Bwd.Packets\",\n",
    "        \"Down.Up.Ratio\",\n",
    "        \"Bwd.Header.Length\",\n",
    "        \"Packet.Length.Variance\",\n",
    "        \"Packet.Length.Mean\",\n",
    "        \"Subflow.Fwd.Bytes\",\n",
    "        \"Max.Packet.Length\",\n",
    "        \"Packet.Length.Std\",\n",
    "        \"min_seg_size_forward\",\n",
    "        \"Fwd.IAT.Max\",\n",
    "        \"Average.Packet.Size\",\n",
    "        \"Flow.IAT.Mean\",\n",
    "        \"Flow.Packets.s\",\n",
    "        \"Fwd.Packet.Length.Max\",\n",
    "        \"act_data_pkt_fwd\",\n",
    "        \"Fwd.Header.Length\",\n",
    "        \"Fwd.Header.Length.1\",\n",
    "        \"Avg.Bwd.Segment.Size\",\n",
    "        \"Bwd.Packet.Length.Min\",\n",
    "        \"Total.Backward.Packets\",\n",
    "        \"Bwd.Packet.Length.Max\",\n",
    "        \"Bwd.Packet.Length.Std\",\n",
    "        \"Flow.IAT.Std\",\n",
    "        \"Bwd.IAT.Min\",\n",
    "        \"Fwd.IAT.Total\",\n",
    "        \"Fwd.IAT.Std\",\n",
    "        \"Flow.ID\",\n",
    "        \"Source.IP\",\n",
    "        \"Destination.IP\",\n",
    "        \"Bwd.Packet.Length.Mean\",\n",
    "    ],\n",
    "    axis=1,\n",
    ")"
   ]
  },
  {
   "cell_type": "markdown",
   "id": "762ad4cb",
   "metadata": {},
   "source": [
    "# X et y"
   ]
  },
  {
   "cell_type": "code",
   "execution_count": 5,
   "id": "0f88f16f",
   "metadata": {},
   "outputs": [],
   "source": [
    "y = df[TARGET]\n",
    "X = df.drop([TARGET],axis=1)"
   ]
  },
  {
   "cell_type": "code",
   "execution_count": 6,
   "id": "168ce5e2",
   "metadata": {},
   "outputs": [],
   "source": [
    "y = y.to_numpy()"
   ]
  },
  {
   "cell_type": "code",
   "execution_count": 7,
   "id": "45aa17d3",
   "metadata": {},
   "outputs": [],
   "source": [
    "scaler = StandardScaler()\n",
    "scaler.fit(X)\n",
    "X = scaler.transform(X)\n",
    "y = to_categorical(y)"
   ]
  },
  {
   "cell_type": "code",
   "execution_count": 8,
   "id": "63f90e56",
   "metadata": {},
   "outputs": [],
   "source": [
    "X_train, X_test, y_train, y_test = train_test_split(X, y, test_size = 0.2, random_state = 4)"
   ]
  },
  {
   "cell_type": "code",
   "execution_count": 9,
   "id": "f0f5b3d8",
   "metadata": {},
   "outputs": [],
   "source": [
    "X_train = np.reshape(X_train, (X_train.shape[0], 1, X.shape[1]))\n",
    "X_test = np.reshape(X_test, (X_test.shape[0], 1, X.shape[1]))"
   ]
  },
  {
   "cell_type": "markdown",
   "id": "6a9aff7e",
   "metadata": {},
   "source": [
    "# Modèle"
   ]
  },
  {
   "cell_type": "code",
   "execution_count": 16,
   "id": "029ea407",
   "metadata": {},
   "outputs": [
    {
     "name": "stdout",
     "output_type": "stream",
     "text": [
      "Model: \"sequential_2\"\n",
      "_________________________________________________________________\n",
      " Layer (type)                Output Shape              Param #   \n",
      "=================================================================\n",
      " gru_5 (GRU)                 (None, 1, 200)            133200    \n",
      "                                                                 \n",
      " gru_6 (GRU)                 (None, 200)               241200    \n",
      "                                                                 \n",
      " dense_2 (Dense)             (None, 213)               42813     \n",
      "                                                                 \n",
      "=================================================================\n",
      "Total params: 417,213\n",
      "Trainable params: 417,213\n",
      "Non-trainable params: 0\n",
      "_________________________________________________________________\n"
     ]
    }
   ],
   "source": [
    "model = Sequential()\n",
    "\n",
    "model.add(GRU(200, input_shape=(1,20), activation=\"relu\", return_sequences=True))\n",
    "model.add(GRU(200,activation=\"relu\"))\n",
    "model.add(Dense(y.shape[1], activation='sigmoid'))\n",
    "\n",
    "model.compile(loss = 'binary_crossentropy', optimizer = \"adam\", metrics = ['accuracy'])\n",
    "\n",
    "model.summary()"
   ]
  },
  {
   "cell_type": "code",
   "execution_count": 17,
   "id": "3588d452",
   "metadata": {},
   "outputs": [],
   "source": [
    "earlystopping = callbacks.EarlyStopping(monitor =\"val_loss\", \n",
    "                                        mode =\"min\", \n",
    "                                        patience = 3, \n",
    "                                        restore_best_weights = True)"
   ]
  },
  {
   "cell_type": "code",
   "execution_count": 18,
   "id": "17f7bab1",
   "metadata": {},
   "outputs": [
    {
     "name": "stdout",
     "output_type": "stream",
     "text": [
      "Epoch 1/25\n",
      "11797/11797 [==============================] - 77s 6ms/step - loss: 0.0108 - accuracy: 0.5700 - val_loss: 0.0078 - val_accuracy: 0.6642\n",
      "Epoch 2/25\n",
      "11797/11797 [==============================] - 89s 8ms/step - loss: 0.0073 - accuracy: 0.6829 - val_loss: 0.0069 - val_accuracy: 0.7017\n",
      "Epoch 3/25\n",
      "11797/11797 [==============================] - 83s 7ms/step - loss: 0.0066 - accuracy: 0.7112 - val_loss: 0.0065 - val_accuracy: 0.7205\n",
      "Epoch 4/25\n",
      "11797/11797 [==============================] - 78s 7ms/step - loss: 0.0063 - accuracy: 0.7254 - val_loss: 0.0062 - val_accuracy: 0.7251\n",
      "Epoch 5/25\n",
      "11797/11797 [==============================] - 82s 7ms/step - loss: 0.0060 - accuracy: 0.7354 - val_loss: 0.0061 - val_accuracy: 0.7360\n",
      "Epoch 6/25\n",
      "11797/11797 [==============================] - 87s 7ms/step - loss: 0.0058 - accuracy: 0.7438 - val_loss: 0.0058 - val_accuracy: 0.7461\n",
      "Epoch 7/25\n",
      "11797/11797 [==============================] - 84s 7ms/step - loss: 0.0057 - accuracy: 0.7507 - val_loss: 0.0057 - val_accuracy: 0.7511\n",
      "Epoch 8/25\n",
      "11797/11797 [==============================] - 78s 7ms/step - loss: 0.0056 - accuracy: 0.7564 - val_loss: 0.0056 - val_accuracy: 0.7550\n",
      "Epoch 9/25\n",
      "11797/11797 [==============================] - 75s 6ms/step - loss: 0.0055 - accuracy: 0.7613 - val_loss: 0.0055 - val_accuracy: 0.7597\n",
      "Epoch 10/25\n",
      "11797/11797 [==============================] - 92s 8ms/step - loss: 0.0054 - accuracy: 0.7655 - val_loss: 0.0054 - val_accuracy: 0.7650\n",
      "Epoch 11/25\n",
      "11797/11797 [==============================] - 150s 13ms/step - loss: 0.0053 - accuracy: 0.7686 - val_loss: 0.0054 - val_accuracy: 0.7663\n",
      "Epoch 12/25\n",
      "11797/11797 [==============================] - 134s 11ms/step - loss: 0.0052 - accuracy: 0.7723 - val_loss: 0.0053 - val_accuracy: 0.7713\n",
      "Epoch 13/25\n",
      "11797/11797 [==============================] - 131s 11ms/step - loss: 0.0051 - accuracy: 0.7746 - val_loss: 0.0052 - val_accuracy: 0.7731\n",
      "Epoch 14/25\n",
      "11797/11797 [==============================] - 130s 11ms/step - loss: 0.0051 - accuracy: 0.7776 - val_loss: 0.0053 - val_accuracy: 0.7713\n",
      "Epoch 15/25\n",
      "11797/11797 [==============================] - 127s 11ms/step - loss: 0.0050 - accuracy: 0.7800 - val_loss: 0.0052 - val_accuracy: 0.7775\n",
      "Epoch 16/25\n",
      "11797/11797 [==============================] - 128s 11ms/step - loss: 0.0050 - accuracy: 0.7822 - val_loss: 0.0052 - val_accuracy: 0.7773\n",
      "Epoch 17/25\n",
      "11797/11797 [==============================] - 130s 11ms/step - loss: 0.0049 - accuracy: 0.7841 - val_loss: 0.0051 - val_accuracy: 0.7797\n",
      "Epoch 18/25\n",
      "11797/11797 [==============================] - 131s 11ms/step - loss: 0.0049 - accuracy: 0.7867 - val_loss: 0.0050 - val_accuracy: 0.7849\n",
      "Epoch 19/25\n",
      "11797/11797 [==============================] - 133s 11ms/step - loss: 0.0048 - accuracy: 0.7888 - val_loss: 0.0051 - val_accuracy: 0.7828\n",
      "Epoch 20/25\n",
      "11797/11797 [==============================] - 133s 11ms/step - loss: 0.0048 - accuracy: 0.7901 - val_loss: 0.0051 - val_accuracy: 0.7816\n",
      "Epoch 21/25\n",
      "11797/11797 [==============================] - 132s 11ms/step - loss: 0.0048 - accuracy: 0.7919 - val_loss: 0.0050 - val_accuracy: 0.7872\n",
      "Epoch 22/25\n",
      "11797/11797 [==============================] - 122s 10ms/step - loss: 0.0047 - accuracy: 0.7930 - val_loss: 0.0050 - val_accuracy: 0.7873\n",
      "Epoch 23/25\n",
      "11797/11797 [==============================] - 124s 11ms/step - loss: 0.0047 - accuracy: 0.7949 - val_loss: 0.0049 - val_accuracy: 0.7901\n",
      "Epoch 24/25\n",
      "11797/11797 [==============================] - 582s 49ms/step - loss: 0.0047 - accuracy: 0.7959 - val_loss: 0.0049 - val_accuracy: 0.7920\n",
      "Epoch 25/25\n",
      "11797/11797 [==============================] - 141s 12ms/step - loss: 0.0046 - accuracy: 0.7976 - val_loss: 0.0049 - val_accuracy: 0.7903\n"
     ]
    },
    {
     "data": {
      "text/plain": [
       "<keras.callbacks.History at 0x1eca4556c70>"
      ]
     },
     "execution_count": 18,
     "metadata": {},
     "output_type": "execute_result"
    }
   ],
   "source": [
    "#\n",
    "history = model.fit(X_train, y_train, \n",
    "                    epochs = 25, \n",
    "                    validation_data= (X_test, y_test),\n",
    "                    callbacks =[earlystopping])\n",
    "history"
   ]
  },
  {
   "cell_type": "code",
   "execution_count": 19,
   "id": "61e1aee4",
   "metadata": {},
   "outputs": [
    {
     "name": "stdout",
     "output_type": "stream",
     "text": [
      "2950/2950 [==============================] - 18s 6ms/step - loss: 0.0049 - accuracy: 0.7903\n"
     ]
    },
    {
     "data": {
      "text/plain": [
       "[0.004918774589896202, 0.7902957201004028]"
      ]
     },
     "execution_count": 19,
     "metadata": {},
     "output_type": "execute_result"
    }
   ],
   "source": [
    "accuracy = model.evaluate(X_test, y_test)\n",
    "accuracy"
   ]
  },
  {
   "cell_type": "code",
   "execution_count": null,
   "id": "20b2579d",
   "metadata": {},
   "outputs": [],
   "source": [
    "# Note : evolution de l'accuracy\n",
    "# 0.7215 -> 0.7853"
   ]
  },
  {
   "cell_type": "markdown",
   "id": "810193dd",
   "metadata": {},
   "source": [
    "# Graph"
   ]
  },
  {
   "cell_type": "code",
   "execution_count": 20,
   "id": "fa33d2fd",
   "metadata": {},
   "outputs": [
    {
     "data": {
      "image/png": "[encoded data removed]",
      "text/plain": [
       "<Figure size 432x288 with 1 Axes>"
      ]
     },
     "metadata": {
      "needs_background": "light"
     },
     "output_type": "display_data"
    },
    {
     "data": {
      "image/png": "[encoded data removed]",
      "text/plain": [
       "<Figure size 432x288 with 1 Axes>"
      ]
     },
     "metadata": {
      "needs_background": "light"
     },
     "output_type": "display_data"
    }
   ],
   "source": [
    "# loss plot function\n",
    "def plot_loss(loss,val_loss):\n",
    "    plt.figure()\n",
    "    plt.plot(loss)\n",
    "    plt.plot(val_loss)\n",
    "    plt.title('Model loss')\n",
    "    plt.ylabel('Loss')\n",
    "    plt.xlabel('Epoch')\n",
    "    plt.legend(['Train', 'Test'], loc='upper right')  \n",
    "    plt.show()\n",
    "    \n",
    "# accuracy plot function    \n",
    "def plot_accuracy(acc,val_acc):\n",
    "    plt.figure()\n",
    "    plt.plot(acc)\n",
    "    plt.plot(val_acc)\n",
    "    plt.title('Model accuracy')\n",
    "    plt.ylabel('Accuracy')\n",
    "    plt.xlabel('Epoch')\n",
    "    plt.legend(['Train', 'Test'], loc='upper left')\n",
    "    plt.show()\n",
    "\n",
    "# plot loss and accuracy curves\n",
    "plot_loss(history.history['loss'], history.history['val_loss'])\n",
    "plot_accuracy(history.history['accuracy'], history.history['val_accuracy'])"
   ]
  },
  {
   "cell_type": "code",
   "execution_count": null,
   "id": "1e37dfb9",
   "metadata": {},
   "outputs": [],
   "source": []
  }
 ],
 "metadata": {
  "kernelspec": {
   "display_name": "Python 3 (ipykernel)",
   "language": "python",
   "name": "python3"
  },
  "language_info": {
   "codemirror_mode": {
    "name": "ipython",
    "version": 3
   },
   "file_extension": ".py",
   "mimetype": "text/x-python",
   "name": "python",
   "nbconvert_exporter": "python",
   "pygments_lexer": "ipython3",
   "version": "3.9.7"
  }
 },
 "nbformat": 4,
 "nbformat_minor": 5
}
