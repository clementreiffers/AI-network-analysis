{
 "cells": [
  {
   "cell_type": "code",
   "execution_count": 1,
   "id": "d0b839c8",
   "metadata": {},
   "outputs": [],
   "source": [
    "import pandas as pd\n",
    "import numpy as np\n",
    "\n",
    "# Graph\n",
    "import plotly.express as px\n",
    "import matplotlib.pyplot as plt\n",
    "\n",
    "# Keras\n",
    "from keras.models import Sequential\n",
    "from keras.layers import Dense\n",
    "from keras import callbacks\n",
    "\n",
    "# sklearn\n",
    "from sklearn.preprocessing import StandardScaler\n",
    "from sklearn.model_selection import train_test_split\n",
    "from sklearn.metrics import accuracy_score\n",
    "\n",
    "# tf\n",
    "from tensorflow.keras.utils import to_categorical\n",
    "import tensorflow as tf\n",
    "from tensorflow.keras.models import Sequential\n",
    "from tensorflow.keras.layers import Dense, Dropout, LSTM\n",
    "from tensorflow.keras.layers import Embedding\n",
    "from tensorflow.keras.optimizers import SGD"
   ]
  },
  {
   "cell_type": "code",
   "execution_count": 2,
   "id": "834f021f",
   "metadata": {},
   "outputs": [],
   "source": [
    "path = r\"D:\\TRAVAIL\\Inge_3\\Projet - Prédiction du type d’application Internet dans le contexte de traffic chiffré\\network_analysis\\data\\dataset_clean.csv\""
   ]
  },
  {
   "cell_type": "code",
   "execution_count": 3,
   "id": "471e3b82",
   "metadata": {},
   "outputs": [],
   "source": [
    "TARGET = 'L7Protocol'"
   ]
  },
  {
   "cell_type": "markdown",
   "id": "514d9acb",
   "metadata": {},
   "source": [
    "# Import df"
   ]
  },
  {
   "cell_type": "code",
   "execution_count": 15,
   "id": "f0bb4e71",
   "metadata": {},
   "outputs": [],
   "source": [
    "df = pd.read_csv(path)\n",
    "\n",
    "list_protocol = [\"AMAZON\", \"MICROSOFT\", \"YOUTUBE\", \"GMAIL\", \"WINDOWS_UPDATE\", \"SKYPE\", \"FACEBOOK\", \"DROPBOX\"]\n",
    "df = df[df['ProtocolName'].isin(list_protocol)]\n",
    "df = df.drop(\n",
    "    ['Source.Port',\n",
    "     'Destination.Port',\n",
    "     'Protocol',\n",
    "     'Flow.ID',\n",
    "     'Source.IP',\n",
    "     'Destination.IP',\n",
    "     'ProtocolName'],\n",
    "    axis=1,\n",
    ")"
   ]
  },
  {
   "cell_type": "markdown",
   "id": "762ad4cb",
   "metadata": {},
   "source": [
    "# X et y"
   ]
  },
  {
   "cell_type": "code",
   "execution_count": 16,
   "id": "0f88f16f",
   "metadata": {},
   "outputs": [],
   "source": [
    "y = df[TARGET]\n",
    "X = df.drop([TARGET],axis=1)"
   ]
  },
  {
   "cell_type": "code",
   "execution_count": 17,
   "id": "168ce5e2",
   "metadata": {},
   "outputs": [],
   "source": [
    "y = y.to_numpy()"
   ]
  },
  {
   "cell_type": "code",
   "execution_count": 18,
   "id": "45aa17d3",
   "metadata": {},
   "outputs": [],
   "source": [
    "scaler = StandardScaler()\n",
    "scaler.fit(X)\n",
    "X = scaler.transform(X)\n",
    "y = to_categorical(y)"
   ]
  },
  {
   "cell_type": "code",
   "execution_count": 19,
   "id": "63f90e56",
   "metadata": {},
   "outputs": [],
   "source": [
    "X_train, X_test, y_train, y_test = train_test_split(X, y, test_size = 0.2, random_state = 4)"
   ]
  },
  {
   "cell_type": "code",
   "execution_count": 20,
   "id": "f0f5b3d8",
   "metadata": {},
   "outputs": [],
   "source": [
    "X_train = np.reshape(X_train, (X_train.shape[0], 1, X.shape[1]))\n",
    "X_test = np.reshape(X_test, (X_test.shape[0], 1, X.shape[1]))"
   ]
  },
  {
   "cell_type": "code",
   "execution_count": 22,
   "id": "7da42813",
   "metadata": {},
   "outputs": [
    {
     "data": {
      "text/plain": [
       "70"
      ]
     },
     "execution_count": 22,
     "metadata": {},
     "output_type": "execute_result"
    }
   ],
   "source": [
    "len(df.columns)"
   ]
  },
  {
   "cell_type": "markdown",
   "id": "6a9aff7e",
   "metadata": {},
   "source": [
    "# Modèle"
   ]
  },
  {
   "cell_type": "code",
   "execution_count": 26,
   "id": "029ea407",
   "metadata": {},
   "outputs": [
    {
     "name": "stdout",
     "output_type": "stream",
     "text": [
      "Model: \"sequential_1\"\n",
      "_________________________________________________________________\n",
      " Layer (type)                Output Shape              Param #   \n",
      "=================================================================\n",
      " lstm_2 (LSTM)               (None, 1, 128)            101376    \n",
      "                                                                 \n",
      " lstm_3 (LSTM)               (None, 128)               131584    \n",
      "                                                                 \n",
      " dense_1 (Dense)             (None, 213)               27477     \n",
      "                                                                 \n",
      "=================================================================\n",
      "Total params: 260,437\n",
      "Trainable params: 260,437\n",
      "Non-trainable params: 0\n",
      "_________________________________________________________________\n"
     ]
    }
   ],
   "source": [
    "model = Sequential()\n",
    "\n",
    "model.add(LSTM(128, input_shape=(1,69),activation=\"relu\",return_sequences=True))\n",
    "model.add(LSTM(128,activation=\"relu\"))\n",
    "model.add(Dense(y.shape[1], activation='sigmoid'))\n",
    "\n",
    "model.compile(loss = 'binary_crossentropy', optimizer = \"adam\", metrics = ['accuracy'])\n",
    "\n",
    "model.summary()"
   ]
  },
  {
   "cell_type": "code",
   "execution_count": 27,
   "id": "3588d452",
   "metadata": {},
   "outputs": [],
   "source": [
    "earlystopping = callbacks.EarlyStopping(monitor =\"val_loss\", \n",
    "                                        mode =\"min\", \n",
    "                                        patience = 3, \n",
    "                                        restore_best_weights = True)"
   ]
  },
  {
   "cell_type": "code",
   "execution_count": 28,
   "id": "17f7bab1",
   "metadata": {},
   "outputs": [
    {
     "name": "stdout",
     "output_type": "stream",
     "text": [
      "Epoch 1/25\n",
      "11797/11797 [==============================] - 64s 5ms/step - loss: 0.0099 - accuracy: 0.6384 - val_loss: 0.0068 - val_accuracy: 0.6971\n",
      "Epoch 2/25\n",
      "11797/11797 [==============================] - 64s 5ms/step - loss: 0.0064 - accuracy: 0.7150 - val_loss: 0.0060 - val_accuracy: 0.7390\n",
      "Epoch 3/25\n",
      "11797/11797 [==============================] - 64s 5ms/step - loss: 0.0058 - accuracy: 0.7408 - val_loss: 0.0056 - val_accuracy: 0.7526\n",
      "Epoch 4/25\n",
      "11797/11797 [==============================] - 68s 6ms/step - loss: 0.0055 - accuracy: 0.7568 - val_loss: 0.0054 - val_accuracy: 0.7587\n",
      "Epoch 5/25\n",
      "11797/11797 [==============================] - 69s 6ms/step - loss: 0.0052 - accuracy: 0.7680 - val_loss: 0.0052 - val_accuracy: 0.7715\n",
      "Epoch 6/25\n",
      "11797/11797 [==============================] - 75s 6ms/step - loss: 0.0050 - accuracy: 0.7769 - val_loss: 0.0050 - val_accuracy: 0.7808\n",
      "Epoch 7/25\n",
      "11797/11797 [==============================] - 88s 7ms/step - loss: 0.0049 - accuracy: 0.7840 - val_loss: 0.0050 - val_accuracy: 0.7801\n",
      "Epoch 8/25\n",
      "11797/11797 [==============================] - 74s 6ms/step - loss: 0.0048 - accuracy: 0.7896 - val_loss: 0.0049 - val_accuracy: 0.7876\n",
      "Epoch 9/25\n",
      "11797/11797 [==============================] - 88s 7ms/step - loss: 0.0047 - accuracy: 0.7941 - val_loss: 0.0048 - val_accuracy: 0.7932\n",
      "Epoch 10/25\n",
      "11797/11797 [==============================] - 82s 7ms/step - loss: 0.0046 - accuracy: 0.7973 - val_loss: 0.0047 - val_accuracy: 0.7927\n",
      "Epoch 11/25\n",
      "11797/11797 [==============================] - 82s 7ms/step - loss: 0.0045 - accuracy: 0.8013 - val_loss: 0.0047 - val_accuracy: 0.7970\n",
      "Epoch 12/25\n",
      "11797/11797 [==============================] - 77s 7ms/step - loss: 0.0045 - accuracy: 0.8038 - val_loss: 0.0047 - val_accuracy: 0.8001\n",
      "Epoch 13/25\n",
      "11797/11797 [==============================] - 76s 6ms/step - loss: 0.0044 - accuracy: 0.8070 - val_loss: 0.0047 - val_accuracy: 0.7989\n",
      "Epoch 14/25\n",
      "11797/11797 [==============================] - 77s 6ms/step - loss: 0.0044 - accuracy: 0.8087 - val_loss: 0.0046 - val_accuracy: 0.8022\n",
      "Epoch 15/25\n",
      "11797/11797 [==============================] - 88s 7ms/step - loss: 0.0043 - accuracy: 0.8112 - val_loss: 0.0046 - val_accuracy: 0.8018\n",
      "Epoch 16/25\n",
      "11797/11797 [==============================] - 75s 6ms/step - loss: 0.0043 - accuracy: 0.8132 - val_loss: 0.0046 - val_accuracy: 0.8020\n",
      "Epoch 17/25\n",
      "11797/11797 [==============================] - 72s 6ms/step - loss: 0.0042 - accuracy: 0.8146 - val_loss: 0.0046 - val_accuracy: 0.8042\n",
      "Epoch 18/25\n",
      "11797/11797 [==============================] - 89s 8ms/step - loss: 0.0042 - accuracy: 0.8168 - val_loss: 0.0046 - val_accuracy: 0.8045\n",
      "Epoch 19/25\n",
      "11797/11797 [==============================] - 77s 7ms/step - loss: 0.0042 - accuracy: 0.8177 - val_loss: 0.0046 - val_accuracy: 0.8049\n",
      "Epoch 20/25\n",
      "11797/11797 [==============================] - 81s 7ms/step - loss: 0.0041 - accuracy: 0.8202 - val_loss: 0.0046 - val_accuracy: 0.8055\n",
      "Epoch 21/25\n",
      "11797/11797 [==============================] - 76s 6ms/step - loss: 0.0041 - accuracy: 0.8210 - val_loss: 0.0046 - val_accuracy: 0.8056\n",
      "Epoch 22/25\n",
      "11797/11797 [==============================] - 79s 7ms/step - loss: 0.0041 - accuracy: 0.8224 - val_loss: 0.0045 - val_accuracy: 0.8100\n",
      "Epoch 23/25\n",
      "11797/11797 [==============================] - 79s 7ms/step - loss: 0.0040 - accuracy: 0.8234 - val_loss: 0.0045 - val_accuracy: 0.8070\n",
      "Epoch 24/25\n",
      "11797/11797 [==============================] - 78s 7ms/step - loss: 0.0040 - accuracy: 0.8245 - val_loss: 0.0045 - val_accuracy: 0.8098\n",
      "Epoch 25/25\n",
      "11797/11797 [==============================] - 78s 7ms/step - loss: 0.0040 - accuracy: 0.8263 - val_loss: 0.0045 - val_accuracy: 0.8139\n"
     ]
    },
    {
     "data": {
      "text/plain": [
       "<keras.callbacks.History at 0x1a7169f9d60>"
      ]
     },
     "execution_count": 28,
     "metadata": {},
     "output_type": "execute_result"
    }
   ],
   "source": [
    "history = model.fit(X_train, y_train, \n",
    "                    epochs = 25, \n",
    "                    validation_data= (X_test, y_test),\n",
    "                    callbacks =[earlystopping])\n",
    "history"
   ]
  },
  {
   "cell_type": "code",
   "execution_count": 29,
   "id": "61e1aee4",
   "metadata": {},
   "outputs": [
    {
     "name": "stdout",
     "output_type": "stream",
     "text": [
      "2950/2950 [==============================] - 9s 3ms/step - loss: 0.0045 - accuracy: 0.8139\n"
     ]
    },
    {
     "data": {
      "text/plain": [
       "[0.004458919633179903, 0.8138517141342163]"
      ]
     },
     "execution_count": 29,
     "metadata": {},
     "output_type": "execute_result"
    }
   ],
   "source": [
    "accuracy = model.evaluate(X_test, y_test)\n",
    "accuracy # 0.7783 -> 0.8139"
   ]
  },
  {
   "cell_type": "markdown",
   "id": "810193dd",
   "metadata": {},
   "source": [
    "# Graph"
   ]
  },
  {
   "cell_type": "code",
   "execution_count": 30,
   "id": "fa33d2fd",
   "metadata": {},
   "outputs": [
    {
     "data": {
      "image/png": "[encoded data removed]",
      "text/plain": [
       "<Figure size 432x288 with 1 Axes>"
      ]
     },
     "metadata": {
      "needs_background": "light"
     },
     "output_type": "display_data"
    },
    {
     "data": {
      "image/png": "[encoded data removed]",
      "text/plain": [
       "<Figure size 432x288 with 1 Axes>"
      ]
     },
     "metadata": {
      "needs_background": "light"
     },
     "output_type": "display_data"
    }
   ],
   "source": [
    "# loss plot function\n",
    "def plot_loss(loss,val_loss):\n",
    "    plt.figure()\n",
    "    plt.plot(loss)\n",
    "    plt.plot(val_loss)\n",
    "    plt.title('Model loss')\n",
    "    plt.ylabel('Loss')\n",
    "    plt.xlabel('Epoch')\n",
    "    plt.legend(['Train', 'Test'], loc='upper right')  \n",
    "    plt.show()\n",
    "    \n",
    "# accuracy plot function    \n",
    "def plot_accuracy(acc,val_acc):\n",
    "    plt.figure()\n",
    "    plt.plot(acc)\n",
    "    plt.plot(val_acc)\n",
    "    plt.title('Model accuracy')\n",
    "    plt.ylabel('Accuracy')\n",
    "    plt.xlabel('Epoch')\n",
    "    plt.legend(['Train', 'Test'], loc='upper left')\n",
    "    plt.show()\n",
    "\n",
    "# plot loss and accuracy curves\n",
    "plot_loss(history.history['loss'], history.history['val_loss'])\n",
    "plot_accuracy(history.history['accuracy'], history.history['val_accuracy'])"
   ]
  },
  {
   "cell_type": "code",
   "execution_count": null,
   "id": "1e37dfb9",
   "metadata": {},
   "outputs": [],
   "source": []
  }
 ],
 "metadata": {
  "kernelspec": {
   "display_name": "Python 3 (ipykernel)",
   "language": "python",
   "name": "python3"
  },
  "language_info": {
   "codemirror_mode": {
    "name": "ipython",
    "version": 3
   },
   "file_extension": ".py",
   "mimetype": "text/x-python",
   "name": "python",
   "nbconvert_exporter": "python",
   "pygments_lexer": "ipython3",
   "version": "3.9.7"
  }
 },
 "nbformat": 4,
 "nbformat_minor": 5
}
