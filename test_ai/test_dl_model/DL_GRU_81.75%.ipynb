{
 "cells": [
  {
   "cell_type": "code",
   "execution_count": 1,
   "id": "d0b839c8",
   "metadata": {},
   "outputs": [],
   "source": [
    "import pandas as pd\n",
    "import numpy as np\n",
    "\n",
    "# Graph\n",
    "import plotly.express as px\n",
    "import matplotlib.pyplot as plt\n",
    "\n",
    "# Keras\n",
    "from keras.models import Sequential\n",
    "from keras.layers import Dense\n",
    "from keras import callbacks\n",
    "\n",
    "# sklearn\n",
    "from sklearn.preprocessing import StandardScaler\n",
    "from sklearn.model_selection import train_test_split\n",
    "from sklearn.metrics import accuracy_score\n",
    "\n",
    "# tf\n",
    "from tensorflow.keras.utils import to_categorical\n",
    "import tensorflow as tf\n",
    "from tensorflow.keras.models import Sequential\n",
    "from tensorflow.keras.layers import Dense, Dropout, LSTM, GRU\n",
    "from tensorflow.keras.layers import Embedding\n",
    "from tensorflow.keras.optimizers import SGD"
   ]
  },
  {
   "cell_type": "code",
   "execution_count": 2,
   "id": "834f021f",
   "metadata": {},
   "outputs": [],
   "source": [
    "path = r\"D:\\TRAVAIL\\Inge_3\\Projet - Prédiction du type d’application Internet dans le contexte de traffic chiffré\\network_analysis\\data\\dataset_clean.csv\""
   ]
  },
  {
   "cell_type": "code",
   "execution_count": 3,
   "id": "471e3b82",
   "metadata": {},
   "outputs": [],
   "source": [
    "TARGET = 'L7Protocol'"
   ]
  },
  {
   "cell_type": "markdown",
   "id": "514d9acb",
   "metadata": {},
   "source": [
    "# Import df"
   ]
  },
  {
   "cell_type": "code",
   "execution_count": 4,
   "id": "f0bb4e71",
   "metadata": {},
   "outputs": [],
   "source": [
    "df = pd.read_csv(path)\n",
    "\n",
    "list_protocol = [\"AMAZON\", \"MICROSOFT\", \"YOUTUBE\", \"GMAIL\", \"WINDOWS_UPDATE\", \"SKYPE\", \"FACEBOOK\", \"DROPBOX\"]\n",
    "df = df[df['ProtocolName'].isin(list_protocol)]\n",
    "df = df.drop(\n",
    "    ['Source.Port',\n",
    "     'Destination.Port',\n",
    "     'Protocol',\n",
    "     'Flow.ID',\n",
    "     'Source.IP',\n",
    "     'Destination.IP',\n",
    "     'ProtocolName'],   \n",
    "    axis=1,\n",
    ")"
   ]
  },
  {
   "cell_type": "markdown",
   "id": "762ad4cb",
   "metadata": {},
   "source": [
    "# X et y"
   ]
  },
  {
   "cell_type": "code",
   "execution_count": 5,
   "id": "0f88f16f",
   "metadata": {},
   "outputs": [],
   "source": [
    "y = df[TARGET]\n",
    "X = df.drop([TARGET],axis=1)"
   ]
  },
  {
   "cell_type": "code",
   "execution_count": 6,
   "id": "168ce5e2",
   "metadata": {},
   "outputs": [],
   "source": [
    "y = y.to_numpy()"
   ]
  },
  {
   "cell_type": "code",
   "execution_count": 7,
   "id": "45aa17d3",
   "metadata": {},
   "outputs": [],
   "source": [
    "scaler = StandardScaler()\n",
    "scaler.fit(X)\n",
    "X = scaler.transform(X)\n",
    "y = to_categorical(y)"
   ]
  },
  {
   "cell_type": "code",
   "execution_count": 8,
   "id": "63f90e56",
   "metadata": {},
   "outputs": [],
   "source": [
    "X_train, X_test, y_train, y_test = train_test_split(X, y, test_size = 0.2, random_state = 4)"
   ]
  },
  {
   "cell_type": "code",
   "execution_count": 9,
   "id": "f0f5b3d8",
   "metadata": {},
   "outputs": [],
   "source": [
    "X_train = np.reshape(X_train, (X_train.shape[0], 1, X_train.shape[1]))\n",
    "X_test = np.reshape(X_test, (X_test.shape[0], 1, X_test.shape[1]))"
   ]
  },
  {
   "cell_type": "markdown",
   "id": "6a9aff7e",
   "metadata": {},
   "source": [
    "# Modèle"
   ]
  },
  {
   "cell_type": "code",
   "execution_count": 13,
   "id": "029ea407",
   "metadata": {},
   "outputs": [
    {
     "name": "stdout",
     "output_type": "stream",
     "text": [
      "Model: \"sequential_1\"\n",
      "_________________________________________________________________\n",
      " Layer (type)                Output Shape              Param #   \n",
      "=================================================================\n",
      " gru_2 (GRU)                 (None, 1, 220)            192060    \n",
      "                                                                 \n",
      " dropout_1 (Dropout)         (None, 1, 220)            0         \n",
      "                                                                 \n",
      " gru_3 (GRU)                 (None, 220)               291720    \n",
      "                                                                 \n",
      " dense_1 (Dense)             (None, 213)               47073     \n",
      "                                                                 \n",
      "=================================================================\n",
      "Total params: 530,853\n",
      "Trainable params: 530,853\n",
      "Non-trainable params: 0\n",
      "_________________________________________________________________\n"
     ]
    }
   ],
   "source": [
    "model = Sequential()\n",
    "\n",
    "model.add(GRU(220, input_shape=(1,69), activation=\"relu\", return_sequences=True))\n",
    "model.add(Dropout(0.2))\n",
    "model.add(GRU(220,activation=\"relu\"))\n",
    "model.add(Dense(y.shape[1], activation='sigmoid'))\n",
    "\n",
    "model.compile(loss = 'binary_crossentropy', optimizer = \"adam\", metrics = ['accuracy'])\n",
    "\n",
    "model.summary()"
   ]
  },
  {
   "cell_type": "code",
   "execution_count": 14,
   "id": "3588d452",
   "metadata": {},
   "outputs": [],
   "source": [
    "earlystopping = callbacks.EarlyStopping(monitor =\"val_loss\", \n",
    "                                        mode =\"min\", \n",
    "                                        patience = 3, \n",
    "                                        restore_best_weights = True)"
   ]
  },
  {
   "cell_type": "code",
   "execution_count": 15,
   "id": "17f7bab1",
   "metadata": {},
   "outputs": [
    {
     "name": "stdout",
     "output_type": "stream",
     "text": [
      "Epoch 1/200\n",
      "11797/11797 [==============================] - 105s 9ms/step - loss: 0.0091 - accuracy: 0.6355 - val_loss: 0.0065 - val_accuracy: 0.7066\n",
      "Epoch 2/200\n",
      "11797/11797 [==============================] - 103s 9ms/step - loss: 0.0065 - accuracy: 0.7086 - val_loss: 0.0059 - val_accuracy: 0.7359\n",
      "Epoch 3/200\n",
      "11797/11797 [==============================] - 99s 8ms/step - loss: 0.0060 - accuracy: 0.7332 - val_loss: 0.0056 - val_accuracy: 0.7499\n",
      "Epoch 4/200\n",
      "11797/11797 [==============================] - 100s 8ms/step - loss: 0.0057 - accuracy: 0.7463 - val_loss: 0.0054 - val_accuracy: 0.7597\n",
      "Epoch 5/200\n",
      "11797/11797 [==============================] - 105s 9ms/step - loss: 0.0055 - accuracy: 0.7555 - val_loss: 0.0052 - val_accuracy: 0.7690\n",
      "Epoch 6/200\n",
      "11797/11797 [==============================] - 107s 9ms/step - loss: 0.0053 - accuracy: 0.7629 - val_loss: 0.0051 - val_accuracy: 0.7737\n",
      "Epoch 7/200\n",
      "11797/11797 [==============================] - 106s 9ms/step - loss: 0.0052 - accuracy: 0.7681 - val_loss: 0.0049 - val_accuracy: 0.7821\n",
      "Epoch 8/200\n",
      "11797/11797 [==============================] - 104s 9ms/step - loss: 0.0051 - accuracy: 0.7735 - val_loss: 0.0049 - val_accuracy: 0.7846\n",
      "Epoch 9/200\n",
      "11797/11797 [==============================] - 102s 9ms/step - loss: 0.0050 - accuracy: 0.7775 - val_loss: 0.0048 - val_accuracy: 0.7893\n",
      "Epoch 10/200\n",
      "11797/11797 [==============================] - 100s 8ms/step - loss: 0.0050 - accuracy: 0.7810 - val_loss: 0.0047 - val_accuracy: 0.7933\n",
      "Epoch 11/200\n",
      "11797/11797 [==============================] - 107s 9ms/step - loss: 0.0049 - accuracy: 0.7839 - val_loss: 0.0047 - val_accuracy: 0.7949\n",
      "Epoch 12/200\n",
      "11797/11797 [==============================] - 106s 9ms/step - loss: 0.0049 - accuracy: 0.7858 - val_loss: 0.0047 - val_accuracy: 0.7916\n",
      "Epoch 13/200\n",
      "11797/11797 [==============================] - 108s 9ms/step - loss: 0.0048 - accuracy: 0.7886 - val_loss: 0.0046 - val_accuracy: 0.7973\n",
      "Epoch 14/200\n",
      "11797/11797 [==============================] - 111s 9ms/step - loss: 0.0048 - accuracy: 0.7904 - val_loss: 0.0045 - val_accuracy: 0.8003\n",
      "Epoch 15/200\n",
      "11797/11797 [==============================] - 104s 9ms/step - loss: 0.0047 - accuracy: 0.7925 - val_loss: 0.0045 - val_accuracy: 0.7994\n",
      "Epoch 16/200\n",
      "11797/11797 [==============================] - 105s 9ms/step - loss: 0.0047 - accuracy: 0.7940 - val_loss: 0.0045 - val_accuracy: 0.8032\n",
      "Epoch 17/200\n",
      "11797/11797 [==============================] - 104s 9ms/step - loss: 0.0046 - accuracy: 0.7961 - val_loss: 0.0045 - val_accuracy: 0.8037\n",
      "Epoch 18/200\n",
      "11797/11797 [==============================] - 96s 8ms/step - loss: 0.0046 - accuracy: 0.7972 - val_loss: 0.0044 - val_accuracy: 0.8050\n",
      "Epoch 19/200\n",
      "11797/11797 [==============================] - 110s 9ms/step - loss: 0.0046 - accuracy: 0.7982 - val_loss: 0.0044 - val_accuracy: 0.8077\n",
      "Epoch 20/200\n",
      "11797/11797 [==============================] - 109s 9ms/step - loss: 0.0045 - accuracy: 0.8003 - val_loss: 0.0044 - val_accuracy: 0.8077\n",
      "Epoch 21/200\n",
      "11797/11797 [==============================] - 104s 9ms/step - loss: 0.0045 - accuracy: 0.8011 - val_loss: 0.0044 - val_accuracy: 0.8076\n",
      "Epoch 22/200\n",
      "11797/11797 [==============================] - 104s 9ms/step - loss: 0.0045 - accuracy: 0.8022 - val_loss: 0.0043 - val_accuracy: 0.8109\n",
      "Epoch 23/200\n",
      "11797/11797 [==============================] - 104s 9ms/step - loss: 0.0045 - accuracy: 0.8032 - val_loss: 0.0043 - val_accuracy: 0.8110\n",
      "Epoch 24/200\n",
      "11797/11797 [==============================] - 104s 9ms/step - loss: 0.0045 - accuracy: 0.8045 - val_loss: 0.0043 - val_accuracy: 0.8116\n",
      "Epoch 25/200\n",
      "11797/11797 [==============================] - 103s 9ms/step - loss: 0.0044 - accuracy: 0.8052 - val_loss: 0.0043 - val_accuracy: 0.8099\n",
      "Epoch 26/200\n",
      "11797/11797 [==============================] - 97s 8ms/step - loss: 0.0044 - accuracy: 0.8064 - val_loss: 0.0043 - val_accuracy: 0.8127\n",
      "Epoch 27/200\n",
      "11797/11797 [==============================] - 101s 9ms/step - loss: 0.0044 - accuracy: 0.8067 - val_loss: 0.0043 - val_accuracy: 0.8146\n",
      "Epoch 28/200\n",
      "11797/11797 [==============================] - 105s 9ms/step - loss: 0.0044 - accuracy: 0.8072 - val_loss: 0.0043 - val_accuracy: 0.8148\n",
      "Epoch 29/200\n",
      "11797/11797 [==============================] - 98s 8ms/step - loss: 0.0044 - accuracy: 0.8081 - val_loss: 0.0043 - val_accuracy: 0.8140\n",
      "Epoch 30/200\n",
      "11797/11797 [==============================] - 99s 8ms/step - loss: 0.0044 - accuracy: 0.8091 - val_loss: 0.0042 - val_accuracy: 0.8145\n",
      "Epoch 31/200\n",
      "11797/11797 [==============================] - 100s 9ms/step - loss: 0.0043 - accuracy: 0.8098 - val_loss: 0.0042 - val_accuracy: 0.8175\n",
      "Epoch 32/200\n",
      "11797/11797 [==============================] - 100s 9ms/step - loss: 0.0043 - accuracy: 0.8098 - val_loss: 0.0042 - val_accuracy: 0.8170\n",
      "Epoch 33/200\n",
      "11797/11797 [==============================] - 101s 9ms/step - loss: 0.0043 - accuracy: 0.8111 - val_loss: 0.0042 - val_accuracy: 0.8146\n",
      "Epoch 34/200\n",
      "11797/11797 [==============================] - 101s 9ms/step - loss: 0.0043 - accuracy: 0.8115 - val_loss: 0.0042 - val_accuracy: 0.8168\n"
     ]
    },
    {
     "data": {
      "text/plain": [
       "<keras.callbacks.History at 0x21a169e4ee0>"
      ]
     },
     "execution_count": 15,
     "metadata": {},
     "output_type": "execute_result"
    }
   ],
   "source": [
    "history = model.fit(X_train, y_train, \n",
    "                    epochs = 200, \n",
    "                    validation_data= (X_test, y_test),\n",
    "                    callbacks =[earlystopping])\n",
    "history"
   ]
  },
  {
   "cell_type": "code",
   "execution_count": 16,
   "id": "61e1aee4",
   "metadata": {},
   "outputs": [
    {
     "name": "stdout",
     "output_type": "stream",
     "text": [
      "2950/2950 [==============================] - 9s 3ms/step - loss: 0.0042 - accuracy: 0.8175\n"
     ]
    },
    {
     "data": {
      "text/plain": [
       "[0.004188035614788532, 0.8174968957901001]"
      ]
     },
     "execution_count": 16,
     "metadata": {},
     "output_type": "execute_result"
    }
   ],
   "source": [
    "accuracy = model.evaluate(X_test, y_test)\n",
    "accuracy"
   ]
  },
  {
   "cell_type": "code",
   "execution_count": 17,
   "id": "17e5dffe",
   "metadata": {},
   "outputs": [],
   "source": [
    "# Note : evolution de l'accuracy\n",
    "# 0.7215 -> 0.7853 -> 0.7903"
   ]
  },
  {
   "cell_type": "markdown",
   "id": "810193dd",
   "metadata": {},
   "source": [
    "# Graph"
   ]
  },
  {
   "cell_type": "code",
   "execution_count": 18,
   "id": "fa33d2fd",
   "metadata": {},
   "outputs": [
    {
     "data": {
      "image/png": "[encoded data removed]",
      "text/plain": [
       "<Figure size 432x288 with 1 Axes>"
      ]
     },
     "metadata": {
      "needs_background": "light"
     },
     "output_type": "display_data"
    },
    {
     "data": {
      "image/png": "[encoded data removed]",
      "text/plain": [
       "<Figure size 432x288 with 1 Axes>"
      ]
     },
     "metadata": {
      "needs_background": "light"
     },
     "output_type": "display_data"
    }
   ],
   "source": [
    "# loss plot function\n",
    "def plot_loss(loss,val_loss):\n",
    "    plt.figure()\n",
    "    plt.plot(loss)\n",
    "    plt.plot(val_loss)\n",
    "    plt.title('Model loss')\n",
    "    plt.ylabel('Loss')\n",
    "    plt.xlabel('Epoch')\n",
    "    plt.legend(['Train', 'Test'], loc='upper right')  \n",
    "    plt.show()\n",
    "    \n",
    "# accuracy plot function    \n",
    "def plot_accuracy(acc,val_acc):\n",
    "    plt.figure()\n",
    "    plt.plot(acc)\n",
    "    plt.plot(val_acc)\n",
    "    plt.title('Model accuracy')\n",
    "    plt.ylabel('Accuracy')\n",
    "    plt.xlabel('Epoch')\n",
    "    plt.legend(['Train', 'Test'], loc='upper left')\n",
    "    plt.show()\n",
    "\n",
    "# plot loss and accuracy curves\n",
    "plot_loss(history.history['loss'], history.history['val_loss'])\n",
    "plot_accuracy(history.history['accuracy'], history.history['val_accuracy'])"
   ]
  },
  {
   "cell_type": "code",
   "execution_count": null,
   "id": "1e37dfb9",
   "metadata": {},
   "outputs": [],
   "source": []
  }
 ],
 "metadata": {
  "kernelspec": {
   "display_name": "Python 3 (ipykernel)",
   "language": "python",
   "name": "python3"
  },
  "language_info": {
   "codemirror_mode": {
    "name": "ipython",
    "version": 3
   },
   "file_extension": ".py",
   "mimetype": "text/x-python",
   "name": "python",
   "nbconvert_exporter": "python",
   "pygments_lexer": "ipython3",
   "version": "3.9.7"
  }
 },
 "nbformat": 4,
 "nbformat_minor": 5
}
