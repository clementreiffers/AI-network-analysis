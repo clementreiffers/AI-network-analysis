{
 "cells": [
  {
   "cell_type": "code",
   "execution_count": 18,
   "id": "db220389",
   "metadata": {},
   "outputs": [],
   "source": [
    "import pandas as pd\n",
    "import numpy as np\n",
    "\n",
    "# Keras\n",
    "from tensorflow.keras.models import Sequential\n",
    "from keras.layers import Dense, Conv2D, Flatten\n",
    "from keras import callbacks\n",
    "\n",
    "# sklearn\n",
    "from sklearn.preprocessing import StandardScaler\n",
    "from sklearn.model_selection import train_test_split\n",
    "from sklearn.metrics import accuracy_score\n",
    "\n",
    "# tf\n",
    "from tensorflow.keras.utils import to_categorical\n",
    "import tensorflow as tf"
   ]
  },
  {
   "cell_type": "code",
   "execution_count": 2,
   "id": "8daae68f",
   "metadata": {},
   "outputs": [],
   "source": [
    "path = \"../Downloads/dataset_clean.csv\"\n",
    "TARGET = 'L7Protocol'"
   ]
  },
  {
   "cell_type": "code",
   "execution_count": 3,
   "id": "83a265cd",
   "metadata": {},
   "outputs": [],
   "source": [
    "df = pd.read_csv(path)\n",
    "\n",
    "list_protocol = [\"AMAZON\", \"MICROSOFT\", \"YOUTUBE\", \"GMAIL\", \"WINDOWS_UPDATE\", \"SKYPE\", \"FACEBOOK\", \"DROPBOX\"]\n",
    "df = df[df['ProtocolName'].isin(list_protocol)]\n",
    "df = df.drop(\n",
    "    ['Source.Port',\n",
    "     'Destination.Port',\n",
    "     'Protocol',\n",
    "     'Flow.ID',\n",
    "     'Source.IP',\n",
    "     'Destination.IP',\n",
    "     'ProtocolName'],   \n",
    "    axis=1,\n",
    ")"
   ]
  },
  {
   "cell_type": "code",
   "execution_count": 20,
   "id": "b567fb7a",
   "metadata": {},
   "outputs": [
    {
     "name": "stdout",
     "output_type": "stream",
     "text": [
      "                  Timestamp  Flow.Duration  Total.Fwd.Packets  \\\n",
      "35       26/04/201711:11:17         247289                 15   \n",
      "36       26/04/201711:11:17         243047                 21   \n",
      "37       26/04/201711:11:17          10022                  1   \n",
      "81       26/04/201711:11:18         405528                  7   \n",
      "82       26/04/201711:11:18         346773                  8   \n",
      "...                     ...            ...                ...   \n",
      "3568754  15/05/201705:35:16            328                  1   \n",
      "3568799  15/05/201705:38:33       74956125                  9   \n",
      "3568889  15/05/201705:40:17      108243326                  5   \n",
      "3568952  15/05/201705:42:32      112893912                  9   \n",
      "3569001  15/05/201705:44:52       84187272                  9   \n",
      "\n",
      "         Total.Backward.Packets  Total.Length.of.Fwd.Packets  \\\n",
      "35                            0                         1388   \n",
      "36                           17                          922   \n",
      "37                            1                            0   \n",
      "81                           33                          669   \n",
      "82                            3                          443   \n",
      "...                         ...                          ...   \n",
      "3568754                       2                            0   \n",
      "3568799                      10                          361   \n",
      "3568889                       5                          260   \n",
      "3568952                       7                          413   \n",
      "3569001                       9                          391   \n",
      "\n",
      "         Total.Length.of.Bwd.Packets  Fwd.Packet.Length.Max  \\\n",
      "35                               0.0                    258   \n",
      "36                            9330.0                    258   \n",
      "37                               0.0                      0   \n",
      "81                           17153.0                    242   \n",
      "82                            2799.0                    242   \n",
      "...                              ...                    ...   \n",
      "3568754                          0.0                      0   \n",
      "3568799                        263.0                     63   \n",
      "3568889                          0.0                     52   \n",
      "3568952                        225.0                    115   \n",
      "3569001                        263.0                    115   \n",
      "\n",
      "         Fwd.Packet.Length.Min  Fwd.Packet.Length.Mean  Fwd.Packet.Length.Std  \\\n",
      "35                           0               92.533333             112.519755   \n",
      "36                           0               43.904762              93.559021   \n",
      "37                           0                0.000000               0.000000   \n",
      "81                           0               95.571429             114.309313   \n",
      "82                           0               55.375000             103.118431   \n",
      "...                        ...                     ...                    ...   \n",
      "3568754                      0                0.000000               0.000000   \n",
      "3568799                      0               40.111111              23.592607   \n",
      "3568889                     52               52.000000               0.000000   \n",
      "3568952                      0               45.888889              33.979569   \n",
      "3569001                      0               43.444444              34.275031   \n",
      "\n",
      "         ...  act_data_pkt_fwd  min_seg_size_forward    Active.Mean  \\\n",
      "35       ...                13                    20       0.000000   \n",
      "36       ...                 4                    32       0.000000   \n",
      "37       ...                 0                    32       0.000000   \n",
      "81       ...                 6                    20       0.000000   \n",
      "82       ...                 2                    32       0.000000   \n",
      "...      ...               ...                   ...            ...   \n",
      "3568754  ...                 0                    32       0.000000   \n",
      "3568799  ...                 6                    32  309524.666667   \n",
      "3568889  ...                 4                    32    1219.500000   \n",
      "3568952  ...                 6                    32  194683.666667   \n",
      "3569001  ...                 6                    32     155.666667   \n",
      "\n",
      "            Active.Std  Active.Max  Active.Min   Idle.Mean      Idle.Std  \\\n",
      "35            0.000000         0.0         0.0         0.0  0.000000e+00   \n",
      "36            0.000000         0.0         0.0         0.0  0.000000e+00   \n",
      "37            0.000000         0.0         0.0         0.0  0.000000e+00   \n",
      "81            0.000000         0.0         0.0         0.0  0.000000e+00   \n",
      "82            0.000000         0.0         0.0         0.0  0.000000e+00   \n",
      "...                ...         ...         ...         ...           ...   \n",
      "3568754       0.000000         0.0         0.0         0.0  0.000000e+00   \n",
      "3568799  535913.275145    928344.0         1.0  24675815.0  2.909996e+05   \n",
      "3568889    2063.605017      4307.0        58.0  27059568.0  2.419064e+06   \n",
      "3568952  336898.032767    583700.0       114.0  28077439.5  1.905507e+06   \n",
      "3569001      93.382725       262.0        87.0  27804156.0  1.698505e+06   \n",
      "\n",
      "           Idle.Max    Idle.Min  \n",
      "35              0.0         0.0  \n",
      "36              0.0         0.0  \n",
      "37              0.0         0.0  \n",
      "81              0.0         0.0  \n",
      "82              0.0         0.0  \n",
      "...             ...         ...  \n",
      "3568754         0.0         0.0  \n",
      "3568799  24995402.0  24426139.0  \n",
      "3568889  29959004.0  24457039.0  \n",
      "3568952  29911982.0  25824965.0  \n",
      "3569001  29372661.0  26000216.0  \n",
      "\n",
      "[471854 rows x 68 columns]\n"
     ]
    }
   ],
   "source": [
    "y = df[TARGET]\n",
    "X = df.drop([TARGET],axis=1)\n",
    "print(X)\n",
    "y = y.to_numpy()\n",
    "#y = np.asarray(y).astype('float32')\n",
    "y = to_categorical(y)"
   ]
  },
  {
   "cell_type": "code",
   "execution_count": null,
   "id": "00c1c704",
   "metadata": {},
   "outputs": [],
   "source": [
    "X_train, X_test, y_train, y_test = train_test_split(X, y, test_size = 0.2, random_state = 4)\n",
    "#X_train = np.reshape(X_train, (X_train.shape[0], 1, X_train.shape[1]))\n",
    "#X_test = np.reshape(X_test, (X_test.shape[0], 1, X_test.shape[1]))"
   ]
  },
  {
   "cell_type": "code",
   "execution_count": null,
   "id": "f728c8f1",
   "metadata": {},
   "outputs": [],
   "source": [
    "model = Sequential()\n",
    "model.add(Conv2D(filters=32, kernel_size=3, input_shape=(28, 28, 1),\n",
    "activation='relu'))\n",
    "model.add(Conv2D(8, kernel_size=3, activation='relu'))\n",
    "model.add(Flatten())\n",
    "model.compile(optimizer='adadelta', loss='categorical_crossentropy')\n",
    "model.add(Dense(3, activation='softmax'))"
   ]
  },
  {
   "cell_type": "code",
   "execution_count": null,
   "id": "4f9f9967",
   "metadata": {},
   "outputs": [],
   "source": [
    "model.fit(X_train, y_train, epochs=20, batch_size=1, verbose=2)\n",
    "\n",
    "accuracy = model.evaluate(X_test, y_test)\n",
    "accuracy"
   ]
  },
  {
   "cell_type": "code",
   "execution_count": null,
   "id": "3fe49653",
   "metadata": {},
   "outputs": [],
   "source": []
  }
 ],
 "metadata": {
  "kernelspec": {
   "display_name": "Python 3 (ipykernel)",
   "language": "python",
   "name": "python3"
  },
  "language_info": {
   "codemirror_mode": {
    "name": "ipython",
    "version": 3
   },
   "file_extension": ".py",
   "mimetype": "text/x-python",
   "name": "python",
   "nbconvert_exporter": "python",
   "pygments_lexer": "ipython3",
   "version": "3.9.8"
  }
 },
 "nbformat": 4,
 "nbformat_minor": 5
}
