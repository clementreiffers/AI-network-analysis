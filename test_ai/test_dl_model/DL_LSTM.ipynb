{
 "cells": [
  {
   "cell_type": "code",
   "execution_count": 1,
   "id": "d0b839c8",
   "metadata": {},
   "outputs": [],
   "source": [
    "import pandas as pd\n",
    "import numpy as np\n",
    "\n",
    "# Graph\n",
    "import plotly.express as px\n",
    "import matplotlib.pyplot as plt\n",
    "\n",
    "# Keras\n",
    "from keras.models import Sequential\n",
    "from keras.layers import Dense\n",
    "from keras import callbacks\n",
    "\n",
    "# sklearn\n",
    "from sklearn.preprocessing import StandardScaler\n",
    "from sklearn.model_selection import train_test_split\n",
    "from sklearn.metrics import accuracy_score\n",
    "\n",
    "# tf\n",
    "from tensorflow.keras.utils import to_categorical\n",
    "import tensorflow as tf\n",
    "from tensorflow.keras.models import Sequential\n",
    "from tensorflow.keras.layers import Dense, Dropout, LSTM\n",
    "from tensorflow.keras.layers import Embedding\n",
    "from tensorflow.keras.optimizers import SGD"
   ]
  },
  {
   "cell_type": "code",
   "execution_count": 2,
   "id": "834f021f",
   "metadata": {},
   "outputs": [],
   "source": [
    "path = r\"D:\\TRAVAIL\\Inge_3\\Projet - Prédiction du type d’application Internet dans le contexte de traffic chiffré\\network_analysis\\data\\dataset_clean.csv\""
   ]
  },
  {
   "cell_type": "code",
   "execution_count": 3,
   "id": "471e3b82",
   "metadata": {},
   "outputs": [],
   "source": [
    "TARGET = \"L7Protocol\""
   ]
  },
  {
   "cell_type": "markdown",
   "id": "514d9acb",
   "metadata": {},
   "source": [
    "# Import df"
   ]
  },
  {
   "cell_type": "code",
   "execution_count": 4,
   "id": "f0bb4e71",
   "metadata": {},
   "outputs": [],
   "source": [
    "df = pd.read_csv(path)\n",
    "\n",
    "list_protocol = [\n",
    "    \"AMAZON\",\n",
    "    \"MICROSOFT\",\n",
    "    \"YOUTUBE\",\n",
    "    \"GMAIL\",\n",
    "    \"WINDOWS_UPDATE\",\n",
    "    \"SKYPE\",\n",
    "    \"FACEBOOK\",\n",
    "    \"DROPBOX\",\n",
    "]\n",
    "df = df[df[\"ProtocolName\"].isin(list_protocol)]\n",
    "df = df.drop(\n",
    "    [\n",
    "        \"ProtocolName\",\n",
    "        \"Month\",\n",
    "        \"Day\",\n",
    "        \"Protocol\",\n",
    "        \"ECE.Flag.Count\",\n",
    "        \"RST.Flag.Count\",\n",
    "        \"Active.Max\",\n",
    "        \"Active.Min\",\n",
    "        \"Idle.Mean\",\n",
    "        \"Idle.Max\",\n",
    "        \"Active.Mean\",\n",
    "        \"Idle.Std\",\n",
    "        \"Bwd.Packet.Length.Min\",\n",
    "        \"FIN.Flag.Count\",\n",
    "        \"Min.Packet.Length\",\n",
    "        \"Idle.Min\",\n",
    "        \"Active.Std\",\n",
    "        \"URG.Flag.Count\",\n",
    "        \"SYN.Flag.Count\",\n",
    "        \"ACK.Flag.Count\",\n",
    "        \"Fwd.Packet.Length.Min\",\n",
    "        \"Fwd.PSH.Flags\",\n",
    "        \"PSH.Flag.Count\",\n",
    "        \"Subflow.Fwd.Packets\",\n",
    "        \"Total.Fwd.Packets\",\n",
    "        \"Subflow.Bwd.Packets\",\n",
    "        \"Subflow.Bwd.Bytes\",\n",
    "        \"Total.Length.of.Bwd.Packets\",\n",
    "        \"Down.Up.Ratio\",\n",
    "        \"Bwd.Header.Length\",\n",
    "        \"Packet.Length.Variance\",\n",
    "        \"Packet.Length.Mean\",\n",
    "        \"Subflow.Fwd.Bytes\",\n",
    "        \"Max.Packet.Length\",\n",
    "        \"Packet.Length.Std\",\n",
    "        \"min_seg_size_forward\",\n",
    "        \"Fwd.IAT.Max\",\n",
    "        \"Average.Packet.Size\",\n",
    "        \"Flow.IAT.Mean\",\n",
    "        \"Flow.Packets.s\",\n",
    "        \"Fwd.Packet.Length.Max\",\n",
    "        \"act_data_pkt_fwd\",\n",
    "        \"Fwd.Header.Length\",\n",
    "        \"Fwd.Header.Length.1\",\n",
    "        \"Avg.Bwd.Segment.Size\",\n",
    "        \"Bwd.Packet.Length.Min\",\n",
    "        \"Total.Backward.Packets\",\n",
    "        \"Bwd.Packet.Length.Max\",\n",
    "        \"Bwd.Packet.Length.Std\",\n",
    "        \"Flow.IAT.Std\",\n",
    "        \"Bwd.IAT.Min\",\n",
    "        \"Fwd.IAT.Total\",\n",
    "        \"Fwd.IAT.Std\",\n",
    "        \"Flow.ID\",\n",
    "        \"Source.IP\",\n",
    "        \"Destination.IP\",\n",
    "        \"Bwd.Packet.Length.Mean\",\n",
    "    ],\n",
    "    axis=1,\n",
    ")"
   ]
  },
  {
   "cell_type": "markdown",
   "id": "762ad4cb",
   "metadata": {},
   "source": [
    "# X et y"
   ]
  },
  {
   "cell_type": "code",
   "execution_count": 32,
   "id": "0f88f16f",
   "metadata": {},
   "outputs": [],
   "source": [
    "# y = pd.get_dummies(df[TARGET])\n",
    "y = df[TARGET]\n",
    "X = df.drop([TARGET], axis=1)"
   ]
  },
  {
   "cell_type": "code",
   "execution_count": 34,
   "id": "168ce5e2",
   "metadata": {},
   "outputs": [],
   "source": [
    "y = y.to_numpy()"
   ]
  },
  {
   "cell_type": "code",
   "execution_count": 36,
   "id": "45aa17d3",
   "metadata": {},
   "outputs": [],
   "source": [
    "scaler = StandardScaler()\n",
    "scaler.fit(X)\n",
    "X = scaler.transform(X)\n",
    "y = to_categorical(y)"
   ]
  },
  {
   "cell_type": "code",
   "execution_count": 37,
   "id": "63f90e56",
   "metadata": {},
   "outputs": [],
   "source": [
    "X_train, X_test, y_train, y_test = train_test_split(X, y, test_size=0.2, random_state=4)"
   ]
  },
  {
   "cell_type": "code",
   "execution_count": 38,
   "id": "f0f5b3d8",
   "metadata": {},
   "outputs": [],
   "source": [
    "X_train = np.reshape(X_train, (X_train.shape[0], 1, X.shape[1]))\n",
    "X_test = np.reshape(X_test, (X_test.shape[0], 1, X.shape[1]))"
   ]
  },
  {
   "cell_type": "markdown",
   "id": "6a9aff7e",
   "metadata": {},
   "source": [
    "# Modèle"
   ]
  },
  {
   "cell_type": "code",
   "execution_count": 39,
   "id": "029ea407",
   "metadata": {},
   "outputs": [
    {
     "name": "stdout",
     "output_type": "stream",
     "text": [
      "Model: \"sequential_3\"\n",
      "_________________________________________________________________\n",
      " Layer (type)                Output Shape              Param #   \n",
      "=================================================================\n",
      " lstm_6 (LSTM)               (None, 1, 128)            76288     \n",
      "                                                                 \n",
      " lstm_7 (LSTM)               (None, 128)               131584    \n",
      "                                                                 \n",
      " dense_3 (Dense)             (None, 213)               27477     \n",
      "                                                                 \n",
      "=================================================================\n",
      "Total params: 235,349\n",
      "Trainable params: 235,349\n",
      "Non-trainable params: 0\n",
      "_________________________________________________________________\n"
     ]
    }
   ],
   "source": [
    "model = Sequential()\n",
    "model.add(LSTM(128, input_shape=(1, 20), activation=\"relu\", return_sequences=True))\n",
    "model.add(LSTM(128, activation=\"relu\"))\n",
    "model.add(Dense(y.shape[1], activation=\"sigmoid\"))\n",
    "model.compile(loss=\"binary_crossentropy\", optimizer=\"adam\", metrics=[\"accuracy\"])\n",
    "\n",
    "model.summary()"
   ]
  },
  {
   "cell_type": "code",
   "execution_count": 40,
   "id": "3588d452",
   "metadata": {},
   "outputs": [],
   "source": [
    "earlystopping = callbacks.EarlyStopping(\n",
    "    monitor=\"val_loss\", mode=\"min\", patience=3, restore_best_weights=True\n",
    ")"
   ]
  },
  {
   "cell_type": "code",
   "execution_count": 41,
   "id": "17f7bab1",
   "metadata": {},
   "outputs": [
    {
     "name": "stdout",
     "output_type": "stream",
     "text": [
      "Epoch 1/25\n",
      "11797/11797 [==============================] - 64s 5ms/step - loss: 0.0126 - accuracy: 0.5407 - val_loss: 0.0086 - val_accuracy: 0.6101\n",
      "Epoch 2/25\n",
      "11797/11797 [==============================] - 65s 5ms/step - loss: 0.0079 - accuracy: 0.6568 - val_loss: 0.0075 - val_accuracy: 0.6794\n",
      "Epoch 3/25\n",
      "11797/11797 [==============================] - 63s 5ms/step - loss: 0.0072 - accuracy: 0.6929 - val_loss: 0.0070 - val_accuracy: 0.7019\n",
      "Epoch 4/25\n",
      "11797/11797 [==============================] - 62s 5ms/step - loss: 0.0067 - accuracy: 0.7104 - val_loss: 0.0066 - val_accuracy: 0.7172\n",
      "Epoch 5/25\n",
      "11797/11797 [==============================] - 75s 6ms/step - loss: 0.0064 - accuracy: 0.7217 - val_loss: 0.0064 - val_accuracy: 0.7287\n",
      "Epoch 6/25\n",
      "11797/11797 [==============================] - 75s 6ms/step - loss: 0.0063 - accuracy: 0.7299 - val_loss: 0.0062 - val_accuracy: 0.7337\n",
      "Epoch 7/25\n",
      "11797/11797 [==============================] - 67s 6ms/step - loss: 0.0061 - accuracy: 0.7367 - val_loss: 0.0060 - val_accuracy: 0.7408\n",
      "Epoch 8/25\n",
      "11797/11797 [==============================] - 66s 6ms/step - loss: 0.0059 - accuracy: 0.7429 - val_loss: 0.0059 - val_accuracy: 0.7454\n",
      "Epoch 9/25\n",
      "11797/11797 [==============================] - 62s 5ms/step - loss: 0.0058 - accuracy: 0.7479 - val_loss: 0.0059 - val_accuracy: 0.7450\n",
      "Epoch 10/25\n",
      "11797/11797 [==============================] - 63s 5ms/step - loss: 0.0057 - accuracy: 0.7515 - val_loss: 0.0057 - val_accuracy: 0.7505\n",
      "Epoch 11/25\n",
      "11797/11797 [==============================] - 62s 5ms/step - loss: 0.0056 - accuracy: 0.7550 - val_loss: 0.0057 - val_accuracy: 0.7537\n",
      "Epoch 12/25\n",
      "11797/11797 [==============================] - 62s 5ms/step - loss: 0.0055 - accuracy: 0.7587 - val_loss: 0.0057 - val_accuracy: 0.7543\n",
      "Epoch 13/25\n",
      "11797/11797 [==============================] - 63s 5ms/step - loss: 0.0055 - accuracy: 0.7624 - val_loss: 0.0056 - val_accuracy: 0.7575\n",
      "Epoch 14/25\n",
      "11797/11797 [==============================] - 64s 5ms/step - loss: 0.0054 - accuracy: 0.7638 - val_loss: 0.0055 - val_accuracy: 0.7580\n",
      "Epoch 15/25\n",
      "11797/11797 [==============================] - 63s 5ms/step - loss: 0.0053 - accuracy: 0.7671 - val_loss: 0.0054 - val_accuracy: 0.7663\n",
      "Epoch 16/25\n",
      "11797/11797 [==============================] - 78s 7ms/step - loss: 0.0053 - accuracy: 0.7687 - val_loss: 0.0054 - val_accuracy: 0.7670\n",
      "Epoch 17/25\n",
      "11797/11797 [==============================] - 96s 8ms/step - loss: 0.0053 - accuracy: 0.7708 - val_loss: 0.0054 - val_accuracy: 0.7654\n",
      "Epoch 18/25\n",
      "11797/11797 [==============================] - 96s 8ms/step - loss: 0.0052 - accuracy: 0.7722 - val_loss: 0.0053 - val_accuracy: 0.7685\n",
      "Epoch 19/25\n",
      "11797/11797 [==============================] - 73s 6ms/step - loss: 0.0052 - accuracy: 0.7742 - val_loss: 0.0053 - val_accuracy: 0.7705\n",
      "Epoch 20/25\n",
      "11797/11797 [==============================] - 75s 6ms/step - loss: 0.0051 - accuracy: 0.7762 - val_loss: 0.0054 - val_accuracy: 0.7690\n",
      "Epoch 21/25\n",
      "11797/11797 [==============================] - 80s 7ms/step - loss: 0.0051 - accuracy: 0.7775 - val_loss: 0.0053 - val_accuracy: 0.7710\n",
      "Epoch 22/25\n",
      "11797/11797 [==============================] - 75s 6ms/step - loss: 0.0051 - accuracy: 0.7794 - val_loss: 0.0053 - val_accuracy: 0.7737\n",
      "Epoch 23/25\n",
      "11797/11797 [==============================] - 72s 6ms/step - loss: 0.0050 - accuracy: 0.7803 - val_loss: 0.0053 - val_accuracy: 0.7742\n",
      "Epoch 24/25\n",
      "11797/11797 [==============================] - 67s 6ms/step - loss: 0.0050 - accuracy: 0.7820 - val_loss: 0.0052 - val_accuracy: 0.7760\n",
      "Epoch 25/25\n",
      "11797/11797 [==============================] - 73s 6ms/step - loss: 0.0050 - accuracy: 0.7831 - val_loss: 0.0052 - val_accuracy: 0.7727\n"
     ]
    },
    {
     "data": {
      "text/plain": [
       "<keras.callbacks.History at 0x192129f0e20>"
      ]
     },
     "execution_count": 41,
     "metadata": {},
     "output_type": "execute_result"
    }
   ],
   "source": [
    "history = model.fit(\n",
    "    X_train,\n",
    "    y_train,\n",
    "    epochs=25,\n",
    "    validation_data=(X_test, y_test),\n",
    "    callbacks=[earlystopping],\n",
    ")\n",
    "history"
   ]
  },
  {
   "cell_type": "code",
   "execution_count": 42,
   "id": "61e1aee4",
   "metadata": {},
   "outputs": [
    {
     "name": "stdout",
     "output_type": "stream",
     "text": [
      "2950/2950 [==============================] - 7s 2ms/step - loss: 0.0052 - accuracy: 0.7727\n"
     ]
    },
    {
     "data": {
      "text/plain": [
       "[0.005232400260865688, 0.7727267742156982]"
      ]
     },
     "execution_count": 42,
     "metadata": {},
     "output_type": "execute_result"
    }
   ],
   "source": [
    "accuracy = model.evaluate(X_test, y_test)\n",
    "accuracy  # 0.7783"
   ]
  },
  {
   "cell_type": "markdown",
   "id": "810193dd",
   "metadata": {},
   "source": [
    "# Graph"
   ]
  },
  {
   "cell_type": "code",
   "execution_count": 43,
   "id": "fa33d2fd",
   "metadata": {},
   "outputs": [
    {
     "data": {
      "image/png": "[encoded data removed]",
      "text/plain": [
       "<Figure size 432x288 with 1 Axes>"
      ]
     },
     "metadata": {
      "needs_background": "light"
     },
     "output_type": "display_data"
    },
    {
     "data": {
      "image/png": "[encoded data removed]",
      "text/plain": [
       "<Figure size 432x288 with 1 Axes>"
      ]
     },
     "metadata": {
      "needs_background": "light"
     },
     "output_type": "display_data"
    }
   ],
   "source": [
    "# loss plot function\n",
    "def plot_loss(loss, val_loss):\n",
    "    plt.figure()\n",
    "    plt.plot(loss)\n",
    "    plt.plot(val_loss)\n",
    "    plt.title(\"Model loss\")\n",
    "    plt.ylabel(\"Loss\")\n",
    "    plt.xlabel(\"Epoch\")\n",
    "    plt.legend([\"Train\", \"Test\"], loc=\"upper right\")\n",
    "    plt.show()\n",
    "\n",
    "\n",
    "# accuracy plot function\n",
    "def plot_accuracy(acc, val_acc):\n",
    "    plt.figure()\n",
    "    plt.plot(acc)\n",
    "    plt.plot(val_acc)\n",
    "    plt.title(\"Model accuracy\")\n",
    "    plt.ylabel(\"Accuracy\")\n",
    "    plt.xlabel(\"Epoch\")\n",
    "    plt.legend([\"Train\", \"Test\"], loc=\"upper left\")\n",
    "    plt.show()\n",
    "\n",
    "\n",
    "# plot loss and accuracy curves\n",
    "plot_loss(history.history[\"loss\"], history.history[\"val_loss\"])\n",
    "plot_accuracy(history.history[\"accuracy\"], history.history[\"val_accuracy\"])"
   ]
  },
  {
   "cell_type": "code",
   "execution_count": null,
   "id": "1e37dfb9",
   "metadata": {},
   "outputs": [],
   "source": []
  }
 ],
 "metadata": {
  "kernelspec": {
   "display_name": "Python 3 (ipykernel)",
   "language": "python",
   "name": "python3"
  },
  "language_info": {
   "codemirror_mode": {
    "name": "ipython",
    "version": 3
   },
   "file_extension": ".py",
   "mimetype": "text/x-python",
   "name": "python",
   "nbconvert_exporter": "python",
   "pygments_lexer": "ipython3",
   "version": "3.9.7"
  }
 },
 "nbformat": 4,
 "nbformat_minor": 5
}
